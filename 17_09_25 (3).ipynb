{
  "cells": [
    {
      "cell_type": "code",
      "execution_count": null,
      "metadata": {
        "colab": {
          "base_uri": "https://localhost:8080/"
        },
        "id": "7sOmdRsaNlbB",
        "outputId": "1feab169-3d7b-4dbb-f8e0-14c362497f38"
      },
      "outputs": [
        {
          "name": "stdout",
          "output_type": "stream",
          "text": [
            "Hello World\n"
          ]
        }
      ],
      "source": [
        "print(\"Hello World\")"
      ]
    },
    {
      "cell_type": "code",
      "execution_count": null,
      "metadata": {
        "colab": {
          "base_uri": "https://localhost:8080/"
        },
        "id": "r5qKLvwTNNU4",
        "outputId": "809964df-4279-4ae1-f170-04da9d711974"
      },
      "outputs": [
        {
          "name": "stdout",
          "output_type": "stream",
          "text": [
            "Pramila\n"
          ]
        }
      ],
      "source": [
        "print(\"Pramila\")"
      ]
    },
    {
      "cell_type": "code",
      "execution_count": null,
      "metadata": {
        "colab": {
          "base_uri": "https://localhost:8080/"
        },
        "id": "NKe6oDidKE1P",
        "outputId": "37d8a2ee-f2cc-4438-8366-fe2cafdab29a"
      },
      "outputs": [
        {
          "name": "stdout",
          "output_type": "stream",
          "text": [
            "KLE BK BCA College Chikodi\n"
          ]
        }
      ],
      "source": [
        "print(\"KLE BK BCA College Chikodi\")"
      ]
    },
    {
      "cell_type": "code",
      "execution_count": null,
      "metadata": {
        "colab": {
          "base_uri": "https://localhost:8080/"
        },
        "id": "azs-aL4lIHXx",
        "outputId": "4f773adc-d137-4fba-c660-2e96e627252b"
      },
      "outputs": [
        {
          "name": "stdout",
          "output_type": "stream",
          "text": [
            "10\n"
          ]
        }
      ],
      "source": [
        "a=10\n",
        "print(a)"
      ]
    },
    {
      "cell_type": "code",
      "execution_count": null,
      "metadata": {
        "colab": {
          "base_uri": "https://localhost:8080/"
        },
        "id": "LecQNu0hIQ5n",
        "outputId": "63f44bfa-3162-41c9-c9ef-c8158574bba2"
      },
      "outputs": [
        {
          "name": "stdout",
          "output_type": "stream",
          "text": [
            "Hello worldHello worldHello world\n"
          ]
        }
      ],
      "source": [
        "print(\"Hello world\"*3)"
      ]
    },
    {
      "cell_type": "code",
      "execution_count": null,
      "metadata": {
        "colab": {
          "base_uri": "https://localhost:8080/"
        },
        "id": "blSYewuQIE65",
        "outputId": "95f3d3c7-7f08-4030-f0e4-9a361f859928"
      },
      "outputs": [
        {
          "name": "stdout",
          "output_type": "stream",
          "text": [
            "33.333333333333336\n"
          ]
        }
      ],
      "source": [
        "print(100/3)"
      ]
    },
    {
      "cell_type": "code",
      "execution_count": null,
      "metadata": {
        "colab": {
          "base_uri": "https://localhost:8080/"
        },
        "id": "RNYg5UQSJyTE",
        "outputId": "e2184706-d632-4f02-d782-deaf1f6e4060"
      },
      "outputs": [
        {
          "name": "stdout",
          "output_type": "stream",
          "text": [
            "python programming language \n",
            " python programming language \n",
            " python programming language \n",
            " python programming language \n",
            " python programming language \n",
            " \n"
          ]
        }
      ],
      "source": [
        "print(\"python programming language \\n \"*5)"
      ]
    },
    {
      "cell_type": "code",
      "execution_count": null,
      "metadata": {
        "colab": {
          "base_uri": "https://localhost:8080/"
        },
        "id": "onX-uMX2Kepg",
        "outputId": "503cff03-b26a-4d33-a1c2-94bedca9767b"
      },
      "outputs": [
        {
          "name": "stdout",
          "output_type": "stream",
          "text": [
            "My name is Pramila S Sankapal\n",
            " I am from vadagol\n",
            " I have complited pu college in Majalatti\n",
            " Now I am persuving BCA in B.K College Chikodi\n",
            "\n"
          ]
        }
      ],
      "source": [
        "print(\"My name is Pramila S Sankapal\\n I am from vadagol\\n I have complited pu college in Majalatti\\n Now I am persuving BCA in B.K College Chikodi\\n\")"
      ]
    },
    {
      "cell_type": "code",
      "execution_count": null,
      "metadata": {
        "colab": {
          "base_uri": "https://localhost:8080/"
        },
        "id": "oaX1bzTlMJ38",
        "outputId": "ed94dd86-a0ba-46a9-f3fa-feca07fd0b71"
      },
      "outputs": [
        {
          "name": "stdout",
          "output_type": "stream",
          "text": [
            "HelloWorld\n"
          ]
        }
      ],
      "source": [
        "print(\"Hello\"+ \"World\")"
      ]
    },
    {
      "cell_type": "code",
      "execution_count": null,
      "metadata": {
        "colab": {
          "base_uri": "https://localhost:8080/"
        },
        "id": "gSQvekGDMkNo",
        "outputId": "75afaa1d-5058-4d4a-90ab-a289c270055b"
      },
      "outputs": [
        {
          "name": "stdout",
          "output_type": "stream",
          "text": [
            "Good morning\n",
            "Good morning\n",
            "Good morning\n",
            "Good morning\n",
            "Good morning\n",
            "Good morning\n",
            "Good morning\n",
            "Good morning\n",
            "Good morning\n",
            "Good morning\n",
            "\n"
          ]
        }
      ],
      "source": [
        "print(\"Good morning\\n\"*10)"
      ]
    },
    {
      "cell_type": "code",
      "execution_count": null,
      "metadata": {
        "colab": {
          "base_uri": "https://localhost:8080/"
        },
        "id": "pVSjbBbQKHnF",
        "outputId": "c80f8cf5-d222-4b81-e881-788e5b17caa9"
      },
      "outputs": [
        {
          "name": "stdout",
          "output_type": "stream",
          "text": [
            "Pramila\n"
          ]
        }
      ],
      "source": [
        "name = \"Pramila\"\n",
        "print(name)"
      ]
    },
    {
      "cell_type": "code",
      "execution_count": null,
      "metadata": {
        "colab": {
          "base_uri": "https://localhost:8080/"
        },
        "id": "L8bQJzlGORBu",
        "outputId": "47ba78b6-71ed-4b31-93cf-bbaba078440b"
      },
      "outputs": [
        {
          "name": "stdout",
          "output_type": "stream",
          "text": [
            "kannada=100\n",
            " English=97\n",
            " Physics=80\n",
            " Chemistry=85\n",
            " Mathematics=90\n",
            " Biology=95\n",
            "\n"
          ]
        }
      ],
      "source": [
        "print(\"kannada=100\\n English=97\\n Physics=80\\n Chemistry=85\\n Mathematics=90\\n Biology=95\\n\")"
      ]
    },
    {
      "cell_type": "code",
      "execution_count": null,
      "metadata": {
        "colab": {
          "base_uri": "https://localhost:8080/"
        },
        "id": "KpI3b75GQOIY",
        "outputId": "3d2a9bab-0dab-43e9-8ec6-9edd1d48b844"
      },
      "outputs": [
        {
          "name": "stdout",
          "output_type": "stream",
          "text": [
            "Computer\n"
          ]
        }
      ],
      "source": [
        "_N_A_M_E = \"Computer\"\n",
        "print(_N_A_M_E)"
      ]
    },
    {
      "cell_type": "code",
      "execution_count": null,
      "metadata": {
        "colab": {
          "base_uri": "https://localhost:8080/"
        },
        "id": "V4xw9AMBWC2K",
        "outputId": "f16cb4ad-8ce7-4ab6-ad53-f230dba172b3"
      },
      "outputs": [
        {
          "name": "stdout",
          "output_type": "stream",
          "text": [
            "19 19\n"
          ]
        }
      ],
      "source": [
        "Age = 19\n",
        "age = 19\n",
        "print(Age,age)"
      ]
    },
    {
      "cell_type": "code",
      "execution_count": null,
      "metadata": {
        "colab": {
          "base_uri": "https://localhost:8080/"
        },
        "id": "B8AFEfWcWvHZ",
        "outputId": "1ad6936b-3289-467e-e7fa-28a885d63cc7"
      },
      "outputs": [
        {
          "name": "stdout",
          "output_type": "stream",
          "text": [
            "15 15\n"
          ]
        }
      ],
      "source": [
        "x=10\n",
        "x=15\n",
        "print(x,x)"
      ]
    },
    {
      "cell_type": "code",
      "execution_count": null,
      "metadata": {
        "colab": {
          "base_uri": "https://localhost:8080/"
        },
        "id": "V_zHcz2rXRr9",
        "outputId": "b1971478-976d-414a-f4d1-d57c02150a5d"
      },
      "outputs": [
        {
          "name": "stdout",
          "output_type": "stream",
          "text": [
            "3.24\n"
          ]
        }
      ],
      "source": [
        "Y=3.24\n",
        "print(Y)"
      ]
    },
    {
      "cell_type": "code",
      "execution_count": null,
      "metadata": {
        "colab": {
          "base_uri": "https://localhost:8080/"
        },
        "id": "39o_h_FuXyuT",
        "outputId": "7b80e463-7a9c-4ffa-bd87-247f3e0a1f52"
      },
      "outputs": [
        {
          "name": "stdout",
          "output_type": "stream",
          "text": [
            "True\n"
          ]
        }
      ],
      "source": [
        "yes = True\n",
        "print(yes)"
      ]
    },
    {
      "cell_type": "code",
      "execution_count": null,
      "metadata": {
        "colab": {
          "base_uri": "https://localhost:8080/"
        },
        "id": "dVZ4kgWlYAng",
        "outputId": "0c58e863-d507-40d5-cd83-0f9ba4a977ad"
      },
      "outputs": [
        {
          "name": "stdout",
          "output_type": "stream",
          "text": [
            "Pramila\n"
          ]
        }
      ],
      "source": [
        "Name = 121\n",
        "print(name)"
      ]
    },
    {
      "cell_type": "code",
      "execution_count": null,
      "metadata": {
        "colab": {
          "base_uri": "https://localhost:8080/"
        },
        "id": "BqmUGOf8YbTw",
        "outputId": "888e2a61-4881-48eb-e400-cd9e5b575ec2"
      },
      "outputs": [
        {
          "name": "stdout",
          "output_type": "stream",
          "text": [
            "Chikodi\n"
          ]
        }
      ],
      "source": [
        "NA_12_ME = \"Chikodi\"\n",
        "print(NA_12_ME)"
      ]
    },
    {
      "cell_type": "code",
      "execution_count": null,
      "metadata": {
        "colab": {
          "base_uri": "https://localhost:8080/"
        },
        "id": "N5ttlUE1ZBmx",
        "outputId": "edf9cf1a-d255-437a-ffa2-a020cb461804"
      },
      "outputs": [
        {
          "name": "stdout",
          "output_type": "stream",
          "text": [
            "college 67.34\n"
          ]
        }
      ],
      "source": [
        "name = \"college\"\n",
        "per = 67.34\n",
        "print(name,per)"
      ]
    },
    {
      "cell_type": "code",
      "execution_count": null,
      "metadata": {
        "colab": {
          "base_uri": "https://localhost:8080/"
        },
        "id": "0BDAHDVkZkUh",
        "outputId": "9a3c4a8c-4928-4228-b021-09b1926c2e51"
      },
      "outputs": [
        {
          "name": "stdout",
          "output_type": "stream",
          "text": [
            "My name is Pramila I'm stutying in BK College\n"
          ]
        }
      ],
      "source": [
        "College = \"BK College\"\n",
        "Name = \"Pramila\"\n",
        "print(\"My name is\",Name,\"I'm stutying in\",College)\n"
      ]
    },
    {
      "cell_type": "code",
      "execution_count": null,
      "metadata": {
        "colab": {
          "base_uri": "https://localhost:8080/"
        },
        "id": "VZHaTKNHgZVA",
        "outputId": "796f23f4-f3b5-42d0-bc5b-741ea20c2832"
      },
      "outputs": [
        {
          "name": "stdout",
          "output_type": "stream",
          "text": [
            "Hello Good Evening How are you i am fine,where are you from I'm from chikodi so nice\n"
          ]
        }
      ],
      "source": [
        "# Hello Good Evening,How are you,i'am fine, where are you from i'm from chikodi,so nice\n",
        "text = \"Good Evening\"\n",
        "address = \"I'm from chikodi\"\n",
        "print(\"Hello\",text,\"How are you\",\"i am fine,where are you from\",address,\"so nice\")"
      ]
    },
    {
      "cell_type": "code",
      "execution_count": null,
      "metadata": {
        "colab": {
          "base_uri": "https://localhost:8080/"
        },
        "id": "l1E-LgbLMMkq",
        "outputId": "90ce1a1f-b228-42a8-cb29-7f728622987b"
      },
      "outputs": [
        {
          "name": "stdout",
          "output_type": "stream",
          "text": [
            "Good morning\n"
          ]
        }
      ],
      "source": [
        "print(\"Good morning\")"
      ]
    },
    {
      "cell_type": "code",
      "execution_count": null,
      "metadata": {
        "colab": {
          "base_uri": "https://localhost:8080/"
        },
        "id": "aw89WPQeMkf5",
        "outputId": "0928c926-aafb-447d-c7e8-17e7e6030add"
      },
      "outputs": [
        {
          "name": "stdout",
          "output_type": "stream",
          "text": [
            "good morning 18\n"
          ]
        }
      ],
      "source": [
        "a,b,c =\"good\",\"morning\",18\n",
        "print(a,b,c)"
      ]
    },
    {
      "cell_type": "code",
      "execution_count": null,
      "metadata": {
        "colab": {
          "base_uri": "https://localhost:8080/"
        },
        "id": "z6gZJ7S0N1xe",
        "outputId": "550d9068-4c2e-42fe-f2d3-37e8dcdd0d19"
      },
      "outputs": [
        {
          "name": "stdout",
          "output_type": "stream",
          "text": [
            "1001 1001 1001\n"
          ]
        }
      ],
      "source": [
        "X=Y=Z=1001\n",
        "print(X,Y,Z)"
      ]
    },
    {
      "cell_type": "code",
      "execution_count": null,
      "metadata": {
        "colab": {
          "base_uri": "https://localhost:8080/"
        },
        "id": "tkAvTghtOIIz",
        "outputId": "25210cf3-551e-4147-9576-29dbb019c255"
      },
      "outputs": [
        {
          "name": "stdout",
          "output_type": "stream",
          "text": [
            "College 25 ('College', 25)\n"
          ]
        }
      ],
      "source": [
        "A=B,C=\"College\",25\n",
        "print(B,C,A)"
      ]
    },
    {
      "cell_type": "code",
      "execution_count": null,
      "metadata": {
        "colab": {
          "base_uri": "https://localhost:8080/"
        },
        "id": "IXWNUKVqOjl_",
        "outputId": "c4fc0fd4-acca-44fd-8133-60d5cee0c956"
      },
      "outputs": [
        {
          "name": "stdout",
          "output_type": "stream",
          "text": [
            "Addition of 10 and 20 is= 30\n"
          ]
        }
      ],
      "source": [
        "A=10\n",
        "B=20\n",
        "print(\"Addition of\",A,\"and\",B,\"is=\",A+B)"
      ]
    },
    {
      "cell_type": "code",
      "execution_count": null,
      "metadata": {
        "colab": {
          "base_uri": "https://localhost:8080/"
        },
        "id": "bB6pQ4ywSVib",
        "outputId": "82eaa14e-7ab6-4ce8-be79-e535b851ba14"
      },
      "outputs": [
        {
          "name": "stdout",
          "output_type": "stream",
          "text": [
            "<class 'int'>\n"
          ]
        }
      ],
      "source": [
        "A=10\n",
        "print(type(A))"
      ]
    },
    {
      "cell_type": "code",
      "execution_count": null,
      "metadata": {
        "colab": {
          "base_uri": "https://localhost:8080/"
        },
        "id": "uPrGv50DTQtq",
        "outputId": "ec92e4f8-6d71-4f35-cc8a-ac165a57c6c8"
      },
      "outputs": [
        {
          "name": "stdout",
          "output_type": "stream",
          "text": [
            "<class 'int'>\n"
          ]
        }
      ],
      "source": [
        "X=35\n",
        "print(type(X))"
      ]
    },
    {
      "cell_type": "code",
      "execution_count": null,
      "metadata": {
        "colab": {
          "base_uri": "https://localhost:8080/"
        },
        "id": "-v7dO19eU1-7",
        "outputId": "e5722205-572d-4294-ae1c-5bdba83eb858"
      },
      "outputs": [
        {
          "name": "stdout",
          "output_type": "stream",
          "text": [
            "<class 'int'>\n"
          ]
        }
      ],
      "source": [
        "y=-100\n",
        "print(type(y))\n"
      ]
    },
    {
      "cell_type": "code",
      "execution_count": null,
      "metadata": {
        "colab": {
          "base_uri": "https://localhost:8080/"
        },
        "id": "u5j7xvEmVJfp",
        "outputId": "450599e5-8e25-430f-97ea-d4b327874ba4"
      },
      "outputs": [
        {
          "name": "stdout",
          "output_type": "stream",
          "text": [
            "<class 'int'>\n"
          ]
        }
      ],
      "source": [
        "value=0\n",
        "print(type(value))"
      ]
    },
    {
      "cell_type": "code",
      "execution_count": null,
      "metadata": {
        "colab": {
          "base_uri": "https://localhost:8080/"
        },
        "id": "Eq19ZCOoVYwh",
        "outputId": "9c286920-78ba-4974-db48-7aa690d4be24"
      },
      "outputs": [
        {
          "name": "stdout",
          "output_type": "stream",
          "text": [
            "<class 'float'>\n"
          ]
        }
      ],
      "source": [
        "value=3.33\n",
        "print(type(value))"
      ]
    },
    {
      "cell_type": "code",
      "execution_count": null,
      "metadata": {
        "colab": {
          "base_uri": "https://localhost:8080/"
        },
        "id": "Y9re2h2PXB1d",
        "outputId": "abaaa3c3-29a6-4552-abdb-40cd1d574ee5"
      },
      "outputs": [
        {
          "name": "stdout",
          "output_type": "stream",
          "text": [
            "<class 'float'>\n"
          ]
        }
      ],
      "source": [
        "Number=-100.33333\n",
        "print(type(Number))"
      ]
    },
    {
      "cell_type": "code",
      "execution_count": null,
      "metadata": {
        "colab": {
          "base_uri": "https://localhost:8080/"
        },
        "id": "4FlN-x9zXccq",
        "outputId": "92840b6b-44c9-4c6e-a7cb-91e0221aca79"
      },
      "outputs": [
        {
          "name": "stdout",
          "output_type": "stream",
          "text": [
            "<class 'float'>\n"
          ]
        }
      ],
      "source": [
        "Run=+20.0\n",
        "print(type(Run))"
      ]
    },
    {
      "cell_type": "code",
      "execution_count": null,
      "metadata": {
        "colab": {
          "base_uri": "https://localhost:8080/"
        },
        "id": "cugbXo2pXwvv",
        "outputId": "97400a27-f94e-4d99-d0c5-0ed14b9f9797"
      },
      "outputs": [
        {
          "name": "stdout",
          "output_type": "stream",
          "text": [
            "True\n"
          ]
        }
      ],
      "source": [
        "yes=True\n",
        "print(yes)"
      ]
    },
    {
      "cell_type": "code",
      "execution_count": null,
      "metadata": {
        "colab": {
          "base_uri": "https://localhost:8080/"
        },
        "id": "T0whcWdqYDiL",
        "outputId": "b39dce86-9f8e-4a04-f59a-8efcef56a515"
      },
      "outputs": [
        {
          "name": "stdout",
          "output_type": "stream",
          "text": [
            "<class 'int'>\n"
          ]
        }
      ],
      "source": [
        "yes=18\n",
        "print(type(yes))"
      ]
    },
    {
      "cell_type": "code",
      "execution_count": null,
      "metadata": {
        "colab": {
          "base_uri": "https://localhost:8080/"
        },
        "id": "ulRTIzMXYd7g",
        "outputId": "184099ac-3ad1-4239-b21d-835b203ebf29"
      },
      "outputs": [
        {
          "name": "stdout",
          "output_type": "stream",
          "text": [
            "<class 'str'>\n"
          ]
        }
      ],
      "source": [
        "yes=\"False\"\n",
        "print(type(yes))"
      ]
    },
    {
      "cell_type": "code",
      "execution_count": null,
      "metadata": {
        "colab": {
          "base_uri": "https://localhost:8080/"
        },
        "id": "6eq7SBrmZPYE",
        "outputId": "4ad38847-1065-4c01-9777-c200884e3abd"
      },
      "outputs": [
        {
          "name": "stdout",
          "output_type": "stream",
          "text": [
            "<class 'str'>\n"
          ]
        }
      ],
      "source": [
        "Roll_number=\"101\"\n",
        "print(type(Roll_number))"
      ]
    },
    {
      "cell_type": "code",
      "execution_count": null,
      "metadata": {
        "colab": {
          "base_uri": "https://localhost:8080/"
        },
        "id": "uR8AGYk6Zj1l",
        "outputId": "9fdf6bbc-47be-441d-821c-af88900524dc"
      },
      "outputs": [
        {
          "name": "stdout",
          "output_type": "stream",
          "text": [
            "<class 'str'>\n"
          ]
        }
      ],
      "source": [
        "Section = '''c'''\n",
        "print(type(Section))"
      ]
    },
    {
      "cell_type": "code",
      "execution_count": null,
      "metadata": {
        "colab": {
          "base_uri": "https://localhost:8080/"
        },
        "id": "GxjavD6Cbid9",
        "outputId": "be84ba7e-0bd4-48f8-f94b-509341e9ef8d"
      },
      "outputs": [
        {
          "name": "stdout",
          "output_type": "stream",
          "text": [
            "<class 'str'>\n"
          ]
        }
      ],
      "source": [
        "programe=\"\"\"program\"\"\"\n",
        "print(type(programe))"
      ]
    },
    {
      "cell_type": "code",
      "execution_count": null,
      "metadata": {
        "colab": {
          "base_uri": "https://localhost:8080/"
        },
        "id": "NDuwGL2Kc0Y7",
        "outputId": "c03a6e85-1d22-4ff2-dbf6-1d2133eee93d"
      },
      "outputs": [
        {
          "name": "stdout",
          "output_type": "stream",
          "text": [
            "Python programming languages\n"
          ]
        }
      ],
      "source": [
        "string=\"Python programming languages\"\n",
        "print(string)"
      ]
    },
    {
      "cell_type": "code",
      "execution_count": null,
      "metadata": {
        "colab": {
          "base_uri": "https://localhost:8080/"
        },
        "id": "EOkqJZnCdOPc",
        "outputId": "2dcea4a5-60ca-4a78-9eb3-00337af2d00f"
      },
      "outputs": [
        {
          "name": "stdout",
          "output_type": "stream",
          "text": [
            "BK\n",
            " college\n",
            "\n",
            "BK\n",
            " college\n",
            "\n",
            "BK\n",
            " college\n",
            "\n",
            "BK\n",
            " college\n",
            "\n",
            "BK\n",
            " college\n",
            "\n",
            "\n"
          ]
        }
      ],
      "source": [
        "first=\"BK\\n\"\n",
        "second=\"college\\n\"\n",
        "print(((first +\" \"+second)+\"\\n\")*5)"
      ]
    },
    {
      "cell_type": "code",
      "execution_count": null,
      "metadata": {
        "colab": {
          "base_uri": "https://localhost:8080/"
        },
        "id": "ZJ4NJoeCkI7Y",
        "outputId": "e5b7d54d-79b8-4673-eb9d-f1ccba6c3411"
      },
      "outputs": [
        {
          "name": "stdout",
          "output_type": "stream",
          "text": [
            "n\n",
            "e\n",
            " \n",
            "hon program\n",
            "python programming l\n",
            " programming languages\n",
            "python programming language\n",
            " programming langu\n",
            "python programming languages\n",
            "pto rgamn agae\n",
            "segaugnal gnimmargorp nohtyp\n",
            "san iao hp\n"
          ]
        }
      ],
      "source": [
        "Name=\"python programming languages\"\n",
        "print(Name[5])\n",
        "print(Name[-2])\n",
        "print(Name[18])\n",
        "print(Name[3:14])\n",
        "print(Name[:20])\n",
        "print(Name[6:])\n",
        "print(Name[:-1])\n",
        "print(Name[-22:-4])\n",
        "print(Name[::1])\n",
        "print(Name[::2])\n",
        "print(Name[::-1])\n",
        "print(Name[::-3])"
      ]
    },
    {
      "cell_type": "code",
      "execution_count": null,
      "metadata": {
        "colab": {
          "base_uri": "https://localhost:8080/"
        },
        "id": "nCyrLKT0pmw8",
        "outputId": "6809c018-4f82-4552-b895-5958db5ba123"
      },
      "outputs": [
        {
          "name": "stdout",
          "output_type": "stream",
          "text": [
            "multi line comments\n",
            "hi,Good Morning\n",
            "\n"
          ]
        }
      ],
      "source": [
        "Details='''multi line comments\n",
        "hi,Good Morning\n",
        "'''\n",
        "print(Details)"
      ]
    },
    {
      "cell_type": "code",
      "execution_count": null,
      "metadata": {
        "colab": {
          "base_uri": "https://localhost:8080/"
        },
        "id": "6DGfeH_Q4Lzy",
        "outputId": "baf5c46d-1c70-4ff6-c63b-6e389d11ba46"
      },
      "outputs": [
        {
          "name": "stdout",
          "output_type": "stream",
          "text": [
            "[101]\n",
            "<class 'list'>\n",
            "[101, 'Pramila']\n"
          ]
        }
      ],
      "source": [
        "list1=[101]\n",
        "print(list1)\n",
        "print(type(list1))\n",
        "list1.append(\"Pramila\")\n",
        "print(list1)"
      ]
    },
    {
      "cell_type": "code",
      "execution_count": null,
      "metadata": {
        "colab": {
          "base_uri": "https://localhost:8080/"
        },
        "id": "RXPpfFazOS1F",
        "outputId": "a24a2b6f-1f28-42a7-8033-3e011f79a8e4"
      },
      "outputs": [
        {
          "name": "stdout",
          "output_type": "stream",
          "text": [
            "[101]\n",
            "<class 'list'>\n",
            "[101, 85.12]\n",
            "[101, 85.12, True]\n",
            "3\n",
            "True\n",
            "[101, 85.12]\n",
            "Pramila\n",
            "[101, 85.12, 'pramila']\n",
            "[101, 85.12, 'pramila', -99]\n",
            "4\n",
            "pramila\n",
            "-99\n",
            "[101, 85.12, 'pramila', -99, 'BK college chikodi']\n",
            "5\n",
            "[101, 85.12, 'pramila', 99, 'BK college chikodi']\n",
            "pramila99\n",
            "['pramila', 99]\n",
            "[101, 85.12, False, 'pramila', 99, 'BK college chikodi']\n",
            "[101, 85.12, 'pramila', 99, 'BK college chikodi']\n",
            "5\n",
            "BK college chikodi\n",
            "['BK college chikodi', 99, 'pramila', 85.12, 101]\n",
            "1\n",
            "None\n",
            "[]\n",
            "<class 'list'>\n"
          ]
        }
      ],
      "source": [
        "from logging import debug\n",
        "details=[101]\n",
        "print(details)#101\n",
        "print(type(details))#list\n",
        "details.append(85.12)\n",
        "print(details)#101,85.12\n",
        "details.append(True)\n",
        "print(details)#101,85.12,True\n",
        "print(len(details))\n",
        "print(details.pop())\n",
        "print(details)\n",
        "print(\"Pramila\")\n",
        "details.append(\"pramila\")\n",
        "print(details)\n",
        "details.append(-99)\n",
        "print(details)\n",
        "print(len(details))\n",
        "print(details[2])\n",
        "print(details[-1])\n",
        "details.append(\"BK college chikodi\")\n",
        "print(details)\n",
        "print(len(details))\n",
        "details[3]=99\n",
        "print(details)\n",
        "print(\"pramila99\")\n",
        "print(details[2:4])\n",
        "details.insert(2,False)\n",
        "print(details)\n",
        "details.remove(False)\n",
        "print(details)\n",
        "print(len(details))\n",
        "print(details[4])\n",
        "print(details[::-1])\n",
        "print(details.count(101))\n",
        "print(details.clear())\n",
        "print(details)\n",
        "print(type(details))\n"
      ]
    },
    {
      "cell_type": "code",
      "execution_count": null,
      "metadata": {
        "colab": {
          "base_uri": "https://localhost:8080/"
        },
        "id": "pAclYJUvbdz8",
        "outputId": "ac2fcfe6-4587-4e1f-9150-29f876c0e308"
      },
      "outputs": [
        {
          "name": "stdout",
          "output_type": "stream",
          "text": [
            "[110]\n",
            "<class 'list'>\n",
            "[110, 92.45]\n",
            "[110, 92.45, True]\n",
            "3\n",
            "True\n",
            "[110, 92.45]\n",
            "Pramila\n",
            "[110, 92.45, 'Pramila']\n",
            "[110, 92.45, 'Pramila', -97]\n",
            "4\n",
            "-97\n",
            "Pramila\n",
            "[110, 92.45, 'Pramila', -97, 'BK college chikodi']\n",
            "5\n",
            "[110, 92.45, 'Pramila', -97, 97]\n",
            "Pramila97\n",
            "[]\n",
            "[110, 92.45, 'Pramila', False, -97, 97]\n",
            "[110, 92.45, 'Pramila', -97, 97]\n",
            "5\n",
            "-97\n",
            "[97, 'Pramila', 110]\n",
            "1\n",
            "None\n",
            "[]\n",
            "<class 'list'>\n"
          ]
        }
      ],
      "source": [
        "from re import I\n",
        "information=[110]\n",
        "print(information)#110\n",
        "print(type(information))#list\n",
        "information.append(92.45)\n",
        "print(information)#110,92.45\n",
        "information.append(True)\n",
        "print(information)#110,92.45,True\n",
        "print(len(information))\n",
        "print(information.pop())\n",
        "print(information)\n",
        "print(\"Pramila\")\n",
        "information.append(\"Pramila\")\n",
        "print(information)\n",
        "information.append(-97)\n",
        "print(information)\n",
        "print(len(information))\n",
        "print(information[3])\n",
        "print(information[-2])\n",
        "information.append(\"BK college chikodi\")\n",
        "print(information)\n",
        "print(len(information))\n",
        "information[4]=97\n",
        "print(information)\n",
        "print(\"Pramila97\")\n",
        "print(information[3:2])\n",
        "information.insert(3,False)\n",
        "print(information)\n",
        "information.remove(False)\n",
        "print(information)\n",
        "print(len(information))\n",
        "print(information[3])\n",
        "print(information[::-2])\n",
        "print(information.count(110))\n",
        "print(information.clear())\n",
        "print(information)\n",
        "print(type(information))"
      ]
    },
    {
      "cell_type": "code",
      "execution_count": null,
      "metadata": {
        "colab": {
          "base_uri": "https://localhost:8080/"
        },
        "id": "YRXvkKiy57zk",
        "outputId": "b374b882-b69c-4373-f4eb-47e6010c0965"
      },
      "outputs": [
        {
          "name": "stdout",
          "output_type": "stream",
          "text": [
            "6\n"
          ]
        }
      ],
      "source": [
        "# Address = 2010\n",
        "print(3+3)"
      ]
    },
    {
      "cell_type": "code",
      "execution_count": null,
      "metadata": {
        "colab": {
          "base_uri": "https://localhost:8080/"
        },
        "id": "nswXzOo267Gf",
        "outputId": "37c39e38-a4fb-43a8-db41-12b1747fc65e"
      },
      "outputs": [
        {
          "name": "stdout",
          "output_type": "stream",
          "text": [
            "(1, 'Triveni', 3.12, False, 1)\n",
            "5\n",
            "<class 'tuple'>\n",
            "2\n",
            "(1, 'Triveni', 3.12)\n",
            "False\n",
            "1\n"
          ]
        }
      ],
      "source": [
        "Example = (1,\"Triveni\",3.12,False,1)\n",
        "print(Example)\n",
        "print(len(Example))\n",
        "print(type(Example))\n",
        "print(Example.count(1))\n",
        "print(Example[0:3])\n",
        "print(Example[3])\n",
        "print(Example[-1])\n",
        "\n"
      ]
    },
    {
      "cell_type": "code",
      "execution_count": null,
      "metadata": {
        "colab": {
          "base_uri": "https://localhost:8080/"
        },
        "id": "s7PvR1eG_Mq0",
        "outputId": "74375bfc-fe0e-43af-d7a5-bc065fcfb174"
      },
      "outputs": [
        {
          "name": "stdout",
          "output_type": "stream",
          "text": [
            "(2, 4, 7, 9, 3, 9, 3, 2)\n",
            "(2, 4, 7, 9, 3, 9, 3, 2, 2, 4, 5, 7)\n",
            "(2, 4, 5, 7, 2, 4, 5, 7, 2, 4, 5, 7, 2, 4, 5, 7)\n"
          ]
        }
      ],
      "source": [
        "Number = (2,4,7,9,3,9,3,2)\n",
        "print(Number)\n",
        "Add = (2,4,5,7)\n",
        "print(Number + Add)\n",
        "print(Add*4)\n"
      ]
    },
    {
      "cell_type": "code",
      "execution_count": null,
      "metadata": {
        "colab": {
          "base_uri": "https://localhost:8080/"
        },
        "id": "IsiabmupCQmj",
        "outputId": "679d571e-3f0e-46a5-8a8b-43e9d715993a"
      },
      "outputs": [
        {
          "name": "stdout",
          "output_type": "stream",
          "text": [
            "{1, 2, 3, 4, 5}\n",
            "<class 'set'>\n",
            "5\n",
            "{1, 2, 3, 4, 5, 10}\n",
            "{'BKC', 1, 2, 3, 4, 5, 10}\n"
          ]
        }
      ],
      "source": [
        "Example = {1,2,2,3,4,5}\n",
        "print(Example)\n",
        "print(type(Example))\n",
        "print(len(Example))\n",
        "Example.add(10)\n",
        "print(Example)\n",
        "Example.add(\"BKC\")\n",
        "print(Example)\n"
      ]
    },
    {
      "cell_type": "code",
      "execution_count": null,
      "metadata": {
        "colab": {
          "base_uri": "https://localhost:8080/"
        },
        "id": "ZKA3yzY3EMCg",
        "outputId": "43446969-df2b-497b-a131-f0a781f5b104"
      },
      "outputs": [
        {
          "name": "stdout",
          "output_type": "stream",
          "text": [
            "{1, 2, 3, 4, 5, 6, 7}\n",
            "<class 'set'>\n",
            "7\n",
            "{'BKC', 1, 2, 3, 4, 5, 6, 7}\n",
            "{1, 2, 3, 4, 5, 6, 7, 'BKC', 33.14}\n",
            "{1, 2, 3, 4, 5, 6, 7, 'True', 'BKC', 33.14}\n",
            "1\n",
            "{2, 3, 4, 5, 6, 7, 'True', 'BKC', 33.14}\n",
            "{2, 3, 5, 6, 7, 'True', 'BKC', 33.14}\n"
          ]
        }
      ],
      "source": [
        "ex = {1,2,2,3,4,4,5,6,7}\n",
        "print(ex)\n",
        "print(type(ex))\n",
        "print(len(ex))\n",
        "ex.add(\"BKC\")\n",
        "print(ex)\n",
        "ex.add(33.14)\n",
        "print(ex)\n",
        "ex.add(\"True\")\n",
        "print(ex)\n",
        "print(ex.pop())\n",
        "print(ex)\n",
        "ex.remove(4)\n",
        "print(ex)\n",
        "\n",
        "\n"
      ]
    },
    {
      "cell_type": "code",
      "execution_count": null,
      "metadata": {
        "colab": {
          "base_uri": "https://localhost:8080/"
        },
        "id": "4vCQAyAvHXY_",
        "outputId": "ad7e33c4-c3c2-4f30-bf83-72499aa1ee7f"
      },
      "outputs": [
        {
          "name": "stdout",
          "output_type": "stream",
          "text": [
            "{1, 2, 3, 4, 5, 6}\n",
            "{1, 2, 3, 4, 5, 6}\n",
            "{3, 4}\n",
            "{3, 4}\n",
            "{1, 2}\n",
            "{1, 2}\n",
            "{5, 6}\n",
            "{5, 6}\n"
          ]
        }
      ],
      "source": [
        "first = {1,2,3,4,4,2}\n",
        "second = {3,5,4,6}\n",
        "print(first | second)\n",
        "print(first.union(second))\n",
        "print(first&second)\n",
        "print(first.intersection(second))\n",
        "print(first-second)\n",
        "print(first.difference(second))\n",
        "print(second-first)\n",
        "print(second.difference(first))"
      ]
    },
    {
      "cell_type": "code",
      "execution_count": null,
      "metadata": {
        "colab": {
          "base_uri": "https://localhost:8080/"
        },
        "id": "XY_NhjblLg86",
        "outputId": "3551d635-ffeb-4d61-fc39-3a87057a4de1"
      },
      "outputs": [
        {
          "name": "stdout",
          "output_type": "stream",
          "text": [
            "{'Roll_number': 186, 'Name': 'Pramila', 'Address': 'Vadagol', 'CGPA': 7.53, 'Course': 'BCA', 'Year': 2025}\n",
            "6\n",
            "{'Roll_number': 186, 'Name': 'Pramila', 'Address': 'Vadagol', 'CGPA': 7.53, 'Course': 'BCA', 'Year': 2025, 'Gender': 'Female'}\n",
            "{'Roll_number': 186, 'Name': 'Pramila', 'Address': 'Vadagol', 'CGPA': 7.53, 'Course': 'BCA', 'Year': 2025, 'Gender': 'Female', 'College': 'Majalatti'}\n",
            "{'Roll_number': 186, 'Name': 'Pramila', 'Address': 'Vadagol', 'CGPA': 7.53, 'Course': 'BCA', 'Year': 2025, 'Gender': 'Female', 'College': 'Belagavi University'}\n",
            "{'Roll_number': 186, 'Name': 'Pramila', 'Address': 'Vadagol', 'CGPA': 7.53, 'Course': 'BCA', 'Year': 2025, 'College': 'Belagavi University'}\n",
            "{'Roll_number': 186, 'Name': 'Pramila', 'Address': 'Vadagol', 'CGPA': 7.53, 'Course': 'BCA', 'Year': 2025, 'College': 'Belagavi University', 'Gender': 'Female'}\n",
            "Belagavi University\n",
            "19\n",
            "{'Roll_number': 186, 'Name': 'Pramila', 'CGPA': 7.53, 'Course': 'BCA', 'Year': 2025, 'College': 'Belagavi University', 'Gender': 'Female', 'Age': 19}\n",
            "8\n",
            "{'Roll_number': 186, 'Name': 'Pramila', 'CGPA': 7.53, 'Course': 'BCA', 'Year': 2025, 'College': 'Belagavi University', 'Gender': 'Female', 'Age': 19}\n",
            "{'Roll_number': 186, 'Name': 'Pramila', 'CGPA': 7.53, 'Course': 'BCA', 'Year': 2025, 'College': 'Belagavi University', 'Gender': 'Female'}\n",
            "dict_keys(['Roll_number', 'Name', 'CGPA', 'Course', 'Year', 'College', 'Gender'])\n",
            "dict_values([186, 'Pramila', 7.53, 'BCA', 2025, 'Belagavi University', 'Female'])\n",
            "dict_items([('Roll_number', 186), ('Name', 'Pramila'), ('CGPA', 7.53), ('Course', 'BCA'), ('Year', 2025), ('College', 'Belagavi University'), ('Gender', 'Female')])\n",
            "None\n"
          ]
        }
      ],
      "source": [
        "Dict = {\"Roll_number\" :    186,\n",
        "        \"Name\"        :   \"Pramila\",\n",
        "        \"Address\"     :   \"Vadagol\",\n",
        "        \"CGPA\"        :    7.53,\n",
        "        \"Course\"      :    \"BCA\",\n",
        "        \"Year\"        :    2025\n",
        "}\n",
        "print(Dict)\n",
        "print(len(Dict))\n",
        "Dict[\"Gender\"] = \"Female\"\n",
        "print(Dict)\n",
        "Dict[\"College\"] = \"Majalatti\"\n",
        "print(Dict)\n",
        "Dict[\"College\"] = \"Belagavi University\"\n",
        "print(Dict)\n",
        "del Dict[\"Gender\"]\n",
        "print(Dict)\n",
        "Dict[\"Gender\"] = \"Female\"\n",
        "print(Dict)\n",
        "print(Dict[\"College\"])\n",
        "Dict[\"Age\"] = 19\n",
        "print(Dict[\"Age\"])\n",
        "Dict.pop(\"Address\")\n",
        "print(Dict)\n",
        "print(len(Dict))\n",
        "print(Dict)\n",
        "Dict.popitem()\n",
        "print(Dict)\n",
        "print(Dict.keys())\n",
        "print(Dict.values())\n",
        "print(Dict.items())\n",
        "print(Dict.clear())\n"
      ]
    },
    {
      "cell_type": "code",
      "execution_count": null,
      "metadata": {
        "colab": {
          "base_uri": "https://localhost:8080/"
        },
        "id": "zOeFQLqIVoRU",
        "outputId": "5d97e037-0020-4ea4-a28f-a872db7e8149"
      },
      "outputs": [
        {
          "name": "stdout",
          "output_type": "stream",
          "text": [
            "{'Roll_number': 166, 'Name': 'Triveni', 'Address': 'Toranahalli', 'CGPA': 8.64, 'Course': 'BCA', 'Year': 2025}\n",
            "6\n",
            "{'Roll_number': 166, 'Name': 'Triveni', 'Address': 'Toranahalli', 'CGPA': 8.64, 'Course': 'BCA', 'Year': 2025, 'Gender': 'Female'}\n"
          ]
        }
      ],
      "source": [
        "Type = {\"Roll_number\" :   166,\n",
        "        \"Name\"        :   \"Triveni\",\n",
        "        \"Address\"     :   \"Toranahalli\",\n",
        "        \"CGPA\"        :    8.64,\n",
        "        \"Course\"      :    \"BCA\",\n",
        "        \"Year\"        :    2025\n",
        "}\n",
        "print(Type)\n",
        "print(len(Type))\n",
        "Type[\"Gender\"] = \"Female\"\n",
        "print(Type)\n"
      ]
    },
    {
      "cell_type": "code",
      "execution_count": null,
      "metadata": {
        "colab": {
          "base_uri": "https://localhost:8080/"
        },
        "id": "b3xNL0onYSOL",
        "outputId": "15512e80-cee0-40a5-bdd5-f56147b9175a"
      },
      "outputs": [
        {
          "name": "stdout",
          "output_type": "stream",
          "text": [
            "{'Employe_id': 1001, 'Employe_Name': 'Abhi', 'Contact_number': 6372534685, 'Salary': 200000, 'Email_id': 'abhi2005@gmail.com', 'Company': 'Microsoft', 'Employe_habbit': 'Gaming', 'Pin_code': '591244', 'Country': 'India'}\n",
            "{'Employe_id': 1001, 'Employe_Name': 'Abhi', 'Contact_number': 6372534685, 'Salary': 200000, 'Email_id': 'abhi2005@gmail.com', 'Company': 'Microsoft', 'Employe_habbit': 'Gaming', 'Pin_code': '591244', 'Country': 'India'}\n",
            "9\n",
            "200000\n",
            "9\n",
            "('Department', 'Developer')\n",
            "dict_keys(['Employe_id', 'Employe_Name', 'Contact_number', 'Salary', 'Company', 'Employe_habbit', 'Pin_code', 'Country'])\n",
            "dict_values([1001, 'Abhi', 6372534685, 200000, 'Microsoft', 'Gaming', '591244', 'India'])\n"
          ]
        }
      ],
      "source": [
        "Employe = { \"Employe_id\"     :  1001,\n",
        "            \"Employe_Name\"   : \"Abhi\",\n",
        "            \"Contact_number\" :  6372534685,\n",
        "            \"Salary\"         :  200000,\n",
        "            \"Email_id\"       : \"abhi2005@gmail.com\",\n",
        "            \"Company\"        : \"Microsoft\",\n",
        "            \"Employe_habbit\" : \"Gaming\",\n",
        "            \"Pin_code\"       : \"591244\",\n",
        "            \"Country\"        : \"India\"\n",
        "\n",
        "\n",
        "}\n",
        "print(Employe)\n",
        "Employe[\"Country\"] = \"India\"\n",
        "Employe[\"Pin_code\"] = \"591244\"\n",
        "print(Employe)\n",
        "print(len(Employe))\n",
        "print(Employe[\"Salary\"])\n",
        "Employe.pop(\"Email_id\")\n",
        "Employe[\"Department\"] =\"Developer\"\n",
        "print(len(Employe))\n",
        "print(Employe.popitem())\n",
        "print(Employe.keys())\n",
        "print(Employe.values())\n",
        "\n"
      ]
    },
    {
      "cell_type": "code",
      "execution_count": null,
      "metadata": {
        "colab": {
          "base_uri": "https://localhost:8080/"
        },
        "id": "ZiNTZW5QkrL8",
        "outputId": "adfead40-166a-46d1-ac6b-949d40b7b3c5"
      },
      "outputs": [
        {
          "name": "stdout",
          "output_type": "stream",
          "text": [
            "{'Name': 'Pramila', 'name': 'Pramila', 'F_name': 'Pramila', 'L_name': 'Pramila'}\n"
          ]
        }
      ],
      "source": [
        "Name = {\"Name\" : \"Pramila\",\n",
        "        \"name\" : \"Pramila\",\n",
        "        \"F_name\" : \"Pramila\",\n",
        "        \"L_name\" : \"Pramila\"\n",
        "}\n",
        "print(Name)\n"
      ]
    },
    {
      "cell_type": "code",
      "execution_count": null,
      "metadata": {
        "colab": {
          "base_uri": "https://localhost:8080/"
        },
        "id": "_PmmfPRLKh_O",
        "outputId": "4422f6e6-3022-4d9b-acdf-28bd79b19311"
      },
      "outputs": [
        {
          "name": "stdout",
          "output_type": "stream",
          "text": [
            "<class 'int'>\n",
            "<class 'int'>\n",
            "3.3333333333333335\n",
            "<class 'float'>\n"
          ]
        }
      ],
      "source": [
        "a = 10\n",
        "b = 3\n",
        "c = a/b\n",
        "print(type(a))\n",
        "print(type(b))\n",
        "print(a/b)\n",
        "print(type(c))"
      ]
    },
    {
      "cell_type": "code",
      "execution_count": null,
      "metadata": {
        "colab": {
          "base_uri": "https://localhost:8080/"
        },
        "id": "d6HzjOKLL-51",
        "outputId": "36c77257-549c-4e91-85fa-d2f2ada881f4"
      },
      "outputs": [
        {
          "name": "stdout",
          "output_type": "stream",
          "text": [
            "13\n",
            "<class 'int'>\n",
            "<class 'int'>\n",
            "<class 'int'>\n",
            "<class 'float'>\n"
          ]
        }
      ],
      "source": [
        "a = 10\n",
        "b = 3\n",
        "c = a+b\n",
        "print(a+b)\n",
        "print(type(a))\n",
        "print(type(b))\n",
        "print(type(c))\n",
        "print(type(a/b))"
      ]
    },
    {
      "cell_type": "code",
      "execution_count": null,
      "metadata": {
        "colab": {
          "base_uri": "https://localhost:8080/"
        },
        "id": "0rXODO1PNfRF",
        "outputId": "80cbbbfb-9eb7-4f9b-842c-ec7cc223d84b"
      },
      "outputs": [
        {
          "name": "stdout",
          "output_type": "stream",
          "text": [
            "<class 'float'>\n"
          ]
        }
      ],
      "source": [
        "#\n",
        "i=20\n",
        "j=5.5\n",
        "k=i+j\n",
        "print(type(k))"
      ]
    },
    {
      "cell_type": "code",
      "execution_count": null,
      "metadata": {
        "colab": {
          "base_uri": "https://localhost:8080/"
        },
        "id": "x9C_OiDhN1Wz",
        "outputId": "022ea63e-87cd-4495-ba84-db12a01a981d"
      },
      "outputs": [
        {
          "name": "stdout",
          "output_type": "stream",
          "text": [
            "<class 'float'>\n"
          ]
        }
      ],
      "source": [
        "# int -> float\n",
        "i=20\n",
        "j=5.5\n",
        "k=i+j\n",
        "print(type(k))"
      ]
    },
    {
      "cell_type": "code",
      "execution_count": null,
      "metadata": {
        "colab": {
          "base_uri": "https://localhost:8080/"
        },
        "id": "KZVXIe6WOSr8",
        "outputId": "cd016919-3fd8-4d5f-de30-910a55e0831a"
      },
      "outputs": [
        {
          "name": "stdout",
          "output_type": "stream",
          "text": [
            "<class 'float'>\n"
          ]
        }
      ],
      "source": [
        "# int -> float\n",
        "a=49\n",
        "b=7\n",
        "print(type(a/b))"
      ]
    },
    {
      "cell_type": "code",
      "execution_count": null,
      "metadata": {
        "colab": {
          "base_uri": "https://localhost:8080/"
        },
        "id": "08wSOShNOrcj",
        "outputId": "73e423b9-c6c1-4ad3-b349-4be4ef400611"
      },
      "outputs": [
        {
          "name": "stdout",
          "output_type": "stream",
          "text": [
            "<class 'bool'>\n",
            "<class 'int'>\n"
          ]
        }
      ],
      "source": [
        "i=True\n",
        "print(type(i))\n",
        "j=5\n",
        "print(type(i+j))\n"
      ]
    },
    {
      "cell_type": "code",
      "execution_count": null,
      "metadata": {
        "colab": {
          "base_uri": "https://localhost:8080/"
        },
        "id": "kFXUC2oUPaer",
        "outputId": "179d04fb-0611-4d54-8554-37dc9b6e8e0b"
      },
      "outputs": [
        {
          "name": "stdout",
          "output_type": "stream",
          "text": [
            "<class 'float'>\n"
          ]
        }
      ],
      "source": [
        "M=2.9\n",
        "N=False\n",
        "O=M-N\n",
        "print(type(O))"
      ]
    },
    {
      "cell_type": "code",
      "execution_count": null,
      "metadata": {
        "colab": {
          "base_uri": "https://localhost:8080/"
        },
        "id": "9XMM7mLcQBDa",
        "outputId": "611a31bc-13f9-44ae-b154-6d23c1722c24"
      },
      "outputs": [
        {
          "name": "stdout",
          "output_type": "stream",
          "text": [
            "<class 'int'>\n"
          ]
        }
      ],
      "source": [
        "p=True\n",
        "Q=False\n",
        "R=p+Q\n",
        "print(type(R))"
      ]
    },
    {
      "cell_type": "code",
      "execution_count": null,
      "metadata": {
        "colab": {
          "base_uri": "https://localhost:8080/"
        },
        "id": "axzPeygdQYf6",
        "outputId": "2c8190fd-4f8c-4976-f94d-930f464df7e4"
      },
      "outputs": [
        {
          "name": "stdout",
          "output_type": "stream",
          "text": [
            "<class 'float'>\n"
          ]
        }
      ],
      "source": [
        "S=2.6\n",
        "T=False\n",
        "print(type(S*T))"
      ]
    },
    {
      "cell_type": "code",
      "execution_count": null,
      "metadata": {
        "colab": {
          "base_uri": "https://localhost:8080/"
        },
        "id": "NJq9cb-2R6kC",
        "outputId": "a7f57049-1fc9-491a-e66c-107fc8581950"
      },
      "outputs": [
        {
          "name": "stdout",
          "output_type": "stream",
          "text": [
            "<class 'float'>\n",
            "<class 'int'>\n",
            "<class 'float'>\n"
          ]
        }
      ],
      "source": [
        "#Implicit\n",
        "num = 3.12\n",
        "print(type(num))\n",
        "# Explicit\n",
        "add = int(num)\n",
        "print(type(add))\n",
        "mul = float(add)\n",
        "print(type(mul))"
      ]
    },
    {
      "cell_type": "code",
      "execution_count": null,
      "metadata": {
        "colab": {
          "base_uri": "https://localhost:8080/"
        },
        "id": "0_IzdSIKTuWQ",
        "outputId": "661ad0b5-53ed-4b15-adbd-e68a1106a1e6"
      },
      "outputs": [
        {
          "name": "stdout",
          "output_type": "stream",
          "text": [
            "<class 'str'>\n",
            "<class 'int'>\n",
            "<class 'bool'>\n",
            "<class 'int'>\n"
          ]
        }
      ],
      "source": [
        "Num = \"101\"\n",
        "print(type(Num))\n",
        "\n",
        "# Explicit\n",
        "add = int(Num)\n",
        "print(type(add))\n",
        "\n",
        "\n",
        "Men = True\n",
        "print(type(Men))\n",
        "\n",
        "Fem = int(Men)\n",
        "print(type(Fem))\n",
        "\n"
      ]
    },
    {
      "cell_type": "code",
      "execution_count": null,
      "metadata": {
        "colab": {
          "base_uri": "https://localhost:8080/"
        },
        "id": "GvMaHaOwWCm9",
        "outputId": "fba7c5d3-093a-4330-aff8-1028ace058a2"
      },
      "outputs": [
        {
          "name": "stdout",
          "output_type": "stream",
          "text": [
            "<class 'str'>\n"
          ]
        }
      ],
      "source": [
        "print(type(str(100)))"
      ]
    },
    {
      "cell_type": "code",
      "execution_count": null,
      "metadata": {
        "colab": {
          "base_uri": "https://localhost:8080/"
        },
        "id": "r2mvTuQzWOAu",
        "outputId": "3c23e86f-f7b4-4547-e059-43472ace469a"
      },
      "outputs": [
        {
          "name": "stdout",
          "output_type": "stream",
          "text": [
            "<class 'int'>\n",
            "<class 'bool'>\n",
            "<class 'float'>\n",
            "<class 'bool'>\n",
            "<class 'bool'>\n",
            "0.0\n",
            "<class 'float'>\n",
            "<class 'bool'>\n",
            "1.0\n",
            "<class 'float'>\n"
          ]
        }
      ],
      "source": [
        "Demo = 1\n",
        "print(type(Demo))\n",
        "print(type(bool(Demo)))\n",
        "\n",
        "Demo=9.99\n",
        "print(type(Demo))\n",
        "print(type(bool(Demo)))\n",
        "\n",
        "Demo = False\n",
        "print(type(Demo))\n",
        "\n",
        "Ex = float(Demo)\n",
        "print(Ex)\n",
        "print(type(Ex))\n",
        "\n",
        "Demo = True\n",
        "print(type(Demo))\n",
        "\n",
        "Ex = float(Demo)\n",
        "print(Ex)\n",
        "print(type(Ex))\n"
      ]
    },
    {
      "cell_type": "code",
      "execution_count": null,
      "metadata": {
        "colab": {
          "base_uri": "https://localhost:8080/"
        },
        "id": "OWH-VA35cD65",
        "outputId": "e85857f6-b9af-4c9d-879e-9003687229bd"
      },
      "outputs": [
        {
          "name": "stdout",
          "output_type": "stream",
          "text": [
            "<class 'str'>\n",
            "<class 'float'>\n"
          ]
        }
      ],
      "source": [
        "# 1) str -> list\n",
        "Num1  = \"Pramila\"\n",
        "print(type(Num1))\n",
        "\n",
        "Ex1 = list(Num1)\n",
        "print(type(Ex))"
      ]
    },
    {
      "cell_type": "code",
      "execution_count": null,
      "metadata": {
        "colab": {
          "base_uri": "https://localhost:8080/"
        },
        "id": "JYEzlfh3dbJU",
        "outputId": "0ed4c43e-ed47-4c97-c244-a7dad4a30c50"
      },
      "outputs": [
        {
          "name": "stdout",
          "output_type": "stream",
          "text": [
            "<class 'tuple'>\n",
            "<class 'list'>\n"
          ]
        }
      ],
      "source": [
        "# 2) tuple -> list\n",
        "Num2 = (1,2,3,4,5)\n",
        "print(type(Num2))\n",
        "\n",
        "Ex2 = list(Num2)\n",
        "print(type(Ex2))"
      ]
    },
    {
      "cell_type": "code",
      "execution_count": null,
      "metadata": {
        "colab": {
          "base_uri": "https://localhost:8080/"
        },
        "id": "Y346g3zAe9qo",
        "outputId": "e18914b5-2903-496e-e1fd-7215079f0757"
      },
      "outputs": [
        {
          "name": "stdout",
          "output_type": "stream",
          "text": [
            "<class 'set'>\n",
            "<class 'list'>\n"
          ]
        }
      ],
      "source": [
        "# 3) set -> list\n",
        "Num3 = {1,23,4,5}\n",
        "print(type(Num3))\n",
        "\n",
        "Ex3 = list(Num3)\n",
        "print(type(Ex3))\n"
      ]
    },
    {
      "cell_type": "code",
      "execution_count": null,
      "metadata": {
        "colab": {
          "base_uri": "https://localhost:8080/"
        },
        "id": "Sst5Gf2Xf2L3",
        "outputId": "efb9af26-c734-4291-9923-74283833a760"
      },
      "outputs": [
        {
          "name": "stdout",
          "output_type": "stream",
          "text": [
            "<class 'dict'>\n",
            "<class 'dict'>\n"
          ]
        }
      ],
      "source": [
        "# 4) Dict-> list\n",
        "Num4 = {}\n",
        "print(type(Num4))\n",
        "\n",
        "Ex4 = list(Num4)\n",
        "print(type(Num4))"
      ]
    },
    {
      "cell_type": "code",
      "execution_count": null,
      "metadata": {
        "colab": {
          "base_uri": "https://localhost:8080/"
        },
        "id": "sGi0fr6qgyuW",
        "outputId": "641ac757-f8d5-4a64-c74a-757c758703f7"
      },
      "outputs": [
        {
          "name": "stdout",
          "output_type": "stream",
          "text": [
            "<class 'list'>\n",
            "<class 'list'>\n"
          ]
        }
      ],
      "source": [
        "# 5) tuple->list\n",
        "Num5 = [1,2,3,4,5]\n",
        "print(type(Num5))\n",
        "\n",
        "Ex5 = list(Num5)\n",
        "print(type(Ex5))"
      ]
    },
    {
      "cell_type": "code",
      "execution_count": null,
      "metadata": {
        "colab": {
          "base_uri": "https://localhost:8080/"
        },
        "id": "7eEQAe7XinTd",
        "outputId": "f02ffacc-61b7-42a0-f416-6acb5ba0a61b"
      },
      "outputs": [
        {
          "name": "stdout",
          "output_type": "stream",
          "text": [
            "<class 'list'>\n",
            "<class 'dict'>\n",
            "<class 'tuple'>\n",
            "<class 'set'>\n",
            "<class 'set'>\n",
            "<class 'dict'>\n"
          ]
        }
      ],
      "source": [
        "# 1) list -> Dict\n",
        "Num2 = [(\"a\",1),(\"b\",2),(\"c\",3)]\n",
        "print(type(Num2))\n",
        "\n",
        "Ex2 = dict(Num2)\n",
        "print(type(Ex2))\n",
        "\n",
        "# 2) tuple -> dict\n",
        "Num3 = (1,23,4,5)\n",
        "print(type(Num3))\n",
        "\n",
        "Ex3 = set(Num3)\n",
        "print(type(Ex3))\n",
        "\n",
        "# 3) set-> dict\n",
        "Num4 = {(\"Roll_number\",501),(\"Section\",\"C\")}\n",
        "print(type(Num4))\n",
        "\n",
        "Ex4 = dict(Num4)\n",
        "print(type(Ex4))"
      ]
    },
    {
      "cell_type": "code",
      "execution_count": null,
      "metadata": {
        "colab": {
          "base_uri": "https://localhost:8080/"
        },
        "id": "IPpl7KXsiCLv",
        "outputId": "37a1a840-2de7-45dc-b9cd-accf898c7109"
      },
      "outputs": [
        {
          "name": "stdout",
          "output_type": "stream",
          "text": [
            "a=20,b=10\n"
          ]
        }
      ],
      "source": [
        "a=10\n",
        "b=20\n",
        "print(\"a=20,b=10\")"
      ]
    },
    {
      "cell_type": "code",
      "execution_count": null,
      "metadata": {
        "colab": {
          "base_uri": "https://localhost:8080/"
        },
        "id": "IuiW3aO8puV5",
        "outputId": "f06334f8-727b-46c6-c988-4fc7a8782f67"
      },
      "outputs": [
        {
          "name": "stdout",
          "output_type": "stream",
          "text": [
            "Before Swapping\n",
            "A= 10 B= 20\n",
            "After Swapping\n",
            "A= 20 B= 10\n"
          ]
        }
      ],
      "source": [
        "A=10\n",
        "B=20\n",
        "print(\"Before Swapping\")\n",
        "print(\"A=\",A,\"B=\",B)\n",
        "print(\"After Swapping\")\n",
        "temp=A\n",
        "A=B\n",
        "B=temp\n",
        "print(\"A=\",A,\"B=\",B)"
      ]
    },
    {
      "cell_type": "code",
      "execution_count": null,
      "metadata": {
        "colab": {
          "base_uri": "https://localhost:8080/"
        },
        "id": "PjTWmRSkrmFJ",
        "outputId": "8f3f49b0-0258-4491-a427-c267edcd8690"
      },
      "outputs": [
        {
          "name": "stdout",
          "output_type": "stream",
          "text": [
            "Before Swapping\n",
            "X= 10 Y= 20\n",
            "After Swapping\n",
            "X= 20 Y= 10\n"
          ]
        }
      ],
      "source": [
        "\n",
        "X=10\n",
        "Y=20\n",
        "print(\"Before Swapping\")\n",
        "print(\"X=\",X,\"Y=\",Y)\n",
        "print(\"After Swapping\")\n",
        "X = X+Y\n",
        "Y = X-Y\n",
        "X = X-Y\n",
        "print(\"X=\",X,\"Y=\",Y)"
      ]
    },
    {
      "cell_type": "code",
      "execution_count": null,
      "metadata": {
        "colab": {
          "base_uri": "https://localhost:8080/"
        },
        "id": "628tX5lVYB38",
        "outputId": "b33fd882-88c9-4645-ed66-3b4aef10d326"
      },
      "outputs": [
        {
          "name": "stdout",
          "output_type": "stream",
          "text": [
            "<class 'int'>\n",
            "<class 'str'>\n"
          ]
        }
      ],
      "source": [
        "# 1) int to str\n",
        "X = 10\n",
        "print(type(X))\n",
        "print(type(str(X)))"
      ]
    },
    {
      "cell_type": "code",
      "execution_count": null,
      "metadata": {
        "colab": {
          "base_uri": "https://localhost:8080/"
        },
        "id": "z_mAuMXxZD4U",
        "outputId": "3ad13826-61f3-473d-b420-0b3410b508dd"
      },
      "outputs": [
        {
          "name": "stdout",
          "output_type": "stream",
          "text": [
            "['Laptop', 39000, 'Window', 'Lenovo', 'Bengaluru', 'laptop', 39000, 'BCA', 'Lenovo', 'Chikodi']\n",
            "10\n",
            "2\n"
          ]
        }
      ],
      "source": [
        "Example = [\"Laptop\",39000,\"Window\",\"Lenovo\",\"Bengaluru\",\"laptop\",39000,\"BCA\",\"Lenovo\",\"Chikodi\"]\n",
        "print(Example)\n",
        "print(len(Example))\n",
        "print(Example.count(\"Lenovo\"))"
      ]
    },
    {
      "cell_type": "code",
      "execution_count": null,
      "metadata": {
        "colab": {
          "base_uri": "https://localhost:8080/"
        },
        "id": "OtR2Y2yXktL0",
        "outputId": "a9e8c8c3-1fd5-4ae5-91d5-defce3abd233"
      },
      "outputs": [
        {
          "name": "stdout",
          "output_type": "stream",
          "text": [
            "30\n",
            "Enter X value10\n",
            "Enter Y value20\n",
            "30\n"
          ]
        }
      ],
      "source": [
        "# Compile time programe\n",
        "A=10\n",
        "B=20\n",
        "print(A+B)\n",
        "\n",
        "\n",
        "# Run time programe\n",
        "\n",
        "X=int(input(\"Enter X value\"))\n",
        "Y=int(input(\"Enter Y value\"))\n",
        "print(X+Y)"
      ]
    },
    {
      "cell_type": "code",
      "execution_count": null,
      "metadata": {
        "colab": {
          "base_uri": "https://localhost:8080/"
        },
        "id": "KwOnTQr2l_BK",
        "outputId": "629e786b-6921-4084-c91c-6bddaf3a547d"
      },
      "outputs": [
        {
          "name": "stdout",
          "output_type": "stream",
          "text": [
            "enter the value :i10\n",
            "enter the value :j20\n",
            "1020\n"
          ]
        }
      ],
      "source": [
        "i = input(\"enter the value :i\")\n",
        "j = input(\"enter the value :j\")\n",
        "print(i + j)"
      ]
    },
    {
      "cell_type": "code",
      "execution_count": null,
      "metadata": {
        "colab": {
          "base_uri": "https://localhost:8080/"
        },
        "id": "nV9_Z8YwoIWT",
        "outputId": "baa71e38-6c26-43d0-fe72-17b3faf613fd"
      },
      "outputs": [
        {
          "name": "stdout",
          "output_type": "stream",
          "text": [
            "Addition of 100 and 50 value is = 150\n"
          ]
        }
      ],
      "source": [
        "X = 100\n",
        "Y = 50\n",
        "print(f'Addition of {X} and {Y} value is = {X + Y}')"
      ]
    },
    {
      "cell_type": "code",
      "execution_count": null,
      "metadata": {
        "colab": {
          "base_uri": "https://localhost:8080/"
        },
        "id": "d1UBnkIyo6r5",
        "outputId": "f1148615-c3de-46b0-800c-56e197c97644"
      },
      "outputs": [
        {
          "name": "stdout",
          "output_type": "stream",
          "text": [
            "Hi,Good Morning My name is Triveni, i have completed BCA in the year of 2025,currently i'm working in KLE BK BCA College Chikodi 591201\n"
          ]
        }
      ],
      "source": [
        "# Hi,Good Morning My name is Triveni, i have completed PUC (Science) in the year of\n",
        "# 2025, currently i'am working in KLE BK BCA College Chikodi 591201\n",
        "name = \"Triveni\"\n",
        "course = \"BCA\"\n",
        "year = 2025\n",
        "Department = \"BCA\"\n",
        "Pincode = 591201\n",
        "\n",
        "\n",
        "print(f\"Hi,Good Morning My name is {name}, i have completed {course} in the year of {year},currently i'm working in KLE BK {Department} College Chikodi {Pincode}\")"
      ]
    },
    {
      "cell_type": "code",
      "execution_count": null,
      "metadata": {
        "colab": {
          "base_uri": "https://localhost:8080/"
        },
        "id": "39lMlQNaxJbz",
        "outputId": "313b537a-654b-4f7a-8af1-c0ef36200f89"
      },
      "outputs": [
        {
          "name": "stdout",
          "output_type": "stream",
          "text": [
            "Enter Num1 value :5\n",
            "Enter Num2 vaiue :6\n",
            "Addition of two numbers is : 11\n",
            "\n",
            "Substraction of two numbers is : -1\n",
            "\n",
            "Multiplication of two numbers is : 30\n",
            "\n",
            "Division of two numbers is : 0.8333333333333334\n",
            "\n",
            "Floor Division of two numbers is : 0\n",
            "\n",
            "Modulus of two numbers is : 5\n",
            "\n",
            "Exponent value is : 125\n"
          ]
        }
      ],
      "source": [
        "# Arithmetic operators\n",
        "Num1 = int(input(\"Enter Num1 value :\"))\n",
        "Num2 = int(input(\"Enter Num2 vaiue :\"))\n",
        "print(\"Addition of two numbers is :\",Num1 + Num2)\n",
        "print()\n",
        "print(\"Substraction of two numbers is :\",Num1-Num2)\n",
        "print()\n",
        "print(\"Multiplication of two numbers is :\",Num1*Num2)\n",
        "print()\n",
        "print(\"Division of two numbers is :\",Num1/Num2)\n",
        "print()\n",
        "print(\"Floor Division of two numbers is :\",Num1//Num2)\n",
        "print()\n",
        "print(\"Modulus of two numbers is :\",Num1%Num2)\n",
        "print()\n",
        "\n",
        "X = 5\n",
        "Y = 3\n",
        "print(\"Exponent value is :\",X**Y)"
      ]
    },
    {
      "cell_type": "code",
      "execution_count": null,
      "metadata": {
        "colab": {
          "base_uri": "https://localhost:8080/"
        },
        "id": "OqOoED4X1VaU",
        "outputId": "d130fa64-435f-49f5-a0f7-6269da340090"
      },
      "outputs": [
        {
          "name": "stdout",
          "output_type": "stream",
          "text": [
            "False\n",
            "False\n",
            "True\n",
            "True\n",
            "False\n",
            "True\n",
            "True\n",
            "False\n",
            "True\n"
          ]
        }
      ],
      "source": [
        "# Relational Operator\n",
        "Number1 = 35\n",
        "Number2 = 40\n",
        "print(Number1 > Number2)\n",
        "print(Number2 < Number1)\n",
        "print(Number1 == 35)\n",
        "print(Number1 <= Number2)\n",
        "print(Number2 != 40)\n",
        "print(Number2 >= 40)\n",
        "print(10 != 20)\n",
        "print(Number1 == Number2)\n",
        "print(Number2 != Number1)\n"
      ]
    },
    {
      "cell_type": "code",
      "execution_count": null,
      "metadata": {
        "colab": {
          "base_uri": "https://localhost:8080/"
        },
        "id": "tkCDF-Ce8Ifd",
        "outputId": "fa942bfe-b568-435a-b212-1d68c64e7267"
      },
      "outputs": [
        {
          "name": "stdout",
          "output_type": "stream",
          "text": [
            "False\n",
            "False\n",
            "True\n",
            "False\n",
            "True\n",
            "False\n",
            "False\n",
            "True\n",
            "False\n",
            "\n"
          ]
        }
      ],
      "source": [
        "# Logical operator\n",
        "a = 20\n",
        "b = 35\n",
        "c = 13\n",
        "d = 10\n",
        "\n",
        "print( a == b and c < d )\n",
        "\n",
        "print( 13 != c and d < c )\n",
        "\n",
        "print( b > a and d < c)\n",
        "\n",
        "print( 20 != a and c == d)\n",
        "\n",
        "print( a < b or d == c)\n",
        "\n",
        "print((not(a < b )) and 100  < 200)\n",
        "\n",
        "print(not(d == 10))\n",
        "\n",
        "print(35 != d or (not(20 == a)))\n",
        "\n",
        "print(not(c <= b and (not(a <= c))))\n",
        "\n",
        "print()"
      ]
    },
    {
      "cell_type": "code",
      "execution_count": null,
      "metadata": {
        "colab": {
          "base_uri": "https://localhost:8080/"
        },
        "id": "3PQe_W2nDCo4",
        "outputId": "6a7f3338-4e70-428a-b72b-9a90397b2d90"
      },
      "outputs": [
        {
          "name": "stdout",
          "output_type": "stream",
          "text": [
            "10\n",
            "8\n",
            "40\n",
            "13\n",
            "169\n",
            "1\n",
            "10\n",
            "3.3333333333333335\n"
          ]
        }
      ],
      "source": [
        "X = 10\n",
        "print(X)\n",
        "\n",
        "X -= 2\n",
        "print(X)\n",
        "\n",
        "X *= 5\n",
        "print(X)\n",
        "\n",
        "X //= 3\n",
        "print(X)\n",
        "\n",
        "X **= 2\n",
        "print(X)\n",
        "\n",
        "X %= 4\n",
        "print(X)\n",
        "\n",
        "X += 9\n",
        "print(X)\n",
        "\n",
        "X /= 3\n",
        "print(X)\n"
      ]
    },
    {
      "cell_type": "code",
      "execution_count": null,
      "metadata": {
        "colab": {
          "base_uri": "https://localhost:8080/"
        },
        "id": "_UwSCCWNaHeR",
        "outputId": "fc80cb69-f17f-428b-b26e-b7aec7fc8171"
      },
      "outputs": [
        {
          "name": "stdout",
          "output_type": "stream",
          "text": [
            "10 is a greater then 9\n"
          ]
        }
      ],
      "source": [
        "Num = 9\n",
        "if Num  < 10 :\n",
        "  print(\"10 is a greater then 9\")"
      ]
    },
    {
      "cell_type": "code",
      "execution_count": null,
      "metadata": {
        "colab": {
          "base_uri": "https://localhost:8080/"
        },
        "id": "mynY8jw6eptl",
        "outputId": "5df2cdfb-ce06-4113-a627-0071c67fdf69"
      },
      "outputs": [
        {
          "name": "stdout",
          "output_type": "stream",
          "text": [
            "login successfully\n"
          ]
        }
      ],
      "source": [
        "User_id = \"20MCA103\"\n",
        "Password = 1234\n",
        "if User_id == \"20MCA103\" and Password == 1234:\n",
        "  print(\"login successfully\")"
      ]
    },
    {
      "cell_type": "code",
      "execution_count": null,
      "metadata": {
        "id": "jjCFjxt9fiJ-"
      },
      "outputs": [],
      "source": [
        "Ex = 59\n",
        "if Ex == 58:\n",
        "  print(\"Are you understand\")"
      ]
    },
    {
      "cell_type": "code",
      "execution_count": null,
      "metadata": {
        "id": "BWgjex8VgGLz"
      },
      "outputs": [],
      "source": [
        "Name = \"Pramila\"\n",
        "if Name <= \"BK\" :\n",
        "  print(\"My name is Pramila\")"
      ]
    },
    {
      "cell_type": "code",
      "execution_count": null,
      "metadata": {
        "colab": {
          "base_uri": "https://localhost:8080/"
        },
        "id": "k9yp00KNhwdT",
        "outputId": "13f264f5-7e48-4e5a-c67a-b9be5f19cb48"
      },
      "outputs": [
        {
          "name": "stdout",
          "output_type": "stream",
          "text": [
            "Enter a number value:30\n",
            "Positive number\n"
          ]
        }
      ],
      "source": [
        "Num = int(input(\"Enter a number value:\"))\n",
        "if Num > 0 :\n",
        "  print(\"Positive number\")\n",
        "else :\n",
        "    print(\"Negative number\")\n"
      ]
    },
    {
      "cell_type": "code",
      "execution_count": null,
      "metadata": {
        "colab": {
          "base_uri": "https://localhost:8080/"
        },
        "id": "V2aK_kC_lGbQ",
        "outputId": "b22ba3d1-ca81-4734-cbcc-75559eda7b82"
      },
      "outputs": [
        {
          "name": "stdout",
          "output_type": "stream",
          "text": [
            "Enter a number value:69\n",
            "Odd number\n"
          ]
        }
      ],
      "source": [
        "Num = int(input(\"Enter a number value:\"))\n",
        "if Num % 2 == 0:\n",
        "     print(\"Even number\")\n",
        "else :\n",
        "     print(\"Odd number\")"
      ]
    },
    {
      "cell_type": "code",
      "execution_count": null,
      "metadata": {
        "colab": {
          "base_uri": "https://localhost:8080/"
        },
        "id": "q8SQH31UnoAC",
        "outputId": "a8395296-5f10-4341-b218-788f36ca9341"
      },
      "outputs": [
        {
          "name": "stdout",
          "output_type": "stream",
          "text": [
            "Enter a year value :2028\n",
            "leap year\n"
          ]
        }
      ],
      "source": [
        "year = int(input(\"Enter a year value :\"))\n",
        "if year % 4 == 0 :\n",
        "  print(\"leap year\")\n",
        "else :\n",
        "  print(\"Not leap year\")"
      ]
    },
    {
      "cell_type": "code",
      "execution_count": null,
      "metadata": {
        "colab": {
          "base_uri": "https://localhost:8080/"
        },
        "id": "nix-DhGgozpG",
        "outputId": "a3c0f678-f497-4d83-a514-bbd000ba4fca"
      },
      "outputs": [
        {
          "name": "stdout",
          "output_type": "stream",
          "text": [
            "Enter a age value :50\n",
            "they are eligible for voting\n"
          ]
        }
      ],
      "source": [
        " Age = int(input(\"Enter a age value :\"))\n",
        "v if Age >= 18 :\n",
        "     print(\"they are eligible for voting\")\n",
        "else :\n",
        "    print(\"they have to wait\")"
      ]
    },
    {
      "cell_type": "code",
      "execution_count": null,
      "metadata": {
        "colab": {
          "base_uri": "https://localhost:8080/"
        },
        "id": "FMc3ky6lqOOe",
        "outputId": "a843d06b-bbaf-40ed-eee9-03f3512eff84"
      },
      "outputs": [
        {
          "name": "stdout",
          "output_type": "stream",
          "text": [
            "Enter user_id value :College\n",
            "Enter password value :1229\n",
            "Login successfully\n"
          ]
        }
      ],
      "source": [
        "User_id = input(\"Enter user_id value :\")\n",
        "Password =int(input(\"Enter password value :\"))\n",
        "if User_id == \"College\" and Password == 1229:\n",
        "  print(\"Login successfully\")\n",
        "else:\n",
        "  print(\"Invalid details\")"
      ]
    },
    {
      "cell_type": "code",
      "execution_count": null,
      "metadata": {
        "colab": {
          "base_uri": "https://localhost:8080/"
        },
        "id": "DllhC8HNvhGt",
        "outputId": "f98d2fca-8144-4660-abbd-d5e4c9c46018"
      },
      "outputs": [
        {
          "name": "stdout",
          "output_type": "stream",
          "text": [
            "Enter a marks value :67\n",
            "Grade D\n"
          ]
        }
      ],
      "source": [
        "Marks = int(input(\"Enter a marks value :\"))\n",
        "if Marks >= 90 :\n",
        "  print(\"Grade A\")\n",
        "elif Marks >= 80 :\n",
        "  print(\"Grade B\")\n",
        "elif Marks >= 70 :\n",
        "  print(\"Grade C\")\n",
        "elif Marks >= 60 :\n",
        "  print(\"Grade D\")"
      ]
    },
    {
      "cell_type": "code",
      "execution_count": null,
      "metadata": {
        "colab": {
          "base_uri": "https://localhost:8080/"
        },
        "id": "pNw9Pwx_weXS",
        "outputId": "1ccab925-65b5-48f4-fb13-531281845b2b"
      },
      "outputs": [
        {
          "name": "stdout",
          "output_type": "stream",
          "text": [
            "Enter a marks value :50\n",
            "Just pass\n"
          ]
        }
      ],
      "source": [
        "Marks = int(input(\"Enter a marks value :\"))\n",
        "if Marks >= 85 :\n",
        "  print(\"Distiction\")\n",
        "elif Marks >= 70 :\n",
        "  print(\"First class\")\n",
        "elif Marks >= 55 :\n",
        "  print(\"Second class\")\n",
        "elif Marks >= 35 :\n",
        "  print(\"Just pass\")\n",
        "else:\n",
        "  print(\"Fail better luck next chance\")"
      ]
    },
    {
      "cell_type": "code",
      "execution_count": null,
      "metadata": {
        "colab": {
          "base_uri": "https://localhost:8080/"
        },
        "id": "nqgxRxKmySDA",
        "outputId": "1a5465e6-aa41-44f8-8b4f-0080237958db"
      },
      "outputs": [
        {
          "name": "stdout",
          "output_type": "stream",
          "text": [
            "Enter a prize medal :3\n",
            "Bronze medal\n"
          ]
        }
      ],
      "source": [
        "Prize = int(input(\"Enter a prize medal :\"))\n",
        "if Prize == 1 :\n",
        "  print(\"Gold medal\")\n",
        "elif Prize == 2 :\n",
        "  print(\"Silver medal\")\n",
        "elif Prize == 3 :\n",
        "  print(\"Bronze medal\")\n",
        "else :\n",
        "  print(\"Better luck next time\")"
      ]
    },
    {
      "cell_type": "code",
      "execution_count": null,
      "metadata": {
        "colab": {
          "base_uri": "https://localhost:8080/"
        },
        "id": "LIFsq2yx05PQ",
        "outputId": "2924c52f-7b2e-493d-ea28-26681f365db1"
      },
      "outputs": [
        {
          "name": "stdout",
          "output_type": "stream",
          "text": [
            "Enter a troffic colours :Red\n",
            "stop\n"
          ]
        }
      ],
      "source": [
        "Troffic = input(\"Enter a troffic colours :\")\n",
        "if Troffic == \"Red\" :\n",
        "  print(\"stop\")\n",
        "elif Troffic == \"Yellow\" :\n",
        "  print(\"Ready\")\n",
        "elif Troffic == \"Green\" :\n",
        "  print(\"Go\")"
      ]
    },
    {
      "cell_type": "code",
      "execution_count": null,
      "metadata": {
        "colab": {
          "base_uri": "https://localhost:8080/"
        },
        "id": "5l17ROrxDfM1",
        "outputId": "7d7077ea-41a4-4c7e-bba3-4188551a79b6"
      },
      "outputs": [
        {
          "name": "stdout",
          "output_type": "stream",
          "text": [
            "B is largest number\n"
          ]
        }
      ],
      "source": [
        "a, b, c = 25, 35, 15\n",
        "if a > b and a > c :\n",
        "  print(\"A is largest number\")\n",
        "elif b > a and b > c :\n",
        "  print(\"B is largest number\")\n",
        "else :\n",
        "  print(\"C is largest number\")"
      ]
    },
    {
      "cell_type": "code",
      "execution_count": null,
      "metadata": {
        "colab": {
          "base_uri": "https://localhost:8080/"
        },
        "id": "flsDB3qyN8ne",
        "outputId": "7a1d2226-5b37-4dc1-fe7a-2a018720d547"
      },
      "outputs": [
        {
          "name": "stdout",
          "output_type": "stream",
          "text": [
            "Enter a number value :4\n",
            "Positive number\n"
          ]
        }
      ],
      "source": [
        "Num = int(input(\"Enter a number value :\"))\n",
        "if Num < 0 :\n",
        "    print(\"Negative number\")\n",
        "else :\n",
        "  print(\"Positive number\")"
      ]
    },
    {
      "cell_type": "code",
      "execution_count": null,
      "metadata": {
        "colab": {
          "base_uri": "https://localhost:8080/"
        },
        "id": "7AoJpoyGO-gl",
        "outputId": "18852c33-5bc9-487b-db9c-23cbadc23ea8"
      },
      "outputs": [
        {
          "name": "stdout",
          "output_type": "stream",
          "text": [
            "Negative number\n"
          ]
        }
      ],
      "source": [
        "num = -5\n",
        "if num >= 0:\n",
        "  if num == 0:\n",
        "    print(\"Zero value\")\n",
        "  else:\n",
        "    print(\"Positive number\")\n",
        "else:\n",
        "  print(\"Negative number\")"
      ]
    },
    {
      "cell_type": "code",
      "execution_count": null,
      "metadata": {
        "colab": {
          "base_uri": "https://localhost:8080/"
        },
        "id": "R7H1mTMNQVbi",
        "outputId": "65175524-aa64-4856-c80e-e8a03d7d92df"
      },
      "outputs": [
        {
          "name": "stdout",
          "output_type": "stream",
          "text": [
            "Enter number value is :58\n",
            "Positive number\n"
          ]
        }
      ],
      "source": [
        "num = int(input(\"Enter number value is :\"))\n",
        "if num > 0:\n",
        "  if num == 0:\n",
        "    print(\"Zero value\")\n",
        "  else:\n",
        "    print(\"Positive number\")\n",
        "else:\n",
        "  print(\"Negative number\")"
      ]
    },
    {
      "cell_type": "code",
      "execution_count": null,
      "metadata": {
        "colab": {
          "base_uri": "https://localhost:8080/"
        },
        "id": "y3eP8FRhSZRX",
        "outputId": "81bef5f0-ec80-4ae6-a35e-445d2756a118"
      },
      "outputs": [
        {
          "name": "stdout",
          "output_type": "stream",
          "text": [
            "Enter your choice option :%\n",
            "Mod of value 10\n"
          ]
        }
      ],
      "source": [
        "# Write a programe arithmetic operator using switch statement\n",
        "x,y = 10,20\n",
        "option = input(\"Enter your choice option :\")\n",
        "match option :\n",
        "  case '+':\n",
        "    print(\"Sum of value\",x+y)\n",
        "  case '-':\n",
        "    print(\"Sub of value\",x-y)\n",
        "  case '*':\n",
        "    print(\"Mul of value\",x*y)\n",
        "  case '/':\n",
        "    print(\"Div of value\",x/y)\n",
        "  case '%':\n",
        "    print(\"Mod of value\",x%y)\n",
        "  case'_' :\n",
        "    print(\"Invalid operator\")\n",
        "  case'!=':\n",
        "    print(\"Not equal\")"
      ]
    },
    {
      "cell_type": "code",
      "execution_count": null,
      "metadata": {
        "colab": {
          "base_uri": "https://localhost:8080/"
        },
        "id": "ktk6B1n2Xnaf",
        "outputId": "18435ce8-05ee-411f-d236-d8b07a3cf45a"
      },
      "outputs": [
        {
          "name": "stdout",
          "output_type": "stream",
          "text": [
            "Enter your choice day :7\n",
            "Sunday\n"
          ]
        }
      ],
      "source": [
        "day =int (input(\"Enter your choice day :\"))\n",
        "match day :\n",
        "  case 1:\n",
        "    print(\"Monday\")\n",
        "  case 2:\n",
        "    print(\"Tuesday\")\n",
        "  case 3:\n",
        "    print(\"Wednesday\")\n",
        "  case 4:\n",
        "    print(\"Thursday\")\n",
        "  case 5:\n",
        "    print(\"Friday\")\n",
        "  case 6:\n",
        "    print(\"Saturday\")\n",
        "  case 7:\n",
        "    print(\"Sunday\")\n",
        "\n"
      ]
    },
    {
      "cell_type": "code",
      "execution_count": null,
      "metadata": {
        "colab": {
          "base_uri": "https://localhost:8080/"
        },
        "id": "HQBU2RT0dL9H",
        "outputId": "de517499-1b63-4d24-d9f4-a20d491e1434"
      },
      "outputs": [
        {
          "name": "stdout",
          "output_type": "stream",
          "text": [
            "Enter a month number :12\n",
            "Dec\n"
          ]
        }
      ],
      "source": [
        "months = int(input(\"Enter a month number :\"))\n",
        "match months :\n",
        "  case 1:\n",
        "    print(\"Jan\")\n",
        "  case 2:\n",
        "    print(\"Feb\")\n",
        "  case 3:\n",
        "    print(\"Mar\")\n",
        "  case 4:\n",
        "    print(\"Apr\")\n",
        "  case 5:\n",
        "    print(\"May\")\n",
        "  case 6:\n",
        "    print(\"Jun\")\n",
        "  case 7:\n",
        "    print(\"Jul\")\n",
        "  case 8:\n",
        "    print(\"Aug\")\n",
        "  case 9:\n",
        "    print(\"Sep\")\n",
        "  case 10:\n",
        "    print(\"Oct\")\n",
        "  case 11:\n",
        "    print(\"Nov\")\n",
        "  case 12:\n",
        "    print(\"Dec\")"
      ]
    },
    {
      "cell_type": "code",
      "execution_count": null,
      "metadata": {
        "colab": {
          "base_uri": "https://localhost:8080/"
        },
        "id": "Vetk2DAHgSH5",
        "outputId": "15ccefef-ba2d-4ce3-af33-004c50f1f314"
      },
      "outputs": [
        {
          "name": "stdout",
          "output_type": "stream",
          "text": [
            "1 2 3 4 5 6 7 8 9 10 11 12 13 14 15 16 17 18 19 20 21 22 23 24 25 26 27 28 29 30 31 32 33 34 35 36 37 38 39 40 41 42 43 44 45 46 47 48 49 50 51 52 53 54 55 56 57 58 59 60 "
          ]
        }
      ],
      "source": [
        "i = 1\n",
        "while i <= 60 :\n",
        "    print(i,end=\" \")\n",
        "    i += 1"
      ]
    },
    {
      "cell_type": "code",
      "execution_count": null,
      "metadata": {
        "colab": {
          "base_uri": "https://localhost:8080/"
        },
        "id": "5WZ14JsGhRm_",
        "outputId": "c02b0e80-b3b6-436f-d629-e354506600aa"
      },
      "outputs": [
        {
          "name": "stdout",
          "output_type": "stream",
          "text": [
            "Sum of n natural number is : 55\n"
          ]
        }
      ],
      "source": [
        "i = 1\n",
        "add = 0\n",
        "while i <= 10 :\n",
        "  add = add + i\n",
        "  i += 1\n",
        "print(\"Addition of value is :\",add)"
      ]
    },
    {
      "cell_type": "code",
      "execution_count": null,
      "metadata": {
        "colab": {
          "base_uri": "https://localhost:8080/"
        },
        "id": "69wndxXjlY3Z",
        "outputId": "43e723a7-d085-45e3-c272-ea8604dce05f"
      },
      "outputs": [
        {
          "name": "stdout",
          "output_type": "stream",
          "text": [
            "5 * 1 = 5 5 * 2 = 10 5 * 3 = 15 5 * 4 = 20 5 * 5 = 25 5 * 6 = 30 5 * 7 = 35 5 * 8 = 40 5 * 9 = 45 5 * 10 = 50 "
          ]
        }
      ],
      "source": [
        "Num = 5\n",
        "i = 1\n",
        "while i <= 10 :\n",
        "  print(\"5 *\",i,\"=\",Num*i,end=\" \")\n",
        "  i = i + 1\n"
      ]
    },
    {
      "cell_type": "code",
      "execution_count": null,
      "metadata": {
        "colab": {
          "base_uri": "https://localhost:8080/"
        },
        "id": "twUhpsrZo4Cs",
        "outputId": "a16ae5d5-fa98-4cbb-f9be-7c6223882dea"
      },
      "outputs": [
        {
          "name": "stdout",
          "output_type": "stream",
          "text": [
            "Armstrong number\n"
          ]
        }
      ],
      "source": [
        "num = 407\n",
        "rem = 0\n",
        "sum = 0\n",
        "temp = num\n",
        "while num > 0 :\n",
        "  rem = num % 10\n",
        "  sum = sum + rem * rem * rem\n",
        "  num = num // 10\n",
        "if temp == sum :\n",
        "  print(\"Armstrong number\")\n",
        "else :\n",
        "  print(\"Not armstrong number\")"
      ]
    },
    {
      "cell_type": "code",
      "execution_count": null,
      "metadata": {
        "colab": {
          "base_uri": "https://localhost:8080/"
        },
        "id": "YmW9f5l1uNJa",
        "outputId": "83626bd6-06c1-423f-b087-6ccf2eec3bc7"
      },
      "outputs": [
        {
          "name": "stdout",
          "output_type": "stream",
          "text": [
            "Reverse number is : 54321\n"
          ]
        }
      ],
      "source": [
        "num = 12345\n",
        "rem = 0\n",
        "sum = 0\n",
        "temp = num\n",
        "while num > 0 :\n",
        "  rem = num % 10\n",
        "  sum = sum * 10 + rem\n",
        "  num = num // 10\n",
        "print(\"Reverse number is :\",sum )"
      ]
    },
    {
      "cell_type": "code",
      "execution_count": null,
      "metadata": {
        "colab": {
          "base_uri": "https://localhost:8080/"
        },
        "id": "B9Cc4MaGzbjD",
        "outputId": "98f53fe5-7c71-455c-bd48-283553c6002e"
      },
      "outputs": [
        {
          "name": "stdout",
          "output_type": "stream",
          "text": [
            "2 4 6 8 10 12 14 16 18 20 22 24 26 28 30 32 34 36 38 40 42 44 46 48 50 52 54 56 58 60 62 64 66 68 70 72 74 76 78 80 82 84 86 88 90 92 94 96 98 100 "
          ]
        }
      ],
      "source": [
        "# print even number between 1 to 100\n",
        "i = 2\n",
        "while i <= 100:\n",
        "   print(i,end = \" \")\n",
        "   i+=2"
      ]
    },
    {
      "cell_type": "code",
      "execution_count": null,
      "metadata": {
        "colab": {
          "base_uri": "https://localhost:8080/"
        },
        "id": "0UPcLD040akB",
        "outputId": "6e19f00e-c6d4-4f4e-8e5a-fe80f579f402"
      },
      "outputs": [
        {
          "name": "stdout",
          "output_type": "stream",
          "text": [
            "0 1 1 2 3 5 8 13 21 34 55 "
          ]
        }
      ],
      "source": [
        "num,a,b =10,0,1\n",
        "i = 0\n",
        "while i <= num :\n",
        "    print(a, end = \" \")\n",
        "    a,b = b,a+b\n",
        "    i+=1"
      ]
    },
    {
      "cell_type": "code",
      "source": [
        "colours = ['blue','red','pink','black']\n",
        "print(type(colours))\n",
        "\n",
        "for i in colours :\n",
        "    print(i)"
      ],
      "metadata": {
        "colab": {
          "base_uri": "https://localhost:8080/"
        },
        "id": "OTAx6MMpNh0N",
        "outputId": "d8f3841e-592d-44d9-af31-04b47e5e72c9"
      },
      "execution_count": 3,
      "outputs": [
        {
          "output_type": "stream",
          "name": "stdout",
          "text": [
            "<class 'list'>\n",
            "blue\n",
            "red\n",
            "pink\n",
            "black\n"
          ]
        }
      ]
    },
    {
      "cell_type": "code",
      "source": [
        "numbers = {1,2,3,4,5,6,7,8,9}\n",
        "for i in numbers :\n",
        "   print(i)"
      ],
      "metadata": {
        "colab": {
          "base_uri": "https://localhost:8080/"
        },
        "id": "IGDVth2MO7Dn",
        "outputId": "8fc7c6ed-3155-45b3-e356-43d2e8fc69f5"
      },
      "execution_count": 4,
      "outputs": [
        {
          "output_type": "stream",
          "name": "stdout",
          "text": [
            "1\n",
            "2\n",
            "3\n",
            "4\n",
            "5\n",
            "6\n",
            "7\n",
            "8\n",
            "9\n"
          ]
        }
      ]
    },
    {
      "cell_type": "code",
      "source": [
        "Name = \"KLE BK BCA College in Chik0di\"\n",
        "rev = \"\"\n",
        "for i in Name :\n",
        "  rev = i + rev\n",
        "print(rev)"
      ],
      "metadata": {
        "colab": {
          "base_uri": "https://localhost:8080/"
        },
        "id": "OFKT-QDfPmLX",
        "outputId": "21122227-cbcf-4ced-9c87-a6aed2044c47"
      },
      "execution_count": 6,
      "outputs": [
        {
          "output_type": "stream",
          "name": "stdout",
          "text": [
            "id0kihC ni egelloC ACB KB ELK\n"
          ]
        }
      ]
    },
    {
      "cell_type": "code",
      "source": [
        "print(\"hi,basu sir\")"
      ],
      "metadata": {
        "colab": {
          "base_uri": "https://localhost:8080/"
        },
        "id": "14szmC8iQgh1",
        "outputId": "3ad2feae-82a7-4bd3-c2c0-06852c69c8e3"
      },
      "execution_count": 7,
      "outputs": [
        {
          "output_type": "stream",
          "name": "stdout",
          "text": [
            "hi,basu sir\n"
          ]
        }
      ]
    },
    {
      "cell_type": "code",
      "source": [
        "for i in range(10):\n",
        "  print(i)"
      ],
      "metadata": {
        "colab": {
          "base_uri": "https://localhost:8080/"
        },
        "id": "SZlmc1uPYvoX",
        "outputId": "9146c85c-39a2-4653-c817-68f2ad38d47c"
      },
      "execution_count": 8,
      "outputs": [
        {
          "output_type": "stream",
          "name": "stdout",
          "text": [
            "0\n",
            "1\n",
            "2\n",
            "3\n",
            "4\n",
            "5\n",
            "6\n",
            "7\n",
            "8\n",
            "9\n"
          ]
        }
      ]
    },
    {
      "cell_type": "code",
      "source": [
        "for i in range(1,10+1):\n",
        "  print(i)"
      ],
      "metadata": {
        "colab": {
          "base_uri": "https://localhost:8080/"
        },
        "id": "SCMkj8mcZ6xm",
        "outputId": "acd67a53-ca6b-4b8f-a521-35dce84da2ff"
      },
      "execution_count": 13,
      "outputs": [
        {
          "output_type": "stream",
          "name": "stdout",
          "text": [
            "1\n",
            "2\n",
            "3\n",
            "4\n",
            "5\n",
            "6\n",
            "7\n",
            "8\n",
            "9\n",
            "10\n"
          ]
        }
      ]
    },
    {
      "cell_type": "code",
      "source": [
        "Sum = 0\n",
        "for i in range(1,11):\n",
        "  Sum+=i\n",
        "print(\"sum of N Natural number is\",Sum)"
      ],
      "metadata": {
        "colab": {
          "base_uri": "https://localhost:8080/"
        },
        "id": "SlTJeKYBav-8",
        "outputId": "d11d862a-1bc8-4997-bbef-1fd5ecb51a13"
      },
      "execution_count": 15,
      "outputs": [
        {
          "output_type": "stream",
          "name": "stdout",
          "text": [
            "sum of N Natural number is 55\n"
          ]
        }
      ]
    },
    {
      "cell_type": "code",
      "source": [
        "num  = 4\n",
        "for i in range(1,11):\n",
        "  print(\"4*\",i,\"=\",num*i)\n",
        "  i=i+1"
      ],
      "metadata": {
        "colab": {
          "base_uri": "https://localhost:8080/"
        },
        "id": "ZwgM-4grdyXn",
        "outputId": "59afc159-5c7a-4015-b55e-d8a4e01fa69c"
      },
      "execution_count": 18,
      "outputs": [
        {
          "output_type": "stream",
          "name": "stdout",
          "text": [
            "4* 1 = 4\n",
            "4* 2 = 8\n",
            "4* 3 = 12\n",
            "4* 4 = 16\n",
            "4* 5 = 20\n",
            "4* 6 = 24\n",
            "4* 7 = 28\n",
            "4* 8 = 32\n",
            "4* 9 = 36\n",
            "4* 10 = 40\n"
          ]
        }
      ]
    },
    {
      "cell_type": "code",
      "source": [
        "for i in range(2,101,2):\n",
        "     print(i,end=\" \")"
      ],
      "metadata": {
        "colab": {
          "base_uri": "https://localhost:8080/"
        },
        "id": "zNRsJTbVfde1",
        "outputId": "d6841e1a-961a-431a-b15b-967f58c6025a"
      },
      "execution_count": 21,
      "outputs": [
        {
          "output_type": "stream",
          "name": "stdout",
          "text": [
            "2 4 6 8 10 12 14 16 18 20 22 24 26 28 30 32 34 36 38 40 42 44 46 48 50 52 54 56 58 60 62 64 66 68 70 72 74 76 78 80 82 84 86 88 90 92 94 96 98 100 "
          ]
        }
      ]
    },
    {
      "cell_type": "code",
      "source": [
        "fact = 1\n",
        "for i in range(1,6):\n",
        "  fact = fact*i\n",
        "print(\"Factorial number is :\",fact)"
      ],
      "metadata": {
        "colab": {
          "base_uri": "https://localhost:8080/"
        },
        "id": "Mnp3y50dhFwz",
        "outputId": "332e6de8-9278-4c6b-ade7-f6117a63fd45"
      },
      "execution_count": 24,
      "outputs": [
        {
          "output_type": "stream",
          "name": "stdout",
          "text": [
            "Factorial number is : 120\n"
          ]
        }
      ]
    },
    {
      "cell_type": "code",
      "source": [
        "# Fibonacci series / number using for loop\n",
        "# 0 1 1 2 3 5 8 13 21 34 55 89 144\n",
        "a,b = 0,1\n",
        "for i in range(1,14):\n",
        "    print(a,end=\" \")\n",
        "    a,b = b,a+b"
      ],
      "metadata": {
        "colab": {
          "base_uri": "https://localhost:8080/"
        },
        "id": "N-1_z6KZiRHt",
        "outputId": "54c96b3e-0171-4f31-d86f-56b03afd59d5"
      },
      "execution_count": 25,
      "outputs": [
        {
          "output_type": "stream",
          "name": "stdout",
          "text": [
            "0 1 1 2 3 5 8 13 21 34 55 89 144 "
          ]
        }
      ]
    },
    {
      "cell_type": "code",
      "source": [
        "a=5\n",
        "b=2\n",
        "print(a//b)"
      ],
      "metadata": {
        "colab": {
          "base_uri": "https://localhost:8080/"
        },
        "id": "Vho1gp2klPtk",
        "outputId": "e92fce82-ce07-47e9-b12c-3b43b4553dec"
      },
      "execution_count": 26,
      "outputs": [
        {
          "output_type": "stream",
          "name": "stdout",
          "text": [
            "2\n"
          ]
        }
      ]
    }
  ],
  "metadata": {
    "colab": {
      "provenance": []
    },
    "kernelspec": {
      "display_name": "Python 3",
      "name": "python3"
    },
    "language_info": {
      "name": "python"
    }
  },
  "nbformat": 4,
  "nbformat_minor": 0
}