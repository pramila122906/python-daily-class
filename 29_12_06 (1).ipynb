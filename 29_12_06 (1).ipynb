{
  "cells": [
    {
      "cell_type": "code",
      "execution_count": 1137,
      "metadata": {
        "id": "7sOmdRsaNlbB",
        "colab": {
          "base_uri": "https://localhost:8080/",
          "height": 0
        },
        "outputId": "c89ccd37-b4d8-4a29-daf7-3968876f3dcb"
      },
      "outputs": [
        {
          "output_type": "stream",
          "name": "stdout",
          "text": [
            "Hello World\n"
          ]
        }
      ],
      "source": [
        "print(\"Hello World\")"
      ]
    },
    {
      "cell_type": "code",
      "execution_count": 1138,
      "metadata": {
        "id": "r5qKLvwTNNU4",
        "colab": {
          "base_uri": "https://localhost:8080/",
          "height": 0
        },
        "outputId": "742a4bc5-4be3-4dd4-811b-e89f73620463"
      },
      "outputs": [
        {
          "output_type": "stream",
          "name": "stdout",
          "text": [
            "Pramila\n"
          ]
        }
      ],
      "source": [
        "print(\"Pramila\")"
      ]
    },
    {
      "cell_type": "code",
      "execution_count": 1139,
      "metadata": {
        "id": "NKe6oDidKE1P",
        "colab": {
          "base_uri": "https://localhost:8080/",
          "height": 0
        },
        "outputId": "66fe4fbc-7d46-4a4f-ba77-9f4045e5509d"
      },
      "outputs": [
        {
          "output_type": "stream",
          "name": "stdout",
          "text": [
            "KLE BK BCA College Chikodi\n"
          ]
        }
      ],
      "source": [
        "print(\"KLE BK BCA College Chikodi\")"
      ]
    },
    {
      "cell_type": "code",
      "execution_count": 1140,
      "metadata": {
        "id": "azs-aL4lIHXx",
        "colab": {
          "base_uri": "https://localhost:8080/",
          "height": 0
        },
        "outputId": "bf611b13-0ba0-4698-e459-a4173d5a6e02"
      },
      "outputs": [
        {
          "output_type": "stream",
          "name": "stdout",
          "text": [
            "10\n"
          ]
        }
      ],
      "source": [
        "a=10\n",
        "print(a)"
      ]
    },
    {
      "cell_type": "code",
      "execution_count": 1141,
      "metadata": {
        "id": "LecQNu0hIQ5n",
        "colab": {
          "base_uri": "https://localhost:8080/",
          "height": 0
        },
        "outputId": "eb8454aa-7873-47d3-8833-263c4e4c433e"
      },
      "outputs": [
        {
          "output_type": "stream",
          "name": "stdout",
          "text": [
            "Hello worldHello worldHello world\n"
          ]
        }
      ],
      "source": [
        "print(\"Hello world\"*3)"
      ]
    },
    {
      "cell_type": "code",
      "execution_count": 1142,
      "metadata": {
        "id": "blSYewuQIE65",
        "colab": {
          "base_uri": "https://localhost:8080/",
          "height": 0
        },
        "outputId": "418350f0-558f-4b21-9a2a-97c0a467e542"
      },
      "outputs": [
        {
          "output_type": "stream",
          "name": "stdout",
          "text": [
            "33.333333333333336\n"
          ]
        }
      ],
      "source": [
        "print(100/3)"
      ]
    },
    {
      "cell_type": "code",
      "execution_count": 1143,
      "metadata": {
        "id": "RNYg5UQSJyTE",
        "colab": {
          "base_uri": "https://localhost:8080/",
          "height": 0
        },
        "outputId": "33372e77-fb0d-44c2-e70a-1b3aa51e4fb9"
      },
      "outputs": [
        {
          "output_type": "stream",
          "name": "stdout",
          "text": [
            "python programming language \n",
            " python programming language \n",
            " python programming language \n",
            " python programming language \n",
            " python programming language \n",
            " \n"
          ]
        }
      ],
      "source": [
        "print(\"python programming language \\n \"*5)"
      ]
    },
    {
      "cell_type": "code",
      "execution_count": 1144,
      "metadata": {
        "id": "onX-uMX2Kepg",
        "colab": {
          "base_uri": "https://localhost:8080/",
          "height": 0
        },
        "outputId": "a9721b8c-09a3-4c00-fe0c-28d9ca875d2f"
      },
      "outputs": [
        {
          "output_type": "stream",
          "name": "stdout",
          "text": [
            "My name is Pramila S Sankapal\n",
            " I am from vadagol\n",
            " I have complited pu college in Majalatti\n",
            " Now I am persuving BCA in B.K College Chikodi\n",
            "\n"
          ]
        }
      ],
      "source": [
        "print(\"My name is Pramila S Sankapal\\n I am from vadagol\\n I have complited pu college in Majalatti\\n Now I am persuving BCA in B.K College Chikodi\\n\")"
      ]
    },
    {
      "cell_type": "code",
      "execution_count": 1145,
      "metadata": {
        "id": "oaX1bzTlMJ38",
        "colab": {
          "base_uri": "https://localhost:8080/",
          "height": 0
        },
        "outputId": "b1092fa4-e06a-4531-d633-bdd70b6bdc73"
      },
      "outputs": [
        {
          "output_type": "stream",
          "name": "stdout",
          "text": [
            "HelloWorld\n"
          ]
        }
      ],
      "source": [
        "print(\"Hello\"+ \"World\")"
      ]
    },
    {
      "cell_type": "code",
      "execution_count": 1146,
      "metadata": {
        "id": "gSQvekGDMkNo",
        "colab": {
          "base_uri": "https://localhost:8080/",
          "height": 0
        },
        "outputId": "b1dcc5fa-4a63-4c9a-c4fa-1aaed7bd640a"
      },
      "outputs": [
        {
          "output_type": "stream",
          "name": "stdout",
          "text": [
            "Good morning\n",
            "Good morning\n",
            "Good morning\n",
            "Good morning\n",
            "Good morning\n",
            "Good morning\n",
            "Good morning\n",
            "Good morning\n",
            "Good morning\n",
            "Good morning\n",
            "\n"
          ]
        }
      ],
      "source": [
        "print(\"Good morning\\n\"*10)"
      ]
    },
    {
      "cell_type": "code",
      "execution_count": 1147,
      "metadata": {
        "id": "pVSjbBbQKHnF",
        "colab": {
          "base_uri": "https://localhost:8080/",
          "height": 0
        },
        "outputId": "95a9d051-3a2a-4166-b53f-e7f3ca23f9dc"
      },
      "outputs": [
        {
          "output_type": "stream",
          "name": "stdout",
          "text": [
            "Pramila\n"
          ]
        }
      ],
      "source": [
        "name = \"Pramila\"\n",
        "print(name)"
      ]
    },
    {
      "cell_type": "code",
      "execution_count": 1148,
      "metadata": {
        "id": "L8bQJzlGORBu",
        "colab": {
          "base_uri": "https://localhost:8080/",
          "height": 0
        },
        "outputId": "94a40277-94bf-4b3d-fcd2-fce1e62fe1fe"
      },
      "outputs": [
        {
          "output_type": "stream",
          "name": "stdout",
          "text": [
            "kannada=100\n",
            " English=97\n",
            " Physics=80\n",
            " Chemistry=85\n",
            " Mathematics=90\n",
            " Biology=95\n",
            "\n"
          ]
        }
      ],
      "source": [
        "print(\"kannada=100\\n English=97\\n Physics=80\\n Chemistry=85\\n Mathematics=90\\n Biology=95\\n\")"
      ]
    },
    {
      "cell_type": "code",
      "execution_count": 1149,
      "metadata": {
        "id": "KpI3b75GQOIY",
        "colab": {
          "base_uri": "https://localhost:8080/",
          "height": 0
        },
        "outputId": "11497912-4af3-41d5-dd81-465ad89ae365"
      },
      "outputs": [
        {
          "output_type": "stream",
          "name": "stdout",
          "text": [
            "Computer\n"
          ]
        }
      ],
      "source": [
        "_N_A_M_E = \"Computer\"\n",
        "print(_N_A_M_E)"
      ]
    },
    {
      "cell_type": "code",
      "execution_count": 1150,
      "metadata": {
        "id": "V4xw9AMBWC2K",
        "colab": {
          "base_uri": "https://localhost:8080/",
          "height": 0
        },
        "outputId": "e3da5945-8a05-4653-efdb-e2b773487047"
      },
      "outputs": [
        {
          "output_type": "stream",
          "name": "stdout",
          "text": [
            "19 19\n"
          ]
        }
      ],
      "source": [
        "Age = 19\n",
        "age = 19\n",
        "print(Age,age)"
      ]
    },
    {
      "cell_type": "code",
      "execution_count": 1151,
      "metadata": {
        "id": "B8AFEfWcWvHZ",
        "colab": {
          "base_uri": "https://localhost:8080/",
          "height": 0
        },
        "outputId": "4cdd19c5-4bf3-4b92-ccc0-643fc63f77d2"
      },
      "outputs": [
        {
          "output_type": "stream",
          "name": "stdout",
          "text": [
            "15 15\n"
          ]
        }
      ],
      "source": [
        "x=10\n",
        "x=15\n",
        "print(x,x)"
      ]
    },
    {
      "cell_type": "code",
      "execution_count": 1152,
      "metadata": {
        "id": "V_zHcz2rXRr9",
        "colab": {
          "base_uri": "https://localhost:8080/",
          "height": 0
        },
        "outputId": "a125bb1b-2825-4786-be58-d9386d5eb782"
      },
      "outputs": [
        {
          "output_type": "stream",
          "name": "stdout",
          "text": [
            "3.24\n"
          ]
        }
      ],
      "source": [
        "Y=3.24\n",
        "print(Y)"
      ]
    },
    {
      "cell_type": "code",
      "execution_count": 1153,
      "metadata": {
        "id": "39o_h_FuXyuT",
        "colab": {
          "base_uri": "https://localhost:8080/",
          "height": 0
        },
        "outputId": "f16c2157-875f-4abe-d12e-9a8841e8d074"
      },
      "outputs": [
        {
          "output_type": "stream",
          "name": "stdout",
          "text": [
            "True\n"
          ]
        }
      ],
      "source": [
        "yes = True\n",
        "print(yes)"
      ]
    },
    {
      "cell_type": "code",
      "execution_count": 1154,
      "metadata": {
        "id": "dVZ4kgWlYAng",
        "colab": {
          "base_uri": "https://localhost:8080/",
          "height": 0
        },
        "outputId": "27d526b9-983e-4df2-c6f7-14680f4d372e"
      },
      "outputs": [
        {
          "output_type": "stream",
          "name": "stdout",
          "text": [
            "Pramila\n"
          ]
        }
      ],
      "source": [
        "Name = 121\n",
        "print(name)"
      ]
    },
    {
      "cell_type": "code",
      "execution_count": 1155,
      "metadata": {
        "id": "BqmUGOf8YbTw",
        "colab": {
          "base_uri": "https://localhost:8080/",
          "height": 0
        },
        "outputId": "53aeeffe-ea6e-4125-bdb0-0c437c502006"
      },
      "outputs": [
        {
          "output_type": "stream",
          "name": "stdout",
          "text": [
            "Chikodi\n"
          ]
        }
      ],
      "source": [
        "NA_12_ME = \"Chikodi\"\n",
        "print(NA_12_ME)"
      ]
    },
    {
      "cell_type": "code",
      "execution_count": 1156,
      "metadata": {
        "id": "N5ttlUE1ZBmx",
        "colab": {
          "base_uri": "https://localhost:8080/",
          "height": 0
        },
        "outputId": "92da40e9-f46a-4c91-8c8d-ae23caf2512f"
      },
      "outputs": [
        {
          "output_type": "stream",
          "name": "stdout",
          "text": [
            "college 67.34\n"
          ]
        }
      ],
      "source": [
        "name = \"college\"\n",
        "per = 67.34\n",
        "print(name,per)"
      ]
    },
    {
      "cell_type": "code",
      "execution_count": 1157,
      "metadata": {
        "id": "0BDAHDVkZkUh",
        "colab": {
          "base_uri": "https://localhost:8080/",
          "height": 0
        },
        "outputId": "8a921b95-c35d-4493-9107-5b83dc410ebd"
      },
      "outputs": [
        {
          "output_type": "stream",
          "name": "stdout",
          "text": [
            "My name is Pramila I'm stutying in BK College\n"
          ]
        }
      ],
      "source": [
        "College = \"BK College\"\n",
        "Name = \"Pramila\"\n",
        "print(\"My name is\",Name,\"I'm stutying in\",College)\n"
      ]
    },
    {
      "cell_type": "code",
      "execution_count": 1158,
      "metadata": {
        "id": "VZHaTKNHgZVA",
        "colab": {
          "base_uri": "https://localhost:8080/",
          "height": 0
        },
        "outputId": "db4234e7-375b-48bc-bfb8-5df45d791cc4"
      },
      "outputs": [
        {
          "output_type": "stream",
          "name": "stdout",
          "text": [
            "Hello Good Evening How are you i am fine,where are you from I'm from chikodi so nice\n"
          ]
        }
      ],
      "source": [
        "# Hello Good Evening,How are you,i'am fine, where are you from i'm from chikodi,so nice\n",
        "text = \"Good Evening\"\n",
        "address = \"I'm from chikodi\"\n",
        "print(\"Hello\",text,\"How are you\",\"i am fine,where are you from\",address,\"so nice\")"
      ]
    },
    {
      "cell_type": "code",
      "execution_count": 1159,
      "metadata": {
        "id": "l1E-LgbLMMkq",
        "colab": {
          "base_uri": "https://localhost:8080/",
          "height": 0
        },
        "outputId": "4ae94b94-854d-4c1b-92f7-482451d88225"
      },
      "outputs": [
        {
          "output_type": "stream",
          "name": "stdout",
          "text": [
            "Good morning\n"
          ]
        }
      ],
      "source": [
        "print(\"Good morning\")"
      ]
    },
    {
      "cell_type": "code",
      "execution_count": 1160,
      "metadata": {
        "id": "aw89WPQeMkf5",
        "colab": {
          "base_uri": "https://localhost:8080/",
          "height": 0
        },
        "outputId": "94d5da61-bd6c-4376-ce9e-119295cf530a"
      },
      "outputs": [
        {
          "output_type": "stream",
          "name": "stdout",
          "text": [
            "good morning 18\n"
          ]
        }
      ],
      "source": [
        "a,b,c =\"good\",\"morning\",18\n",
        "print(a,b,c)"
      ]
    },
    {
      "cell_type": "code",
      "execution_count": 1161,
      "metadata": {
        "id": "z6gZJ7S0N1xe",
        "colab": {
          "base_uri": "https://localhost:8080/",
          "height": 0
        },
        "outputId": "9f775954-fb75-4a0d-f016-8bed0249d862"
      },
      "outputs": [
        {
          "output_type": "stream",
          "name": "stdout",
          "text": [
            "1001 1001 1001\n"
          ]
        }
      ],
      "source": [
        "X=Y=Z=1001\n",
        "print(X,Y,Z)"
      ]
    },
    {
      "cell_type": "code",
      "execution_count": 1162,
      "metadata": {
        "id": "tkAvTghtOIIz",
        "colab": {
          "base_uri": "https://localhost:8080/",
          "height": 0
        },
        "outputId": "f0f15ba5-2165-4f88-8b18-865561854ac7"
      },
      "outputs": [
        {
          "output_type": "stream",
          "name": "stdout",
          "text": [
            "College 25 ('College', 25)\n"
          ]
        }
      ],
      "source": [
        "A=B,C=\"College\",25\n",
        "print(B,C,A)"
      ]
    },
    {
      "cell_type": "code",
      "execution_count": 1163,
      "metadata": {
        "id": "IXWNUKVqOjl_",
        "colab": {
          "base_uri": "https://localhost:8080/",
          "height": 0
        },
        "outputId": "f9cd4a26-f45b-4938-fb7d-be122ebdde8a"
      },
      "outputs": [
        {
          "output_type": "stream",
          "name": "stdout",
          "text": [
            "Addition of 10 and 20 is= 30\n"
          ]
        }
      ],
      "source": [
        "A=10\n",
        "B=20\n",
        "print(\"Addition of\",A,\"and\",B,\"is=\",A+B)"
      ]
    },
    {
      "cell_type": "code",
      "execution_count": 1164,
      "metadata": {
        "id": "bB6pQ4ywSVib",
        "colab": {
          "base_uri": "https://localhost:8080/",
          "height": 0
        },
        "outputId": "8e788b0d-2b2d-413d-cf18-982ed6536da3"
      },
      "outputs": [
        {
          "output_type": "stream",
          "name": "stdout",
          "text": [
            "<class 'int'>\n"
          ]
        }
      ],
      "source": [
        "A=10\n",
        "print(type(A))"
      ]
    },
    {
      "cell_type": "code",
      "execution_count": 1165,
      "metadata": {
        "id": "uPrGv50DTQtq",
        "colab": {
          "base_uri": "https://localhost:8080/",
          "height": 0
        },
        "outputId": "9f54e218-15f0-4c07-b4c4-a43b072e8e39"
      },
      "outputs": [
        {
          "output_type": "stream",
          "name": "stdout",
          "text": [
            "<class 'int'>\n"
          ]
        }
      ],
      "source": [
        "X=35\n",
        "print(type(X))"
      ]
    },
    {
      "cell_type": "code",
      "execution_count": 1166,
      "metadata": {
        "id": "-v7dO19eU1-7",
        "colab": {
          "base_uri": "https://localhost:8080/",
          "height": 0
        },
        "outputId": "39561ae8-6e60-4cac-85e8-cb38f77a14a2"
      },
      "outputs": [
        {
          "output_type": "stream",
          "name": "stdout",
          "text": [
            "<class 'int'>\n"
          ]
        }
      ],
      "source": [
        "y=-100\n",
        "print(type(y))\n"
      ]
    },
    {
      "cell_type": "code",
      "execution_count": 1167,
      "metadata": {
        "id": "u5j7xvEmVJfp",
        "colab": {
          "base_uri": "https://localhost:8080/",
          "height": 0
        },
        "outputId": "8795e26d-2c41-4c37-f744-a02ef46f0f13"
      },
      "outputs": [
        {
          "output_type": "stream",
          "name": "stdout",
          "text": [
            "<class 'int'>\n"
          ]
        }
      ],
      "source": [
        "value=0\n",
        "print(type(value))"
      ]
    },
    {
      "cell_type": "code",
      "execution_count": 1168,
      "metadata": {
        "id": "Eq19ZCOoVYwh",
        "colab": {
          "base_uri": "https://localhost:8080/",
          "height": 0
        },
        "outputId": "b41292b5-bdc7-4ddf-a88d-50186bca366c"
      },
      "outputs": [
        {
          "output_type": "stream",
          "name": "stdout",
          "text": [
            "<class 'float'>\n"
          ]
        }
      ],
      "source": [
        "value=3.33\n",
        "print(type(value))"
      ]
    },
    {
      "cell_type": "code",
      "execution_count": 1169,
      "metadata": {
        "id": "Y9re2h2PXB1d",
        "colab": {
          "base_uri": "https://localhost:8080/",
          "height": 0
        },
        "outputId": "8d8ffbc7-46af-4c01-c6ec-8003acee32d3"
      },
      "outputs": [
        {
          "output_type": "stream",
          "name": "stdout",
          "text": [
            "<class 'float'>\n"
          ]
        }
      ],
      "source": [
        "Number=-100.33333\n",
        "print(type(Number))"
      ]
    },
    {
      "cell_type": "code",
      "execution_count": 1170,
      "metadata": {
        "id": "4FlN-x9zXccq",
        "colab": {
          "base_uri": "https://localhost:8080/",
          "height": 0
        },
        "outputId": "76f81a50-c161-487d-f72f-a5ad128d3376"
      },
      "outputs": [
        {
          "output_type": "stream",
          "name": "stdout",
          "text": [
            "<class 'float'>\n"
          ]
        }
      ],
      "source": [
        "Run=+20.0\n",
        "print(type(Run))"
      ]
    },
    {
      "cell_type": "code",
      "execution_count": 1171,
      "metadata": {
        "id": "cugbXo2pXwvv",
        "colab": {
          "base_uri": "https://localhost:8080/",
          "height": 0
        },
        "outputId": "b608d2d3-5868-4acb-910b-18e469f673f5"
      },
      "outputs": [
        {
          "output_type": "stream",
          "name": "stdout",
          "text": [
            "True\n"
          ]
        }
      ],
      "source": [
        "yes=True\n",
        "print(yes)"
      ]
    },
    {
      "cell_type": "code",
      "execution_count": 1172,
      "metadata": {
        "id": "T0whcWdqYDiL",
        "colab": {
          "base_uri": "https://localhost:8080/",
          "height": 0
        },
        "outputId": "705a4b75-a9c5-438a-a159-19969c251de4"
      },
      "outputs": [
        {
          "output_type": "stream",
          "name": "stdout",
          "text": [
            "<class 'int'>\n"
          ]
        }
      ],
      "source": [
        "yes=18\n",
        "print(type(yes))"
      ]
    },
    {
      "cell_type": "code",
      "execution_count": 1173,
      "metadata": {
        "id": "ulRTIzMXYd7g",
        "colab": {
          "base_uri": "https://localhost:8080/",
          "height": 0
        },
        "outputId": "67442918-3658-4f6d-d111-c9eb4fa10688"
      },
      "outputs": [
        {
          "output_type": "stream",
          "name": "stdout",
          "text": [
            "<class 'str'>\n"
          ]
        }
      ],
      "source": [
        "yes=\"False\"\n",
        "print(type(yes))"
      ]
    },
    {
      "cell_type": "code",
      "execution_count": 1174,
      "metadata": {
        "id": "6eq7SBrmZPYE",
        "colab": {
          "base_uri": "https://localhost:8080/",
          "height": 0
        },
        "outputId": "002374c8-ab5e-4115-a0fb-264c4d951fe2"
      },
      "outputs": [
        {
          "output_type": "stream",
          "name": "stdout",
          "text": [
            "<class 'str'>\n"
          ]
        }
      ],
      "source": [
        "Roll_number=\"101\"\n",
        "print(type(Roll_number))"
      ]
    },
    {
      "cell_type": "code",
      "execution_count": 1175,
      "metadata": {
        "id": "uR8AGYk6Zj1l",
        "colab": {
          "base_uri": "https://localhost:8080/",
          "height": 0
        },
        "outputId": "11e1b43f-ce12-4001-ff57-7d0a416b5db9"
      },
      "outputs": [
        {
          "output_type": "stream",
          "name": "stdout",
          "text": [
            "<class 'str'>\n"
          ]
        }
      ],
      "source": [
        "Section = '''c'''\n",
        "print(type(Section))"
      ]
    },
    {
      "cell_type": "code",
      "execution_count": 1176,
      "metadata": {
        "id": "GxjavD6Cbid9",
        "colab": {
          "base_uri": "https://localhost:8080/",
          "height": 0
        },
        "outputId": "86e92a29-50f1-42bb-9787-eef8e5e3283a"
      },
      "outputs": [
        {
          "output_type": "stream",
          "name": "stdout",
          "text": [
            "<class 'str'>\n"
          ]
        }
      ],
      "source": [
        "programe=\"\"\"program\"\"\"\n",
        "print(type(programe))"
      ]
    },
    {
      "cell_type": "code",
      "execution_count": 1177,
      "metadata": {
        "id": "NDuwGL2Kc0Y7",
        "colab": {
          "base_uri": "https://localhost:8080/",
          "height": 0
        },
        "outputId": "8e75fda2-0c55-4273-bea6-eb6bf100b14d"
      },
      "outputs": [
        {
          "output_type": "stream",
          "name": "stdout",
          "text": [
            "Python programming languages\n"
          ]
        }
      ],
      "source": [
        "string=\"Python programming languages\"\n",
        "print(string)"
      ]
    },
    {
      "cell_type": "code",
      "execution_count": 1178,
      "metadata": {
        "id": "EOkqJZnCdOPc",
        "colab": {
          "base_uri": "https://localhost:8080/",
          "height": 0
        },
        "outputId": "258afc51-9893-4600-a7a7-0849b7d5a8a6"
      },
      "outputs": [
        {
          "output_type": "stream",
          "name": "stdout",
          "text": [
            "BK\n",
            " college\n",
            "\n",
            "BK\n",
            " college\n",
            "\n",
            "BK\n",
            " college\n",
            "\n",
            "BK\n",
            " college\n",
            "\n",
            "BK\n",
            " college\n",
            "\n",
            "\n"
          ]
        }
      ],
      "source": [
        "first=\"BK\\n\"\n",
        "second=\"college\\n\"\n",
        "print(((first +\" \"+second)+\"\\n\")*5)"
      ]
    },
    {
      "cell_type": "code",
      "execution_count": 1179,
      "metadata": {
        "id": "ZJ4NJoeCkI7Y",
        "colab": {
          "base_uri": "https://localhost:8080/",
          "height": 0
        },
        "outputId": "c3eac23f-8e85-4e36-ceb7-1e13a8ae2b1d"
      },
      "outputs": [
        {
          "output_type": "stream",
          "name": "stdout",
          "text": [
            "n\n",
            "e\n",
            " \n",
            "hon program\n",
            "python programming l\n",
            " programming languages\n",
            "python programming language\n",
            " programming langu\n",
            "python programming languages\n",
            "pto rgamn agae\n",
            "segaugnal gnimmargorp nohtyp\n",
            "san iao hp\n"
          ]
        }
      ],
      "source": [
        "Name=\"python programming languages\"\n",
        "print(Name[5])\n",
        "print(Name[-2])\n",
        "print(Name[18])\n",
        "print(Name[3:14])\n",
        "print(Name[:20])\n",
        "print(Name[6:])\n",
        "print(Name[:-1])\n",
        "print(Name[-22:-4])\n",
        "print(Name[::1])\n",
        "print(Name[::2])\n",
        "print(Name[::-1])\n",
        "print(Name[::-3])"
      ]
    },
    {
      "cell_type": "code",
      "execution_count": 1180,
      "metadata": {
        "id": "nCyrLKT0pmw8",
        "colab": {
          "base_uri": "https://localhost:8080/",
          "height": 0
        },
        "outputId": "ccbf2bd7-3d2a-4b9b-9ecb-d1dd34f29dbd"
      },
      "outputs": [
        {
          "output_type": "stream",
          "name": "stdout",
          "text": [
            "multi line comments\n",
            "hi,Good Morning\n",
            "\n"
          ]
        }
      ],
      "source": [
        "Details='''multi line comments\n",
        "hi,Good Morning\n",
        "'''\n",
        "print(Details)"
      ]
    },
    {
      "cell_type": "code",
      "execution_count": 1181,
      "metadata": {
        "id": "6DGfeH_Q4Lzy",
        "colab": {
          "base_uri": "https://localhost:8080/",
          "height": 0
        },
        "outputId": "1a8acffa-6eff-42cc-823e-82483a902c66"
      },
      "outputs": [
        {
          "output_type": "stream",
          "name": "stdout",
          "text": [
            "[101]\n",
            "<class 'list'>\n",
            "[101, 'Pramila']\n"
          ]
        }
      ],
      "source": [
        "list1=[101]\n",
        "print(list1)\n",
        "print(type(list1))\n",
        "list1.append(\"Pramila\")\n",
        "print(list1)"
      ]
    },
    {
      "cell_type": "code",
      "execution_count": 1182,
      "metadata": {
        "id": "RXPpfFazOS1F",
        "colab": {
          "base_uri": "https://localhost:8080/",
          "height": 0
        },
        "outputId": "bbd83c37-2d46-44fb-95fc-2aef950e1fa1"
      },
      "outputs": [
        {
          "output_type": "stream",
          "name": "stdout",
          "text": [
            "[101]\n",
            "<class 'list'>\n",
            "[101, 85.12]\n",
            "[101, 85.12, True]\n",
            "3\n",
            "True\n",
            "[101, 85.12]\n",
            "Pramila\n",
            "[101, 85.12, 'pramila']\n",
            "[101, 85.12, 'pramila', -99]\n",
            "4\n",
            "pramila\n",
            "-99\n",
            "[101, 85.12, 'pramila', -99, 'BK college chikodi']\n",
            "5\n",
            "[101, 85.12, 'pramila', 99, 'BK college chikodi']\n",
            "pramila99\n",
            "['pramila', 99]\n",
            "[101, 85.12, False, 'pramila', 99, 'BK college chikodi']\n",
            "[101, 85.12, 'pramila', 99, 'BK college chikodi']\n",
            "5\n",
            "BK college chikodi\n",
            "['BK college chikodi', 99, 'pramila', 85.12, 101]\n",
            "1\n",
            "None\n",
            "[]\n",
            "<class 'list'>\n"
          ]
        }
      ],
      "source": [
        "from logging import debug\n",
        "details=[101]\n",
        "print(details)#101\n",
        "print(type(details))#list\n",
        "details.append(85.12)\n",
        "print(details)#101,85.12\n",
        "details.append(True)\n",
        "print(details)#101,85.12,True\n",
        "print(len(details))\n",
        "print(details.pop())\n",
        "print(details)\n",
        "print(\"Pramila\")\n",
        "details.append(\"pramila\")\n",
        "print(details)\n",
        "details.append(-99)\n",
        "print(details)\n",
        "print(len(details))\n",
        "print(details[2])\n",
        "print(details[-1])\n",
        "details.append(\"BK college chikodi\")\n",
        "print(details)\n",
        "print(len(details))\n",
        "details[3]=99\n",
        "print(details)\n",
        "print(\"pramila99\")\n",
        "print(details[2:4])\n",
        "details.insert(2,False)\n",
        "print(details)\n",
        "details.remove(False)\n",
        "print(details)\n",
        "print(len(details))\n",
        "print(details[4])\n",
        "print(details[::-1])\n",
        "print(details.count(101))\n",
        "print(details.clear())\n",
        "print(details)\n",
        "print(type(details))\n"
      ]
    },
    {
      "cell_type": "code",
      "execution_count": 1183,
      "metadata": {
        "id": "pAclYJUvbdz8",
        "colab": {
          "base_uri": "https://localhost:8080/",
          "height": 0
        },
        "outputId": "d2e6f8f3-15a5-450c-e3c7-10488742b3ef"
      },
      "outputs": [
        {
          "output_type": "stream",
          "name": "stdout",
          "text": [
            "[110]\n",
            "<class 'list'>\n",
            "[110, 92.45]\n",
            "[110, 92.45, True]\n",
            "3\n",
            "True\n",
            "[110, 92.45]\n",
            "Pramila\n",
            "[110, 92.45, 'Pramila']\n",
            "[110, 92.45, 'Pramila', -97]\n",
            "4\n",
            "-97\n",
            "Pramila\n",
            "[110, 92.45, 'Pramila', -97, 'BK college chikodi']\n",
            "5\n",
            "[110, 92.45, 'Pramila', -97, 97]\n",
            "Pramila97\n",
            "[]\n",
            "[110, 92.45, 'Pramila', False, -97, 97]\n",
            "[110, 92.45, 'Pramila', -97, 97]\n",
            "5\n",
            "-97\n",
            "[97, 'Pramila', 110]\n",
            "1\n",
            "None\n",
            "[]\n",
            "<class 'list'>\n"
          ]
        }
      ],
      "source": [
        "from re import I\n",
        "information=[110]\n",
        "print(information)#110\n",
        "print(type(information))#list\n",
        "information.append(92.45)\n",
        "print(information)#110,92.45\n",
        "information.append(True)\n",
        "print(information)#110,92.45,True\n",
        "print(len(information))\n",
        "print(information.pop())\n",
        "print(information)\n",
        "print(\"Pramila\")\n",
        "information.append(\"Pramila\")\n",
        "print(information)\n",
        "information.append(-97)\n",
        "print(information)\n",
        "print(len(information))\n",
        "print(information[3])\n",
        "print(information[-2])\n",
        "information.append(\"BK college chikodi\")\n",
        "print(information)\n",
        "print(len(information))\n",
        "information[4]=97\n",
        "print(information)\n",
        "print(\"Pramila97\")\n",
        "print(information[3:2])\n",
        "information.insert(3,False)\n",
        "print(information)\n",
        "information.remove(False)\n",
        "print(information)\n",
        "print(len(information))\n",
        "print(information[3])\n",
        "print(information[::-2])\n",
        "print(information.count(110))\n",
        "print(information.clear())\n",
        "print(information)\n",
        "print(type(information))"
      ]
    },
    {
      "cell_type": "code",
      "execution_count": 1184,
      "metadata": {
        "id": "YRXvkKiy57zk",
        "colab": {
          "base_uri": "https://localhost:8080/",
          "height": 0
        },
        "outputId": "51c1b9e4-b8ce-4840-e028-b780522e9a24"
      },
      "outputs": [
        {
          "output_type": "stream",
          "name": "stdout",
          "text": [
            "6\n"
          ]
        }
      ],
      "source": [
        "# Address = 2010\n",
        "print(3+3)"
      ]
    },
    {
      "cell_type": "code",
      "execution_count": 1185,
      "metadata": {
        "id": "nswXzOo267Gf",
        "colab": {
          "base_uri": "https://localhost:8080/",
          "height": 0
        },
        "outputId": "6d009063-5bb1-4a35-95db-b9f6e449a60c"
      },
      "outputs": [
        {
          "output_type": "stream",
          "name": "stdout",
          "text": [
            "(1, 'Triveni', 3.12, False, 1)\n",
            "5\n",
            "<class 'tuple'>\n",
            "2\n",
            "(1, 'Triveni', 3.12)\n",
            "False\n",
            "1\n"
          ]
        }
      ],
      "source": [
        "Example = (1,\"Triveni\",3.12,False,1)\n",
        "print(Example)\n",
        "print(len(Example))\n",
        "print(type(Example))\n",
        "print(Example.count(1))\n",
        "print(Example[0:3])\n",
        "print(Example[3])\n",
        "print(Example[-1])\n",
        "\n"
      ]
    },
    {
      "cell_type": "code",
      "execution_count": 1186,
      "metadata": {
        "id": "s7PvR1eG_Mq0",
        "colab": {
          "base_uri": "https://localhost:8080/",
          "height": 0
        },
        "outputId": "9a9948f3-78a4-49f1-b4fe-b3e8d07f2331"
      },
      "outputs": [
        {
          "output_type": "stream",
          "name": "stdout",
          "text": [
            "(2, 4, 7, 9, 3, 9, 3, 2)\n",
            "(2, 4, 7, 9, 3, 9, 3, 2, 2, 4, 5, 7)\n",
            "(2, 4, 5, 7, 2, 4, 5, 7, 2, 4, 5, 7, 2, 4, 5, 7)\n"
          ]
        }
      ],
      "source": [
        "Number = (2,4,7,9,3,9,3,2)\n",
        "print(Number)\n",
        "Add = (2,4,5,7)\n",
        "print(Number + Add)\n",
        "print(Add*4)\n"
      ]
    },
    {
      "cell_type": "code",
      "execution_count": 1187,
      "metadata": {
        "id": "IsiabmupCQmj",
        "colab": {
          "base_uri": "https://localhost:8080/",
          "height": 0
        },
        "outputId": "978bd08e-fb0e-4adf-d917-f6ee23cf67fd"
      },
      "outputs": [
        {
          "output_type": "stream",
          "name": "stdout",
          "text": [
            "{1, 2, 3, 4, 5}\n",
            "<class 'set'>\n",
            "5\n",
            "{1, 2, 3, 4, 5, 10}\n",
            "{1, 2, 3, 4, 5, 'BKC', 10}\n"
          ]
        }
      ],
      "source": [
        "Example = {1,2,2,3,4,5}\n",
        "print(Example)\n",
        "print(type(Example))\n",
        "print(len(Example))\n",
        "Example.add(10)\n",
        "print(Example)\n",
        "Example.add(\"BKC\")\n",
        "print(Example)\n"
      ]
    },
    {
      "cell_type": "code",
      "execution_count": 1188,
      "metadata": {
        "id": "ZKA3yzY3EMCg",
        "colab": {
          "base_uri": "https://localhost:8080/",
          "height": 0
        },
        "outputId": "0f35bd35-af25-43ad-d849-0e7c640969d3"
      },
      "outputs": [
        {
          "output_type": "stream",
          "name": "stdout",
          "text": [
            "{1, 2, 3, 4, 5, 6, 7}\n",
            "<class 'set'>\n",
            "7\n",
            "{1, 2, 3, 4, 5, 6, 7, 'BKC'}\n",
            "{1, 2, 3, 4, 5, 6, 7, 'BKC', 33.14}\n",
            "{1, 2, 3, 4, 5, 6, 7, 'BKC', 33.14, 'True'}\n",
            "1\n",
            "{2, 3, 4, 5, 6, 7, 'BKC', 33.14, 'True'}\n",
            "{2, 3, 5, 6, 7, 'BKC', 33.14, 'True'}\n"
          ]
        }
      ],
      "source": [
        "ex = {1,2,2,3,4,4,5,6,7}\n",
        "print(ex)\n",
        "print(type(ex))\n",
        "print(len(ex))\n",
        "ex.add(\"BKC\")\n",
        "print(ex)\n",
        "ex.add(33.14)\n",
        "print(ex)\n",
        "ex.add(\"True\")\n",
        "print(ex)\n",
        "print(ex.pop())\n",
        "print(ex)\n",
        "ex.remove(4)\n",
        "print(ex)\n",
        "\n",
        "\n"
      ]
    },
    {
      "cell_type": "code",
      "execution_count": 1189,
      "metadata": {
        "id": "4vCQAyAvHXY_",
        "colab": {
          "base_uri": "https://localhost:8080/",
          "height": 0
        },
        "outputId": "5de1ce83-98b9-489f-c336-8679d6574823"
      },
      "outputs": [
        {
          "output_type": "stream",
          "name": "stdout",
          "text": [
            "{1, 2, 3, 4, 5, 6}\n",
            "{1, 2, 3, 4, 5, 6}\n",
            "{3, 4}\n",
            "{3, 4}\n",
            "{1, 2}\n",
            "{1, 2}\n",
            "{5, 6}\n",
            "{5, 6}\n"
          ]
        }
      ],
      "source": [
        "first = {1,2,3,4,4,2}\n",
        "second = {3,5,4,6}\n",
        "print(first | second)\n",
        "print(first.union(second))\n",
        "print(first&second)\n",
        "print(first.intersection(second))\n",
        "print(first-second)\n",
        "print(first.difference(second))\n",
        "print(second-first)\n",
        "print(second.difference(first))"
      ]
    },
    {
      "cell_type": "code",
      "execution_count": 1190,
      "metadata": {
        "id": "XY_NhjblLg86",
        "colab": {
          "base_uri": "https://localhost:8080/",
          "height": 0
        },
        "outputId": "6f8da220-e4b3-4f9c-ac57-4759deafe4c1"
      },
      "outputs": [
        {
          "output_type": "stream",
          "name": "stdout",
          "text": [
            "{'Roll_number': 186, 'Name': 'Pramila', 'Address': 'Vadagol', 'CGPA': 7.53, 'Course': 'BCA', 'Year': 2025}\n",
            "6\n",
            "{'Roll_number': 186, 'Name': 'Pramila', 'Address': 'Vadagol', 'CGPA': 7.53, 'Course': 'BCA', 'Year': 2025, 'Gender': 'Female'}\n",
            "{'Roll_number': 186, 'Name': 'Pramila', 'Address': 'Vadagol', 'CGPA': 7.53, 'Course': 'BCA', 'Year': 2025, 'Gender': 'Female', 'College': 'Majalatti'}\n",
            "{'Roll_number': 186, 'Name': 'Pramila', 'Address': 'Vadagol', 'CGPA': 7.53, 'Course': 'BCA', 'Year': 2025, 'Gender': 'Female', 'College': 'Belagavi University'}\n",
            "{'Roll_number': 186, 'Name': 'Pramila', 'Address': 'Vadagol', 'CGPA': 7.53, 'Course': 'BCA', 'Year': 2025, 'College': 'Belagavi University'}\n",
            "{'Roll_number': 186, 'Name': 'Pramila', 'Address': 'Vadagol', 'CGPA': 7.53, 'Course': 'BCA', 'Year': 2025, 'College': 'Belagavi University', 'Gender': 'Female'}\n",
            "Belagavi University\n",
            "19\n",
            "{'Roll_number': 186, 'Name': 'Pramila', 'CGPA': 7.53, 'Course': 'BCA', 'Year': 2025, 'College': 'Belagavi University', 'Gender': 'Female', 'Age': 19}\n",
            "8\n",
            "{'Roll_number': 186, 'Name': 'Pramila', 'CGPA': 7.53, 'Course': 'BCA', 'Year': 2025, 'College': 'Belagavi University', 'Gender': 'Female', 'Age': 19}\n",
            "{'Roll_number': 186, 'Name': 'Pramila', 'CGPA': 7.53, 'Course': 'BCA', 'Year': 2025, 'College': 'Belagavi University', 'Gender': 'Female'}\n",
            "dict_keys(['Roll_number', 'Name', 'CGPA', 'Course', 'Year', 'College', 'Gender'])\n",
            "dict_values([186, 'Pramila', 7.53, 'BCA', 2025, 'Belagavi University', 'Female'])\n",
            "dict_items([('Roll_number', 186), ('Name', 'Pramila'), ('CGPA', 7.53), ('Course', 'BCA'), ('Year', 2025), ('College', 'Belagavi University'), ('Gender', 'Female')])\n",
            "None\n"
          ]
        }
      ],
      "source": [
        "Dict = {\"Roll_number\" :    186,\n",
        "        \"Name\"        :   \"Pramila\",\n",
        "        \"Address\"     :   \"Vadagol\",\n",
        "        \"CGPA\"        :    7.53,\n",
        "        \"Course\"      :    \"BCA\",\n",
        "        \"Year\"        :    2025\n",
        "}\n",
        "print(Dict)\n",
        "print(len(Dict))\n",
        "Dict[\"Gender\"] = \"Female\"\n",
        "print(Dict)\n",
        "Dict[\"College\"] = \"Majalatti\"\n",
        "print(Dict)\n",
        "Dict[\"College\"] = \"Belagavi University\"\n",
        "print(Dict)\n",
        "del Dict[\"Gender\"]\n",
        "print(Dict)\n",
        "Dict[\"Gender\"] = \"Female\"\n",
        "print(Dict)\n",
        "print(Dict[\"College\"])\n",
        "Dict[\"Age\"] = 19\n",
        "print(Dict[\"Age\"])\n",
        "Dict.pop(\"Address\")\n",
        "print(Dict)\n",
        "print(len(Dict))\n",
        "print(Dict)\n",
        "Dict.popitem()\n",
        "print(Dict)\n",
        "print(Dict.keys())\n",
        "print(Dict.values())\n",
        "print(Dict.items())\n",
        "print(Dict.clear())\n"
      ]
    },
    {
      "cell_type": "code",
      "execution_count": 1191,
      "metadata": {
        "id": "zOeFQLqIVoRU",
        "colab": {
          "base_uri": "https://localhost:8080/",
          "height": 0
        },
        "outputId": "702f68be-c974-4449-fea6-0636bf2e0a28"
      },
      "outputs": [
        {
          "output_type": "stream",
          "name": "stdout",
          "text": [
            "{'Roll_number': 166, 'Name': 'Triveni', 'Address': 'Toranahalli', 'CGPA': 8.64, 'Course': 'BCA', 'Year': 2025}\n",
            "6\n",
            "{'Roll_number': 166, 'Name': 'Triveni', 'Address': 'Toranahalli', 'CGPA': 8.64, 'Course': 'BCA', 'Year': 2025, 'Gender': 'Female'}\n"
          ]
        }
      ],
      "source": [
        "Type = {\"Roll_number\" :   166,\n",
        "        \"Name\"        :   \"Triveni\",\n",
        "        \"Address\"     :   \"Toranahalli\",\n",
        "        \"CGPA\"        :    8.64,\n",
        "        \"Course\"      :    \"BCA\",\n",
        "        \"Year\"        :    2025\n",
        "}\n",
        "print(Type)\n",
        "print(len(Type))\n",
        "Type[\"Gender\"] = \"Female\"\n",
        "print(Type)\n"
      ]
    },
    {
      "cell_type": "code",
      "execution_count": 1192,
      "metadata": {
        "id": "b3xNL0onYSOL",
        "colab": {
          "base_uri": "https://localhost:8080/",
          "height": 0
        },
        "outputId": "e38a8390-ca4c-455a-9b89-8776df817592"
      },
      "outputs": [
        {
          "output_type": "stream",
          "name": "stdout",
          "text": [
            "{'Employe_id': 1001, 'Employe_Name': 'Abhi', 'Contact_number': 6372534685, 'Salary': 200000, 'Email_id': 'abhi2005@gmail.com', 'Company': 'Microsoft', 'Employe_habbit': 'Gaming', 'Pin_code': '591244', 'Country': 'India'}\n",
            "{'Employe_id': 1001, 'Employe_Name': 'Abhi', 'Contact_number': 6372534685, 'Salary': 200000, 'Email_id': 'abhi2005@gmail.com', 'Company': 'Microsoft', 'Employe_habbit': 'Gaming', 'Pin_code': '591244', 'Country': 'India'}\n",
            "9\n",
            "200000\n",
            "9\n",
            "('Department', 'Developer')\n",
            "dict_keys(['Employe_id', 'Employe_Name', 'Contact_number', 'Salary', 'Company', 'Employe_habbit', 'Pin_code', 'Country'])\n",
            "dict_values([1001, 'Abhi', 6372534685, 200000, 'Microsoft', 'Gaming', '591244', 'India'])\n"
          ]
        }
      ],
      "source": [
        "Employe = { \"Employe_id\"     :  1001,\n",
        "            \"Employe_Name\"   : \"Abhi\",\n",
        "            \"Contact_number\" :  6372534685,\n",
        "            \"Salary\"         :  200000,\n",
        "            \"Email_id\"       : \"abhi2005@gmail.com\",\n",
        "            \"Company\"        : \"Microsoft\",\n",
        "            \"Employe_habbit\" : \"Gaming\",\n",
        "            \"Pin_code\"       : \"591244\",\n",
        "            \"Country\"        : \"India\"\n",
        "\n",
        "\n",
        "}\n",
        "print(Employe)\n",
        "Employe[\"Country\"] = \"India\"\n",
        "Employe[\"Pin_code\"] = \"591244\"\n",
        "print(Employe)\n",
        "print(len(Employe))\n",
        "print(Employe[\"Salary\"])\n",
        "Employe.pop(\"Email_id\")\n",
        "Employe[\"Department\"] =\"Developer\"\n",
        "print(len(Employe))\n",
        "print(Employe.popitem())\n",
        "print(Employe.keys())\n",
        "print(Employe.values())\n",
        "\n"
      ]
    },
    {
      "cell_type": "code",
      "execution_count": 1193,
      "metadata": {
        "id": "ZiNTZW5QkrL8",
        "colab": {
          "base_uri": "https://localhost:8080/",
          "height": 0
        },
        "outputId": "266e1182-866f-42d5-d165-592c5d098607"
      },
      "outputs": [
        {
          "output_type": "stream",
          "name": "stdout",
          "text": [
            "{'Name': 'Pramila', 'name': 'Pramila', 'F_name': 'Pramila', 'L_name': 'Pramila'}\n"
          ]
        }
      ],
      "source": [
        "Name = {\"Name\" : \"Pramila\",\n",
        "        \"name\" : \"Pramila\",\n",
        "        \"F_name\" : \"Pramila\",\n",
        "        \"L_name\" : \"Pramila\"\n",
        "}\n",
        "print(Name)\n"
      ]
    },
    {
      "cell_type": "code",
      "execution_count": 1194,
      "metadata": {
        "id": "_PmmfPRLKh_O",
        "colab": {
          "base_uri": "https://localhost:8080/",
          "height": 0
        },
        "outputId": "812d558f-a7e9-4ab9-a82f-7b0071a2adba"
      },
      "outputs": [
        {
          "output_type": "stream",
          "name": "stdout",
          "text": [
            "<class 'int'>\n",
            "<class 'int'>\n",
            "3.3333333333333335\n",
            "<class 'float'>\n"
          ]
        }
      ],
      "source": [
        "a = 10\n",
        "b = 3\n",
        "c = a/b\n",
        "print(type(a))\n",
        "print(type(b))\n",
        "print(a/b)\n",
        "print(type(c))"
      ]
    },
    {
      "cell_type": "code",
      "execution_count": 1195,
      "metadata": {
        "id": "d6HzjOKLL-51",
        "colab": {
          "base_uri": "https://localhost:8080/",
          "height": 0
        },
        "outputId": "9d9d8339-1ac6-4baa-e0c3-4e915bce9e4e"
      },
      "outputs": [
        {
          "output_type": "stream",
          "name": "stdout",
          "text": [
            "13\n",
            "<class 'int'>\n",
            "<class 'int'>\n",
            "<class 'int'>\n",
            "<class 'float'>\n"
          ]
        }
      ],
      "source": [
        "a = 10\n",
        "b = 3\n",
        "c = a+b\n",
        "print(a+b)\n",
        "print(type(a))\n",
        "print(type(b))\n",
        "print(type(c))\n",
        "print(type(a/b))"
      ]
    },
    {
      "cell_type": "code",
      "execution_count": 1196,
      "metadata": {
        "id": "0rXODO1PNfRF",
        "colab": {
          "base_uri": "https://localhost:8080/",
          "height": 0
        },
        "outputId": "4ea69327-7ec7-4a08-d381-11998d6616aa"
      },
      "outputs": [
        {
          "output_type": "stream",
          "name": "stdout",
          "text": [
            "<class 'float'>\n"
          ]
        }
      ],
      "source": [
        "#\n",
        "i=20\n",
        "j=5.5\n",
        "k=i+j\n",
        "print(type(k))"
      ]
    },
    {
      "cell_type": "code",
      "execution_count": 1197,
      "metadata": {
        "id": "x9C_OiDhN1Wz",
        "colab": {
          "base_uri": "https://localhost:8080/",
          "height": 0
        },
        "outputId": "b12632bc-ce6a-49fc-8c93-20f2d13e0f06"
      },
      "outputs": [
        {
          "output_type": "stream",
          "name": "stdout",
          "text": [
            "<class 'float'>\n"
          ]
        }
      ],
      "source": [
        "# int -> float\n",
        "i=20\n",
        "j=5.5\n",
        "k=i+j\n",
        "print(type(k))"
      ]
    },
    {
      "cell_type": "code",
      "execution_count": 1198,
      "metadata": {
        "id": "KZVXIe6WOSr8",
        "colab": {
          "base_uri": "https://localhost:8080/",
          "height": 0
        },
        "outputId": "86997b5c-0b65-444b-ef11-bb5df93660ff"
      },
      "outputs": [
        {
          "output_type": "stream",
          "name": "stdout",
          "text": [
            "<class 'float'>\n"
          ]
        }
      ],
      "source": [
        "# int -> float\n",
        "a=49\n",
        "b=7\n",
        "print(type(a/b))"
      ]
    },
    {
      "cell_type": "code",
      "execution_count": 1199,
      "metadata": {
        "id": "08wSOShNOrcj",
        "colab": {
          "base_uri": "https://localhost:8080/",
          "height": 0
        },
        "outputId": "5cfa7232-0187-414f-aef1-b478faa94a07"
      },
      "outputs": [
        {
          "output_type": "stream",
          "name": "stdout",
          "text": [
            "<class 'bool'>\n",
            "<class 'int'>\n"
          ]
        }
      ],
      "source": [
        "i=True\n",
        "print(type(i))\n",
        "j=5\n",
        "print(type(i+j))\n"
      ]
    },
    {
      "cell_type": "code",
      "execution_count": 1200,
      "metadata": {
        "id": "kFXUC2oUPaer",
        "colab": {
          "base_uri": "https://localhost:8080/",
          "height": 0
        },
        "outputId": "1f278380-b6a8-4b36-de05-c6f3ef73bdb4"
      },
      "outputs": [
        {
          "output_type": "stream",
          "name": "stdout",
          "text": [
            "<class 'float'>\n"
          ]
        }
      ],
      "source": [
        "M=2.9\n",
        "N=False\n",
        "O=M-N\n",
        "print(type(O))"
      ]
    },
    {
      "cell_type": "code",
      "execution_count": 1201,
      "metadata": {
        "id": "9XMM7mLcQBDa",
        "colab": {
          "base_uri": "https://localhost:8080/",
          "height": 0
        },
        "outputId": "d965e63d-833f-47cc-d4d1-7ba542d4f63b"
      },
      "outputs": [
        {
          "output_type": "stream",
          "name": "stdout",
          "text": [
            "<class 'int'>\n"
          ]
        }
      ],
      "source": [
        "p=True\n",
        "Q=False\n",
        "R=p+Q\n",
        "print(type(R))"
      ]
    },
    {
      "cell_type": "code",
      "execution_count": 1202,
      "metadata": {
        "id": "axzPeygdQYf6",
        "colab": {
          "base_uri": "https://localhost:8080/",
          "height": 0
        },
        "outputId": "f2ddcb0f-c928-4bea-e6c7-d6b7b6d33e68"
      },
      "outputs": [
        {
          "output_type": "stream",
          "name": "stdout",
          "text": [
            "<class 'float'>\n"
          ]
        }
      ],
      "source": [
        "S=2.6\n",
        "T=False\n",
        "print(type(S*T))"
      ]
    },
    {
      "cell_type": "code",
      "execution_count": 1203,
      "metadata": {
        "id": "NJq9cb-2R6kC",
        "colab": {
          "base_uri": "https://localhost:8080/",
          "height": 0
        },
        "outputId": "5fc29d4b-dd28-424c-c9ae-8ea74c409b35"
      },
      "outputs": [
        {
          "output_type": "stream",
          "name": "stdout",
          "text": [
            "<class 'float'>\n",
            "<class 'int'>\n",
            "<class 'float'>\n"
          ]
        }
      ],
      "source": [
        "#Implicit\n",
        "num = 3.12\n",
        "print(type(num))\n",
        "# Explicit\n",
        "add = int(num)\n",
        "print(type(add))\n",
        "mul = float(add)\n",
        "print(type(mul))"
      ]
    },
    {
      "cell_type": "code",
      "execution_count": 1204,
      "metadata": {
        "id": "0_IzdSIKTuWQ",
        "colab": {
          "base_uri": "https://localhost:8080/",
          "height": 0
        },
        "outputId": "77cb672c-e33b-4e58-f18b-4560a95325f8"
      },
      "outputs": [
        {
          "output_type": "stream",
          "name": "stdout",
          "text": [
            "<class 'str'>\n",
            "<class 'int'>\n",
            "<class 'bool'>\n",
            "<class 'int'>\n"
          ]
        }
      ],
      "source": [
        "Num = \"101\"\n",
        "print(type(Num))\n",
        "\n",
        "# Explicit\n",
        "add = int(Num)\n",
        "print(type(add))\n",
        "\n",
        "\n",
        "Men = True\n",
        "print(type(Men))\n",
        "\n",
        "Fem = int(Men)\n",
        "print(type(Fem))\n",
        "\n"
      ]
    },
    {
      "cell_type": "code",
      "execution_count": 1205,
      "metadata": {
        "id": "GvMaHaOwWCm9",
        "colab": {
          "base_uri": "https://localhost:8080/",
          "height": 0
        },
        "outputId": "1126598d-5bfb-411a-85c5-edb8ff181361"
      },
      "outputs": [
        {
          "output_type": "stream",
          "name": "stdout",
          "text": [
            "<class 'str'>\n"
          ]
        }
      ],
      "source": [
        "print(type(str(100)))"
      ]
    },
    {
      "cell_type": "code",
      "execution_count": 1206,
      "metadata": {
        "id": "r2mvTuQzWOAu",
        "colab": {
          "base_uri": "https://localhost:8080/",
          "height": 0
        },
        "outputId": "c4fadd5c-7698-49ba-dac8-a4c7b89fd951"
      },
      "outputs": [
        {
          "output_type": "stream",
          "name": "stdout",
          "text": [
            "<class 'int'>\n",
            "<class 'bool'>\n",
            "<class 'float'>\n",
            "<class 'bool'>\n",
            "<class 'bool'>\n",
            "0.0\n",
            "<class 'float'>\n",
            "<class 'bool'>\n",
            "1.0\n",
            "<class 'float'>\n"
          ]
        }
      ],
      "source": [
        "Demo = 1\n",
        "print(type(Demo))\n",
        "print(type(bool(Demo)))\n",
        "\n",
        "Demo=9.99\n",
        "print(type(Demo))\n",
        "print(type(bool(Demo)))\n",
        "\n",
        "Demo = False\n",
        "print(type(Demo))\n",
        "\n",
        "Ex = float(Demo)\n",
        "print(Ex)\n",
        "print(type(Ex))\n",
        "\n",
        "Demo = True\n",
        "print(type(Demo))\n",
        "\n",
        "Ex = float(Demo)\n",
        "print(Ex)\n",
        "print(type(Ex))\n"
      ]
    },
    {
      "cell_type": "code",
      "execution_count": 1207,
      "metadata": {
        "id": "OWH-VA35cD65",
        "colab": {
          "base_uri": "https://localhost:8080/",
          "height": 0
        },
        "outputId": "719ea643-4058-4d7e-a863-0fd3faeb609c"
      },
      "outputs": [
        {
          "output_type": "stream",
          "name": "stdout",
          "text": [
            "<class 'str'>\n",
            "<class 'float'>\n"
          ]
        }
      ],
      "source": [
        "# 1) str -> list\n",
        "Num1  = \"Pramila\"\n",
        "print(type(Num1))\n",
        "\n",
        "Ex1 = list(Num1)\n",
        "print(type(Ex))"
      ]
    },
    {
      "cell_type": "code",
      "execution_count": 1208,
      "metadata": {
        "id": "JYEzlfh3dbJU",
        "colab": {
          "base_uri": "https://localhost:8080/",
          "height": 0
        },
        "outputId": "49494ea7-b94f-44f1-9917-413869b5989d"
      },
      "outputs": [
        {
          "output_type": "stream",
          "name": "stdout",
          "text": [
            "<class 'tuple'>\n",
            "<class 'list'>\n"
          ]
        }
      ],
      "source": [
        "# 2) tuple -> list\n",
        "Num2 = (1,2,3,4,5)\n",
        "print(type(Num2))\n",
        "\n",
        "Ex2 = list(Num2)\n",
        "print(type(Ex2))"
      ]
    },
    {
      "cell_type": "code",
      "execution_count": 1209,
      "metadata": {
        "id": "Y346g3zAe9qo",
        "colab": {
          "base_uri": "https://localhost:8080/",
          "height": 0
        },
        "outputId": "7716cc15-18e4-4663-bef3-cfb6f89e5ebb"
      },
      "outputs": [
        {
          "output_type": "stream",
          "name": "stdout",
          "text": [
            "<class 'set'>\n",
            "<class 'list'>\n"
          ]
        }
      ],
      "source": [
        "# 3) set -> list\n",
        "Num3 = {1,23,4,5}\n",
        "print(type(Num3))\n",
        "\n",
        "Ex3 = list(Num3)\n",
        "print(type(Ex3))\n"
      ]
    },
    {
      "cell_type": "code",
      "execution_count": 1210,
      "metadata": {
        "id": "Sst5Gf2Xf2L3",
        "colab": {
          "base_uri": "https://localhost:8080/",
          "height": 0
        },
        "outputId": "9fc776b2-2635-4a61-c10b-f94b2c1f79e2"
      },
      "outputs": [
        {
          "output_type": "stream",
          "name": "stdout",
          "text": [
            "<class 'dict'>\n",
            "<class 'dict'>\n"
          ]
        }
      ],
      "source": [
        "# 4) Dict-> list\n",
        "Num4 = {}\n",
        "print(type(Num4))\n",
        "\n",
        "Ex4 = list(Num4)\n",
        "print(type(Num4))"
      ]
    },
    {
      "cell_type": "code",
      "execution_count": 1211,
      "metadata": {
        "id": "sGi0fr6qgyuW",
        "colab": {
          "base_uri": "https://localhost:8080/",
          "height": 0
        },
        "outputId": "8530e989-598e-4d5f-a708-a651ef4cf612"
      },
      "outputs": [
        {
          "output_type": "stream",
          "name": "stdout",
          "text": [
            "<class 'list'>\n",
            "<class 'list'>\n"
          ]
        }
      ],
      "source": [
        "# 5) tuple->list\n",
        "Num5 = [1,2,3,4,5]\n",
        "print(type(Num5))\n",
        "\n",
        "Ex5 = list(Num5)\n",
        "print(type(Ex5))"
      ]
    },
    {
      "cell_type": "code",
      "execution_count": 1212,
      "metadata": {
        "id": "7eEQAe7XinTd",
        "colab": {
          "base_uri": "https://localhost:8080/",
          "height": 0
        },
        "outputId": "1f849d4b-fa5b-4272-8c3e-d9ec78655503"
      },
      "outputs": [
        {
          "output_type": "stream",
          "name": "stdout",
          "text": [
            "<class 'list'>\n",
            "<class 'dict'>\n",
            "<class 'tuple'>\n",
            "<class 'set'>\n",
            "<class 'set'>\n",
            "<class 'dict'>\n"
          ]
        }
      ],
      "source": [
        "# 1) list -> Dict\n",
        "Num2 = [(\"a\",1),(\"b\",2),(\"c\",3)]\n",
        "print(type(Num2))\n",
        "\n",
        "Ex2 = dict(Num2)\n",
        "print(type(Ex2))\n",
        "\n",
        "# 2) tuple -> dict\n",
        "Num3 = (1,23,4,5)\n",
        "print(type(Num3))\n",
        "\n",
        "Ex3 = set(Num3)\n",
        "print(type(Ex3))\n",
        "\n",
        "# 3) set-> dict\n",
        "Num4 = {(\"Roll_number\",501),(\"Section\",\"C\")}\n",
        "print(type(Num4))\n",
        "\n",
        "Ex4 = dict(Num4)\n",
        "print(type(Ex4))"
      ]
    },
    {
      "cell_type": "code",
      "execution_count": 1213,
      "metadata": {
        "id": "IPpl7KXsiCLv",
        "colab": {
          "base_uri": "https://localhost:8080/",
          "height": 0
        },
        "outputId": "395cdee8-558a-4777-b125-6b6d89ff7dda"
      },
      "outputs": [
        {
          "output_type": "stream",
          "name": "stdout",
          "text": [
            "a=20,b=10\n"
          ]
        }
      ],
      "source": [
        "a=10\n",
        "b=20\n",
        "print(\"a=20,b=10\")"
      ]
    },
    {
      "cell_type": "code",
      "execution_count": 1214,
      "metadata": {
        "id": "IuiW3aO8puV5",
        "colab": {
          "base_uri": "https://localhost:8080/",
          "height": 0
        },
        "outputId": "246bf8b7-e919-4670-ec8b-2e1639512722"
      },
      "outputs": [
        {
          "output_type": "stream",
          "name": "stdout",
          "text": [
            "Before Swapping\n",
            "A= 10 B= 20\n",
            "After Swapping\n",
            "A= 20 B= 10\n"
          ]
        }
      ],
      "source": [
        "A=10\n",
        "B=20\n",
        "print(\"Before Swapping\")\n",
        "print(\"A=\",A,\"B=\",B)\n",
        "print(\"After Swapping\")\n",
        "temp=A\n",
        "A=B\n",
        "B=temp\n",
        "print(\"A=\",A,\"B=\",B)"
      ]
    },
    {
      "cell_type": "code",
      "execution_count": 1215,
      "metadata": {
        "id": "PjTWmRSkrmFJ",
        "colab": {
          "base_uri": "https://localhost:8080/",
          "height": 0
        },
        "outputId": "93fd3b20-521f-4c95-8009-a22020c20ab0"
      },
      "outputs": [
        {
          "output_type": "stream",
          "name": "stdout",
          "text": [
            "Before Swapping\n",
            "X= 10 Y= 20\n",
            "After Swapping\n",
            "X= 20 Y= 10\n"
          ]
        }
      ],
      "source": [
        "\n",
        "X=10\n",
        "Y=20\n",
        "print(\"Before Swapping\")\n",
        "print(\"X=\",X,\"Y=\",Y)\n",
        "print(\"After Swapping\")\n",
        "X = X+Y\n",
        "Y = X-Y\n",
        "X = X-Y\n",
        "print(\"X=\",X,\"Y=\",Y)"
      ]
    },
    {
      "cell_type": "code",
      "execution_count": 1216,
      "metadata": {
        "id": "628tX5lVYB38",
        "colab": {
          "base_uri": "https://localhost:8080/",
          "height": 0
        },
        "outputId": "44e76fe3-bc45-4081-ddfb-3cfcfe2f52f8"
      },
      "outputs": [
        {
          "output_type": "stream",
          "name": "stdout",
          "text": [
            "<class 'int'>\n",
            "<class 'str'>\n"
          ]
        }
      ],
      "source": [
        "# 1) int to str\n",
        "X = 10\n",
        "print(type(X))\n",
        "print(type(str(X)))"
      ]
    },
    {
      "cell_type": "code",
      "execution_count": 1217,
      "metadata": {
        "id": "z_mAuMXxZD4U",
        "colab": {
          "base_uri": "https://localhost:8080/",
          "height": 0
        },
        "outputId": "60e01f1e-6131-458c-df88-45c009430921"
      },
      "outputs": [
        {
          "output_type": "stream",
          "name": "stdout",
          "text": [
            "['Laptop', 39000, 'Window', 'Lenovo', 'Bengaluru', 'laptop', 39000, 'BCA', 'Lenovo', 'Chikodi']\n",
            "10\n",
            "2\n"
          ]
        }
      ],
      "source": [
        "Example = [\"Laptop\",39000,\"Window\",\"Lenovo\",\"Bengaluru\",\"laptop\",39000,\"BCA\",\"Lenovo\",\"Chikodi\"]\n",
        "print(Example)\n",
        "print(len(Example))\n",
        "print(Example.count(\"Lenovo\"))"
      ]
    },
    {
      "cell_type": "code",
      "source": [
        "# Compile time programe\n",
        "A=10\n",
        "B=20\n",
        "print(A+B)\n",
        "\n",
        "\n",
        "# Run time programe\n",
        "\n",
        "X=int(input(\"Enter X value\"))\n",
        "Y=int(input(\"Enter Y value\"))\n",
        "print(X+Y)"
      ],
      "metadata": {
        "colab": {
          "base_uri": "https://localhost:8080/",
          "height": 0
        },
        "id": "OtR2Y2yXktL0",
        "outputId": "87f21977-d84b-46f9-a6b4-19e354f6efb8"
      },
      "execution_count": 1218,
      "outputs": [
        {
          "output_type": "stream",
          "name": "stdout",
          "text": [
            "30\n",
            "Enter X value10\n",
            "Enter Y value20\n",
            "30\n"
          ]
        }
      ]
    },
    {
      "cell_type": "code",
      "source": [
        "i = input(\"enter the value :i\")\n",
        "j = input(\"enter the value :j\")\n",
        "print(i + j)"
      ],
      "metadata": {
        "colab": {
          "base_uri": "https://localhost:8080/",
          "height": 0
        },
        "id": "KwOnTQr2l_BK",
        "outputId": "10e093c4-9164-42f9-f0f1-6f8369f200a1"
      },
      "execution_count": 1219,
      "outputs": [
        {
          "output_type": "stream",
          "name": "stdout",
          "text": [
            "enter the value :i20\n",
            "enter the value :j40\n",
            "2040\n"
          ]
        }
      ]
    },
    {
      "cell_type": "code",
      "source": [
        "X = 100\n",
        "Y = 50\n",
        "print(f'Addition of {X} and {Y} value is = {X + Y}')"
      ],
      "metadata": {
        "colab": {
          "base_uri": "https://localhost:8080/",
          "height": 0
        },
        "id": "nV9_Z8YwoIWT",
        "outputId": "edbbf60c-deef-4ceb-844d-98819646ca61"
      },
      "execution_count": 1220,
      "outputs": [
        {
          "output_type": "stream",
          "name": "stdout",
          "text": [
            "Addition of 100 and 50 value is = 150\n"
          ]
        }
      ]
    },
    {
      "cell_type": "code",
      "source": [
        "# Hi,Good Morning My name is Triveni, i have completed PUC (Science) in the year of\n",
        "# 2025, currently i'am working in KLE BK BCA College Chikodi 591201\n",
        "name = \"Triveni\"\n",
        "course = \"BCA\"\n",
        "year = 2025\n",
        "Department = \"BCA\"\n",
        "Pincode = 591201\n",
        "\n",
        "\n",
        "print(f\"Hi,Good Morning My name is {name}, i have completed {course} in the year of {year},currently i'm working in KLE BK {Department} College Chikodi {Pincode}\")"
      ],
      "metadata": {
        "colab": {
          "base_uri": "https://localhost:8080/",
          "height": 0
        },
        "id": "d1UBnkIyo6r5",
        "outputId": "1fd9fc10-2cec-4512-f9a1-2c5bad2adea4"
      },
      "execution_count": 1226,
      "outputs": [
        {
          "output_type": "stream",
          "name": "stdout",
          "text": [
            "Hi,Good Morning My name is Triveni, i have completed BCA in the year of 2025,currently i'm working in KLE BK BCA College Chikodi 591201\n"
          ]
        }
      ]
    },
    {
      "cell_type": "code",
      "source": [
        "# Arithmetic operators\n",
        "Num1 = int(input(\"Enter Num1 value :\"))\n",
        "Num2 = int(input(\"Enter Num2 vaiue :\"))\n",
        "print(\"Addition of two numbers is :\",Num1 + Num2)\n",
        "print()\n",
        "print(\"Substraction of two numbers is :\",Num1-Num2)\n",
        "print()\n",
        "print(\"Multiplication of two numbers is :\",Num1*Num2)\n",
        "print()\n",
        "print(\"Division of two numbers is :\",Num1/Num2)\n",
        "print()\n",
        "print(\"Floor Division of two numbers is :\",Num1//Num2)\n",
        "print()\n",
        "print(\"Modulus of two numbers is :\",Num1%Num2)\n",
        "print()\n",
        "\n",
        "X = 5\n",
        "Y = 3\n",
        "print(\"Exponent value is :\",X**Y)"
      ],
      "metadata": {
        "colab": {
          "base_uri": "https://localhost:8080/",
          "height": 0
        },
        "id": "39lMlQNaxJbz",
        "outputId": "3931dcb1-e1ae-44dc-a7db-e010c139f247"
      },
      "execution_count": 1227,
      "outputs": [
        {
          "output_type": "stream",
          "name": "stdout",
          "text": [
            "Enter Num1 value :100\n",
            "Enter Num2 vaiue :50\n",
            "Addition of two numbers is : 150\n",
            "\n",
            "Substraction of two numbers is : 50\n",
            "\n",
            "Multiplication of two numbers is : 5000\n",
            "\n",
            "Division of two numbers is : 2.0\n",
            "\n",
            "Floor Division of two numbers is : 2\n",
            "\n",
            "Modulus of two numbers is : 0\n",
            "\n",
            "Exponent value is : 125\n"
          ]
        }
      ]
    },
    {
      "cell_type": "code",
      "source": [
        "# Relational Operator\n",
        "Number1 = 35\n",
        "Number2 = 40\n",
        "print(Number1 > Number2)\n",
        "print(Number2 < Number1)\n",
        "print(Number1 == 35)\n",
        "print(Number1 <= Number2)\n",
        "print(Number2 != 40)\n",
        "print(Number2 >= 40)\n",
        "print(10 != 20)\n",
        "print(Number1 == Number2)\n",
        "print(Number2 != Number1)\n"
      ],
      "metadata": {
        "colab": {
          "base_uri": "https://localhost:8080/",
          "height": 0
        },
        "id": "OqOoED4X1VaU",
        "outputId": "6242c6b0-63e1-4cd1-eb18-1d44ae06d84a"
      },
      "execution_count": 1233,
      "outputs": [
        {
          "output_type": "stream",
          "name": "stdout",
          "text": [
            "False\n",
            "False\n",
            "True\n",
            "True\n",
            "False\n",
            "True\n",
            "True\n",
            "False\n",
            "True\n"
          ]
        }
      ]
    },
    {
      "cell_type": "code",
      "source": [
        "# Logical operator\n",
        "a = 20\n",
        "b = 35\n",
        "c = 13\n",
        "d = 10\n",
        "\n",
        "print( a == b and c < d )\n",
        "\n",
        "print( 13 != c and d < c )\n",
        "\n",
        "print( b > a and d < c)\n",
        "\n",
        "print( 20 != a and c == d)\n",
        "\n",
        "print( a < b or d == c)\n",
        "\n",
        "print((not(a < b )) and 100  < 200)\n",
        "\n",
        "print(not(d == 10))\n",
        "\n",
        "print(35 != d or (not(20 == a)))\n",
        "\n",
        "print(not(c <= b and (not(a <= c))))\n",
        "\n",
        "print()"
      ],
      "metadata": {
        "colab": {
          "base_uri": "https://localhost:8080/",
          "height": 0
        },
        "id": "tkCDF-Ce8Ifd",
        "outputId": "14bebbf7-aaf0-4824-c2ef-6a0f26c0f1ed"
      },
      "execution_count": 1242,
      "outputs": [
        {
          "output_type": "stream",
          "name": "stdout",
          "text": [
            "False\n",
            "False\n",
            "True\n",
            "False\n",
            "True\n",
            "False\n",
            "False\n",
            "True\n",
            "False\n"
          ]
        }
      ]
    },
    {
      "cell_type": "code",
      "source": [
        "X = 10\n",
        "print(X)\n",
        "\n",
        "X -= 2\n",
        "print(X)\n",
        "\n",
        "X *= 5\n",
        "print(X)\n",
        "\n",
        "X //= 3\n",
        "print(X)\n",
        "\n",
        "X **= 2\n",
        "print(X)\n",
        "\n",
        "X %= 4\n",
        "print(X)\n",
        "\n",
        "X += 9\n",
        "print(X)\n",
        "\n",
        "X /= 3\n",
        "print(X)\n"
      ],
      "metadata": {
        "colab": {
          "base_uri": "https://localhost:8080/",
          "height": 0
        },
        "id": "3PQe_W2nDCo4",
        "outputId": "f9d9016e-d4b8-4b71-d75b-fee0481b15f2"
      },
      "execution_count": 1263,
      "outputs": [
        {
          "output_type": "stream",
          "name": "stdout",
          "text": [
            "10\n",
            "8\n",
            "40\n",
            "13\n",
            "169\n",
            "1\n",
            "10\n",
            "3.3333333333333335\n"
          ]
        }
      ]
    },
    {
      "cell_type": "code",
      "source": [
        "Num = 9\n",
        "if Num  < 10 :\n",
        "  print(\"10 is a greater then 9\")"
      ],
      "metadata": {
        "colab": {
          "base_uri": "https://localhost:8080/",
          "height": 0
        },
        "id": "_UwSCCWNaHeR",
        "outputId": "e14b654d-2d1f-499f-fc4a-1f881260cdfc"
      },
      "execution_count": 1266,
      "outputs": [
        {
          "output_type": "stream",
          "name": "stdout",
          "text": [
            "10 is a greater then 9\n"
          ]
        }
      ]
    },
    {
      "cell_type": "code",
      "source": [
        "User_id = \"20MCA103\"\n",
        "Password = 1234\n",
        "if User_id == \"20MCA103\" and Password == 1234:\n",
        "  print(\"login successfully\")"
      ],
      "metadata": {
        "colab": {
          "base_uri": "https://localhost:8080/",
          "height": 0
        },
        "id": "mynY8jw6eptl",
        "outputId": "e8c7a681-7c4c-488c-b92d-d71b8396f5c0"
      },
      "execution_count": 1267,
      "outputs": [
        {
          "output_type": "stream",
          "name": "stdout",
          "text": [
            "login successfully\n"
          ]
        }
      ]
    },
    {
      "cell_type": "code",
      "source": [
        "Ex = 59\n",
        "if Ex == 58:\n",
        "  print(\"Are you understand\")"
      ],
      "metadata": {
        "id": "jjCFjxt9fiJ-"
      },
      "execution_count": 1280,
      "outputs": []
    },
    {
      "cell_type": "code",
      "source": [
        "Name = \"Pramila\"\n",
        "if Name <= \"BK\" :\n",
        "  print(\"My name is Pramila\")"
      ],
      "metadata": {
        "id": "BWgjex8VgGLz"
      },
      "execution_count": 1279,
      "outputs": []
    },
    {
      "cell_type": "code",
      "source": [
        "Num = int(input(\"Enter a number value:\"))\n",
        "if Num > 0 :\n",
        "  print(\"Positive number\")\n",
        "else :\n",
        "    print(\"Negative number\")\n"
      ],
      "metadata": {
        "colab": {
          "base_uri": "https://localhost:8080/",
          "height": 0
        },
        "id": "k9yp00KNhwdT",
        "outputId": "3b5f9b5a-138d-40dc-c9a0-f305914eb6b3"
      },
      "execution_count": 1291,
      "outputs": [
        {
          "output_type": "stream",
          "name": "stdout",
          "text": [
            "Enter a number value:9\n",
            "Positive number\n"
          ]
        }
      ]
    },
    {
      "cell_type": "code",
      "source": [
        "Num = int(input(\"Enter a number value:\"))\n",
        "if Num % 2 == 0:\n",
        "     print(\"Even number\")\n",
        "else :\n",
        "     print(\"Odd number\")"
      ],
      "metadata": {
        "colab": {
          "base_uri": "https://localhost:8080/",
          "height": 0
        },
        "id": "V2aK_kC_lGbQ",
        "outputId": "b80c18d5-6f40-4582-c7fb-d7598fc4a00f"
      },
      "execution_count": 1292,
      "outputs": [
        {
          "output_type": "stream",
          "name": "stdout",
          "text": [
            "Enter a number value:8\n",
            "Even number\n"
          ]
        }
      ]
    },
    {
      "cell_type": "code",
      "source": [
        "year = int(input(\"Enter a year value :\"))\n",
        "if year % 4 == 0 :\n",
        "  print(\"leap year\")\n",
        "else :\n",
        "  print(\"Not leap year\")"
      ],
      "metadata": {
        "colab": {
          "base_uri": "https://localhost:8080/",
          "height": 0
        },
        "id": "q8SQH31UnoAC",
        "outputId": "9b9c2a0a-8551-4150-d2a7-43dca61cbf19"
      },
      "execution_count": 1294,
      "outputs": [
        {
          "output_type": "stream",
          "name": "stdout",
          "text": [
            "Enter a year value :2028\n",
            "leap year\n"
          ]
        }
      ]
    },
    {
      "cell_type": "code",
      "source": [
        " Age = int(input(\"Enter a age value :\"))\n",
        " if Age >= 18 :\n",
        "     print(\"they are eligible for voting\")\n",
        "else :\n",
        "    print(\"they have to wait\")"
      ],
      "metadata": {
        "colab": {
          "base_uri": "https://localhost:8080/",
          "height": 0
        },
        "id": "nix-DhGgozpG",
        "outputId": "668bd3c3-f306-4d96-c560-623f64345bb8"
      },
      "execution_count": 1301,
      "outputs": [
        {
          "output_type": "stream",
          "name": "stdout",
          "text": [
            "Enter a age value :18\n",
            "they are eligible for voting\n"
          ]
        }
      ]
    },
    {
      "cell_type": "code",
      "source": [
        "User_id = input(\"Enter user_id value :\")\n",
        "Password =int(input(\"Enter password value :\"))\n",
        "if User_id == \"College\" and Password == 1229:\n",
        "  print(\"Login successfully\")\n",
        "else:\n",
        "  print(\"Invalid details\")"
      ],
      "metadata": {
        "colab": {
          "base_uri": "https://localhost:8080/",
          "height": 0
        },
        "id": "FMc3ky6lqOOe",
        "outputId": "c855c555-31e2-4331-92c4-4aff10ce6cea"
      },
      "execution_count": 1310,
      "outputs": [
        {
          "output_type": "stream",
          "name": "stdout",
          "text": [
            "Enter user_id value :College\n",
            "Enter password value :1229\n",
            "Login successfully\n"
          ]
        }
      ]
    },
    {
      "cell_type": "code",
      "source": [
        "Marks = int(input(\"Enter a marks value :\"))\n",
        "if Marks >= 90 :\n",
        "  print(\"Grade A\")\n",
        "elif Marks >= 80 :\n",
        "  print(\"Grade B\")\n",
        "elif Marks >= 70 :\n",
        "  print(\"Grade C\")\n",
        "elif Marks >= 60 :\n",
        "  print(\"Grade D\")"
      ],
      "metadata": {
        "colab": {
          "base_uri": "https://localhost:8080/",
          "height": 0
        },
        "id": "DllhC8HNvhGt",
        "outputId": "0be56723-63c3-40a9-8612-a64c816f414a"
      },
      "execution_count": 1314,
      "outputs": [
        {
          "output_type": "stream",
          "name": "stdout",
          "text": [
            "Enter a marks value :76\n",
            "Grade C\n"
          ]
        }
      ]
    },
    {
      "cell_type": "code",
      "source": [
        "Marks = int(input(\"Enter a marks value :\"))\n",
        "if Marks >= 85 :\n",
        "  print(\"Distiction\")\n",
        "elif Marks >= 70 :\n",
        "  print(\"First class\")\n",
        "elif Marks >= 55 :\n",
        "  print(\"Second class\")\n",
        "elif Marks >= 35 :\n",
        "  print(\"Just pass\")\n",
        "else:\n",
        "  print(\"Fail better luck next chance\")"
      ],
      "metadata": {
        "colab": {
          "base_uri": "https://localhost:8080/",
          "height": 0
        },
        "id": "pNw9Pwx_weXS",
        "outputId": "784f329d-dead-47d6-da84-8888d637ac12"
      },
      "execution_count": 1321,
      "outputs": [
        {
          "output_type": "stream",
          "name": "stdout",
          "text": [
            "Enter a marks value :30\n",
            "Fail better luck next chance\n"
          ]
        }
      ]
    },
    {
      "cell_type": "code",
      "source": [
        "Prize = int(input(\"Enter a prize medal :\"))\n",
        "if Prize == 1 :\n",
        "  print(\"Gold medal\")\n",
        "elif Prize == 2 :\n",
        "  print(\"Silver medal\")\n",
        "elif Prize == 3 :\n",
        "  print(\"Bronze medal\")\n",
        "else :\n",
        "  print(\"Better luck next time\")"
      ],
      "metadata": {
        "colab": {
          "base_uri": "https://localhost:8080/"
        },
        "id": "nqgxRxKmySDA",
        "outputId": "65715947-4787-44df-e524-8da73c5f1deb"
      },
      "execution_count": 1326,
      "outputs": [
        {
          "output_type": "stream",
          "name": "stdout",
          "text": [
            "Enter a prize medal :3\n",
            "Bronze medal\n"
          ]
        }
      ]
    },
    {
      "cell_type": "code",
      "source": [
        "Troffic = input(\"Enter a troffic colours :\")\n",
        "if Troffic == \"Red\" :\n",
        "  print(\"stop\")\n",
        "elif Troffic == \"Yellow\" :\n",
        "  print(\"Ready\")\n",
        "elif Troffic == \"Green\" :\n",
        "  print(\"Go\")"
      ],
      "metadata": {
        "colab": {
          "base_uri": "https://localhost:8080/"
        },
        "id": "LIFsq2yx05PQ",
        "outputId": "3b6ea53f-3f6b-4463-a4d3-4319bf780941"
      },
      "execution_count": 1333,
      "outputs": [
        {
          "output_type": "stream",
          "name": "stdout",
          "text": [
            "Enter a troffic colours :Red\n",
            "stop\n"
          ]
        }
      ]
    }
  ],
  "metadata": {
    "colab": {
      "provenance": []
    },
    "kernelspec": {
      "display_name": "Python 3",
      "name": "python3"
    },
    "language_info": {
      "name": "python"
    }
  },
  "nbformat": 4,
  "nbformat_minor": 0
}