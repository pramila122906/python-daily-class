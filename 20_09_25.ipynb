{
  "cells": [
    {
      "cell_type": "code",
      "execution_count": null,
      "metadata": {
        "colab": {
          "base_uri": "https://localhost:8080/"
        },
        "id": "7sOmdRsaNlbB",
        "outputId": "1feab169-3d7b-4dbb-f8e0-14c362497f38"
      },
      "outputs": [
        {
          "name": "stdout",
          "output_type": "stream",
          "text": [
            "Hello World\n"
          ]
        }
      ],
      "source": [
        "print(\"Hello World\")"
      ]
    },
    {
      "cell_type": "code",
      "execution_count": null,
      "metadata": {
        "colab": {
          "base_uri": "https://localhost:8080/"
        },
        "id": "r5qKLvwTNNU4",
        "outputId": "809964df-4279-4ae1-f170-04da9d711974"
      },
      "outputs": [
        {
          "name": "stdout",
          "output_type": "stream",
          "text": [
            "Pramila\n"
          ]
        }
      ],
      "source": [
        "print(\"Pramila\")"
      ]
    },
    {
      "cell_type": "code",
      "execution_count": null,
      "metadata": {
        "colab": {
          "base_uri": "https://localhost:8080/"
        },
        "id": "NKe6oDidKE1P",
        "outputId": "37d8a2ee-f2cc-4438-8366-fe2cafdab29a"
      },
      "outputs": [
        {
          "name": "stdout",
          "output_type": "stream",
          "text": [
            "KLE BK BCA College Chikodi\n"
          ]
        }
      ],
      "source": [
        "print(\"KLE BK BCA College Chikodi\")"
      ]
    },
    {
      "cell_type": "code",
      "execution_count": null,
      "metadata": {
        "colab": {
          "base_uri": "https://localhost:8080/"
        },
        "id": "azs-aL4lIHXx",
        "outputId": "4f773adc-d137-4fba-c660-2e96e627252b"
      },
      "outputs": [
        {
          "name": "stdout",
          "output_type": "stream",
          "text": [
            "10\n"
          ]
        }
      ],
      "source": [
        "a=10\n",
        "print(a)"
      ]
    },
    {
      "cell_type": "code",
      "execution_count": null,
      "metadata": {
        "colab": {
          "base_uri": "https://localhost:8080/"
        },
        "id": "LecQNu0hIQ5n",
        "outputId": "63f44bfa-3162-41c9-c9ef-c8158574bba2"
      },
      "outputs": [
        {
          "name": "stdout",
          "output_type": "stream",
          "text": [
            "Hello worldHello worldHello world\n"
          ]
        }
      ],
      "source": [
        "print(\"Hello world\"*3)"
      ]
    },
    {
      "cell_type": "code",
      "execution_count": null,
      "metadata": {
        "colab": {
          "base_uri": "https://localhost:8080/"
        },
        "id": "blSYewuQIE65",
        "outputId": "95f3d3c7-7f08-4030-f0e4-9a361f859928"
      },
      "outputs": [
        {
          "name": "stdout",
          "output_type": "stream",
          "text": [
            "33.333333333333336\n"
          ]
        }
      ],
      "source": [
        "print(100/3)"
      ]
    },
    {
      "cell_type": "code",
      "execution_count": null,
      "metadata": {
        "colab": {
          "base_uri": "https://localhost:8080/"
        },
        "id": "RNYg5UQSJyTE",
        "outputId": "e2184706-d632-4f02-d782-deaf1f6e4060"
      },
      "outputs": [
        {
          "name": "stdout",
          "output_type": "stream",
          "text": [
            "python programming language \n",
            " python programming language \n",
            " python programming language \n",
            " python programming language \n",
            " python programming language \n",
            " \n"
          ]
        }
      ],
      "source": [
        "print(\"python programming language \\n \"*5)"
      ]
    },
    {
      "cell_type": "code",
      "execution_count": null,
      "metadata": {
        "colab": {
          "base_uri": "https://localhost:8080/"
        },
        "id": "onX-uMX2Kepg",
        "outputId": "503cff03-b26a-4d33-a1c2-94bedca9767b"
      },
      "outputs": [
        {
          "name": "stdout",
          "output_type": "stream",
          "text": [
            "My name is Pramila S Sankapal\n",
            " I am from vadagol\n",
            " I have complited pu college in Majalatti\n",
            " Now I am persuving BCA in B.K College Chikodi\n",
            "\n"
          ]
        }
      ],
      "source": [
        "print(\"My name is Pramila S Sankapal\\n I am from vadagol\\n I have complited pu college in Majalatti\\n Now I am persuving BCA in B.K College Chikodi\\n\")"
      ]
    },
    {
      "cell_type": "code",
      "execution_count": null,
      "metadata": {
        "colab": {
          "base_uri": "https://localhost:8080/"
        },
        "id": "oaX1bzTlMJ38",
        "outputId": "ed94dd86-a0ba-46a9-f3fa-feca07fd0b71"
      },
      "outputs": [
        {
          "name": "stdout",
          "output_type": "stream",
          "text": [
            "HelloWorld\n"
          ]
        }
      ],
      "source": [
        "print(\"Hello\"+ \"World\")"
      ]
    },
    {
      "cell_type": "code",
      "execution_count": null,
      "metadata": {
        "colab": {
          "base_uri": "https://localhost:8080/"
        },
        "id": "gSQvekGDMkNo",
        "outputId": "75afaa1d-5058-4d4a-90ab-a289c270055b"
      },
      "outputs": [
        {
          "name": "stdout",
          "output_type": "stream",
          "text": [
            "Good morning\n",
            "Good morning\n",
            "Good morning\n",
            "Good morning\n",
            "Good morning\n",
            "Good morning\n",
            "Good morning\n",
            "Good morning\n",
            "Good morning\n",
            "Good morning\n",
            "\n"
          ]
        }
      ],
      "source": [
        "print(\"Good morning\\n\"*10)"
      ]
    },
    {
      "cell_type": "code",
      "execution_count": null,
      "metadata": {
        "colab": {
          "base_uri": "https://localhost:8080/"
        },
        "id": "pVSjbBbQKHnF",
        "outputId": "c80f8cf5-d222-4b81-e881-788e5b17caa9"
      },
      "outputs": [
        {
          "name": "stdout",
          "output_type": "stream",
          "text": [
            "Pramila\n"
          ]
        }
      ],
      "source": [
        "name = \"Pramila\"\n",
        "print(name)"
      ]
    },
    {
      "cell_type": "code",
      "execution_count": null,
      "metadata": {
        "colab": {
          "base_uri": "https://localhost:8080/"
        },
        "id": "L8bQJzlGORBu",
        "outputId": "47ba78b6-71ed-4b31-93cf-bbaba078440b"
      },
      "outputs": [
        {
          "name": "stdout",
          "output_type": "stream",
          "text": [
            "kannada=100\n",
            " English=97\n",
            " Physics=80\n",
            " Chemistry=85\n",
            " Mathematics=90\n",
            " Biology=95\n",
            "\n"
          ]
        }
      ],
      "source": [
        "print(\"kannada=100\\n English=97\\n Physics=80\\n Chemistry=85\\n Mathematics=90\\n Biology=95\\n\")"
      ]
    },
    {
      "cell_type": "code",
      "execution_count": null,
      "metadata": {
        "colab": {
          "base_uri": "https://localhost:8080/"
        },
        "id": "KpI3b75GQOIY",
        "outputId": "3d2a9bab-0dab-43e9-8ec6-9edd1d48b844"
      },
      "outputs": [
        {
          "name": "stdout",
          "output_type": "stream",
          "text": [
            "Computer\n"
          ]
        }
      ],
      "source": [
        "_N_A_M_E = \"Computer\"\n",
        "print(_N_A_M_E)"
      ]
    },
    {
      "cell_type": "code",
      "execution_count": null,
      "metadata": {
        "colab": {
          "base_uri": "https://localhost:8080/"
        },
        "id": "V4xw9AMBWC2K",
        "outputId": "f16cb4ad-8ce7-4ab6-ad53-f230dba172b3"
      },
      "outputs": [
        {
          "name": "stdout",
          "output_type": "stream",
          "text": [
            "19 19\n"
          ]
        }
      ],
      "source": [
        "Age = 19\n",
        "age = 19\n",
        "print(Age,age)"
      ]
    },
    {
      "cell_type": "code",
      "execution_count": null,
      "metadata": {
        "colab": {
          "base_uri": "https://localhost:8080/"
        },
        "id": "B8AFEfWcWvHZ",
        "outputId": "1ad6936b-3289-467e-e7fa-28a885d63cc7"
      },
      "outputs": [
        {
          "name": "stdout",
          "output_type": "stream",
          "text": [
            "15 15\n"
          ]
        }
      ],
      "source": [
        "x=10\n",
        "x=15\n",
        "print(x,x)"
      ]
    },
    {
      "cell_type": "code",
      "execution_count": null,
      "metadata": {
        "colab": {
          "base_uri": "https://localhost:8080/"
        },
        "id": "V_zHcz2rXRr9",
        "outputId": "b1971478-976d-414a-f4d1-d57c02150a5d"
      },
      "outputs": [
        {
          "name": "stdout",
          "output_type": "stream",
          "text": [
            "3.24\n"
          ]
        }
      ],
      "source": [
        "Y=3.24\n",
        "print(Y)"
      ]
    },
    {
      "cell_type": "code",
      "execution_count": null,
      "metadata": {
        "colab": {
          "base_uri": "https://localhost:8080/"
        },
        "id": "39o_h_FuXyuT",
        "outputId": "7b80e463-7a9c-4ffa-bd87-247f3e0a1f52"
      },
      "outputs": [
        {
          "name": "stdout",
          "output_type": "stream",
          "text": [
            "True\n"
          ]
        }
      ],
      "source": [
        "yes = True\n",
        "print(yes)"
      ]
    },
    {
      "cell_type": "code",
      "execution_count": null,
      "metadata": {
        "colab": {
          "base_uri": "https://localhost:8080/"
        },
        "id": "dVZ4kgWlYAng",
        "outputId": "0c58e863-d507-40d5-cd83-0f9ba4a977ad"
      },
      "outputs": [
        {
          "name": "stdout",
          "output_type": "stream",
          "text": [
            "Pramila\n"
          ]
        }
      ],
      "source": [
        "Name = 121\n",
        "print(name)"
      ]
    },
    {
      "cell_type": "code",
      "execution_count": null,
      "metadata": {
        "colab": {
          "base_uri": "https://localhost:8080/"
        },
        "id": "BqmUGOf8YbTw",
        "outputId": "888e2a61-4881-48eb-e400-cd9e5b575ec2"
      },
      "outputs": [
        {
          "name": "stdout",
          "output_type": "stream",
          "text": [
            "Chikodi\n"
          ]
        }
      ],
      "source": [
        "NA_12_ME = \"Chikodi\"\n",
        "print(NA_12_ME)"
      ]
    },
    {
      "cell_type": "code",
      "execution_count": null,
      "metadata": {
        "colab": {
          "base_uri": "https://localhost:8080/"
        },
        "id": "N5ttlUE1ZBmx",
        "outputId": "edf9cf1a-d255-437a-ffa2-a020cb461804"
      },
      "outputs": [
        {
          "name": "stdout",
          "output_type": "stream",
          "text": [
            "college 67.34\n"
          ]
        }
      ],
      "source": [
        "name = \"college\"\n",
        "per = 67.34\n",
        "print(name,per)"
      ]
    },
    {
      "cell_type": "code",
      "execution_count": null,
      "metadata": {
        "colab": {
          "base_uri": "https://localhost:8080/"
        },
        "id": "0BDAHDVkZkUh",
        "outputId": "9a3c4a8c-4928-4228-b021-09b1926c2e51"
      },
      "outputs": [
        {
          "name": "stdout",
          "output_type": "stream",
          "text": [
            "My name is Pramila I'm stutying in BK College\n"
          ]
        }
      ],
      "source": [
        "College = \"BK College\"\n",
        "Name = \"Pramila\"\n",
        "print(\"My name is\",Name,\"I'm stutying in\",College)\n"
      ]
    },
    {
      "cell_type": "code",
      "execution_count": null,
      "metadata": {
        "colab": {
          "base_uri": "https://localhost:8080/"
        },
        "id": "VZHaTKNHgZVA",
        "outputId": "796f23f4-f3b5-42d0-bc5b-741ea20c2832"
      },
      "outputs": [
        {
          "name": "stdout",
          "output_type": "stream",
          "text": [
            "Hello Good Evening How are you i am fine,where are you from I'm from chikodi so nice\n"
          ]
        }
      ],
      "source": [
        "# Hello Good Evening,How are you,i'am fine, where are you from i'm from chikodi,so nice\n",
        "text = \"Good Evening\"\n",
        "address = \"I'm from chikodi\"\n",
        "print(\"Hello\",text,\"How are you\",\"i am fine,where are you from\",address,\"so nice\")"
      ]
    },
    {
      "cell_type": "code",
      "execution_count": null,
      "metadata": {
        "colab": {
          "base_uri": "https://localhost:8080/"
        },
        "id": "l1E-LgbLMMkq",
        "outputId": "90ce1a1f-b228-42a8-cb29-7f728622987b"
      },
      "outputs": [
        {
          "name": "stdout",
          "output_type": "stream",
          "text": [
            "Good morning\n"
          ]
        }
      ],
      "source": [
        "print(\"Good morning\")"
      ]
    },
    {
      "cell_type": "code",
      "execution_count": null,
      "metadata": {
        "colab": {
          "base_uri": "https://localhost:8080/"
        },
        "id": "aw89WPQeMkf5",
        "outputId": "0928c926-aafb-447d-c7e8-17e7e6030add"
      },
      "outputs": [
        {
          "name": "stdout",
          "output_type": "stream",
          "text": [
            "good morning 18\n"
          ]
        }
      ],
      "source": [
        "a,b,c =\"good\",\"morning\",18\n",
        "print(a,b,c)"
      ]
    },
    {
      "cell_type": "code",
      "execution_count": null,
      "metadata": {
        "colab": {
          "base_uri": "https://localhost:8080/"
        },
        "id": "z6gZJ7S0N1xe",
        "outputId": "550d9068-4c2e-42fe-f2d3-37e8dcdd0d19"
      },
      "outputs": [
        {
          "name": "stdout",
          "output_type": "stream",
          "text": [
            "1001 1001 1001\n"
          ]
        }
      ],
      "source": [
        "X=Y=Z=1001\n",
        "print(X,Y,Z)"
      ]
    },
    {
      "cell_type": "code",
      "execution_count": null,
      "metadata": {
        "colab": {
          "base_uri": "https://localhost:8080/"
        },
        "id": "tkAvTghtOIIz",
        "outputId": "25210cf3-551e-4147-9576-29dbb019c255"
      },
      "outputs": [
        {
          "name": "stdout",
          "output_type": "stream",
          "text": [
            "College 25 ('College', 25)\n"
          ]
        }
      ],
      "source": [
        "A=B,C=\"College\",25\n",
        "print(B,C,A)"
      ]
    },
    {
      "cell_type": "code",
      "execution_count": null,
      "metadata": {
        "colab": {
          "base_uri": "https://localhost:8080/"
        },
        "id": "IXWNUKVqOjl_",
        "outputId": "c4fc0fd4-acca-44fd-8133-60d5cee0c956"
      },
      "outputs": [
        {
          "name": "stdout",
          "output_type": "stream",
          "text": [
            "Addition of 10 and 20 is= 30\n"
          ]
        }
      ],
      "source": [
        "A=10\n",
        "B=20\n",
        "print(\"Addition of\",A,\"and\",B,\"is=\",A+B)"
      ]
    },
    {
      "cell_type": "code",
      "execution_count": null,
      "metadata": {
        "colab": {
          "base_uri": "https://localhost:8080/"
        },
        "id": "bB6pQ4ywSVib",
        "outputId": "82eaa14e-7ab6-4ce8-be79-e535b851ba14"
      },
      "outputs": [
        {
          "name": "stdout",
          "output_type": "stream",
          "text": [
            "<class 'int'>\n"
          ]
        }
      ],
      "source": [
        "A=10\n",
        "print(type(A))"
      ]
    },
    {
      "cell_type": "code",
      "execution_count": null,
      "metadata": {
        "colab": {
          "base_uri": "https://localhost:8080/"
        },
        "id": "uPrGv50DTQtq",
        "outputId": "ec92e4f8-6d71-4f35-cc8a-ac165a57c6c8"
      },
      "outputs": [
        {
          "name": "stdout",
          "output_type": "stream",
          "text": [
            "<class 'int'>\n"
          ]
        }
      ],
      "source": [
        "X=35\n",
        "print(type(X))"
      ]
    },
    {
      "cell_type": "code",
      "execution_count": null,
      "metadata": {
        "colab": {
          "base_uri": "https://localhost:8080/"
        },
        "id": "-v7dO19eU1-7",
        "outputId": "e5722205-572d-4294-ae1c-5bdba83eb858"
      },
      "outputs": [
        {
          "name": "stdout",
          "output_type": "stream",
          "text": [
            "<class 'int'>\n"
          ]
        }
      ],
      "source": [
        "y=-100\n",
        "print(type(y))\n"
      ]
    },
    {
      "cell_type": "code",
      "execution_count": null,
      "metadata": {
        "colab": {
          "base_uri": "https://localhost:8080/"
        },
        "id": "u5j7xvEmVJfp",
        "outputId": "450599e5-8e25-430f-97ea-d4b327874ba4"
      },
      "outputs": [
        {
          "name": "stdout",
          "output_type": "stream",
          "text": [
            "<class 'int'>\n"
          ]
        }
      ],
      "source": [
        "value=0\n",
        "print(type(value))"
      ]
    },
    {
      "cell_type": "code",
      "execution_count": null,
      "metadata": {
        "colab": {
          "base_uri": "https://localhost:8080/"
        },
        "id": "Eq19ZCOoVYwh",
        "outputId": "9c286920-78ba-4974-db48-7aa690d4be24"
      },
      "outputs": [
        {
          "name": "stdout",
          "output_type": "stream",
          "text": [
            "<class 'float'>\n"
          ]
        }
      ],
      "source": [
        "value=3.33\n",
        "print(type(value))"
      ]
    },
    {
      "cell_type": "code",
      "execution_count": null,
      "metadata": {
        "colab": {
          "base_uri": "https://localhost:8080/"
        },
        "id": "Y9re2h2PXB1d",
        "outputId": "abaaa3c3-29a6-4552-abdb-40cd1d574ee5"
      },
      "outputs": [
        {
          "name": "stdout",
          "output_type": "stream",
          "text": [
            "<class 'float'>\n"
          ]
        }
      ],
      "source": [
        "Number=-100.33333\n",
        "print(type(Number))"
      ]
    },
    {
      "cell_type": "code",
      "execution_count": null,
      "metadata": {
        "colab": {
          "base_uri": "https://localhost:8080/"
        },
        "id": "4FlN-x9zXccq",
        "outputId": "92840b6b-44c9-4c6e-a7cb-91e0221aca79"
      },
      "outputs": [
        {
          "name": "stdout",
          "output_type": "stream",
          "text": [
            "<class 'float'>\n"
          ]
        }
      ],
      "source": [
        "Run=+20.0\n",
        "print(type(Run))"
      ]
    },
    {
      "cell_type": "code",
      "execution_count": null,
      "metadata": {
        "colab": {
          "base_uri": "https://localhost:8080/"
        },
        "id": "cugbXo2pXwvv",
        "outputId": "97400a27-f94e-4d99-d0c5-0ed14b9f9797"
      },
      "outputs": [
        {
          "name": "stdout",
          "output_type": "stream",
          "text": [
            "True\n"
          ]
        }
      ],
      "source": [
        "yes=True\n",
        "print(yes)"
      ]
    },
    {
      "cell_type": "code",
      "execution_count": null,
      "metadata": {
        "colab": {
          "base_uri": "https://localhost:8080/"
        },
        "id": "T0whcWdqYDiL",
        "outputId": "b39dce86-9f8e-4a04-f59a-8efcef56a515"
      },
      "outputs": [
        {
          "name": "stdout",
          "output_type": "stream",
          "text": [
            "<class 'int'>\n"
          ]
        }
      ],
      "source": [
        "yes=18\n",
        "print(type(yes))"
      ]
    },
    {
      "cell_type": "code",
      "execution_count": null,
      "metadata": {
        "colab": {
          "base_uri": "https://localhost:8080/"
        },
        "id": "ulRTIzMXYd7g",
        "outputId": "184099ac-3ad1-4239-b21d-835b203ebf29"
      },
      "outputs": [
        {
          "name": "stdout",
          "output_type": "stream",
          "text": [
            "<class 'str'>\n"
          ]
        }
      ],
      "source": [
        "yes=\"False\"\n",
        "print(type(yes))"
      ]
    },
    {
      "cell_type": "code",
      "execution_count": null,
      "metadata": {
        "colab": {
          "base_uri": "https://localhost:8080/"
        },
        "id": "6eq7SBrmZPYE",
        "outputId": "4ad38847-1065-4c01-9777-c200884e3abd"
      },
      "outputs": [
        {
          "name": "stdout",
          "output_type": "stream",
          "text": [
            "<class 'str'>\n"
          ]
        }
      ],
      "source": [
        "Roll_number=\"101\"\n",
        "print(type(Roll_number))"
      ]
    },
    {
      "cell_type": "code",
      "execution_count": null,
      "metadata": {
        "colab": {
          "base_uri": "https://localhost:8080/"
        },
        "id": "uR8AGYk6Zj1l",
        "outputId": "9fdf6bbc-47be-441d-821c-af88900524dc"
      },
      "outputs": [
        {
          "name": "stdout",
          "output_type": "stream",
          "text": [
            "<class 'str'>\n"
          ]
        }
      ],
      "source": [
        "Section = '''c'''\n",
        "print(type(Section))"
      ]
    },
    {
      "cell_type": "code",
      "execution_count": null,
      "metadata": {
        "colab": {
          "base_uri": "https://localhost:8080/"
        },
        "id": "GxjavD6Cbid9",
        "outputId": "be84ba7e-0bd4-48f8-f94b-509341e9ef8d"
      },
      "outputs": [
        {
          "name": "stdout",
          "output_type": "stream",
          "text": [
            "<class 'str'>\n"
          ]
        }
      ],
      "source": [
        "programe=\"\"\"program\"\"\"\n",
        "print(type(programe))"
      ]
    },
    {
      "cell_type": "code",
      "execution_count": null,
      "metadata": {
        "colab": {
          "base_uri": "https://localhost:8080/"
        },
        "id": "NDuwGL2Kc0Y7",
        "outputId": "c03a6e85-1d22-4ff2-dbf6-1d2133eee93d"
      },
      "outputs": [
        {
          "name": "stdout",
          "output_type": "stream",
          "text": [
            "Python programming languages\n"
          ]
        }
      ],
      "source": [
        "string=\"Python programming languages\"\n",
        "print(string)"
      ]
    },
    {
      "cell_type": "code",
      "execution_count": null,
      "metadata": {
        "colab": {
          "base_uri": "https://localhost:8080/"
        },
        "id": "EOkqJZnCdOPc",
        "outputId": "2dcea4a5-60ca-4a78-9eb3-00337af2d00f"
      },
      "outputs": [
        {
          "name": "stdout",
          "output_type": "stream",
          "text": [
            "BK\n",
            " college\n",
            "\n",
            "BK\n",
            " college\n",
            "\n",
            "BK\n",
            " college\n",
            "\n",
            "BK\n",
            " college\n",
            "\n",
            "BK\n",
            " college\n",
            "\n",
            "\n"
          ]
        }
      ],
      "source": [
        "first=\"BK\\n\"\n",
        "second=\"college\\n\"\n",
        "print(((first +\" \"+second)+\"\\n\")*5)"
      ]
    },
    {
      "cell_type": "code",
      "execution_count": null,
      "metadata": {
        "colab": {
          "base_uri": "https://localhost:8080/"
        },
        "id": "ZJ4NJoeCkI7Y",
        "outputId": "e5b7d54d-79b8-4673-eb9d-f1ccba6c3411"
      },
      "outputs": [
        {
          "name": "stdout",
          "output_type": "stream",
          "text": [
            "n\n",
            "e\n",
            " \n",
            "hon program\n",
            "python programming l\n",
            " programming languages\n",
            "python programming language\n",
            " programming langu\n",
            "python programming languages\n",
            "pto rgamn agae\n",
            "segaugnal gnimmargorp nohtyp\n",
            "san iao hp\n"
          ]
        }
      ],
      "source": [
        "Name=\"python programming languages\"\n",
        "print(Name[5])\n",
        "print(Name[-2])\n",
        "print(Name[18])\n",
        "print(Name[3:14])\n",
        "print(Name[:20])\n",
        "print(Name[6:])\n",
        "print(Name[:-1])\n",
        "print(Name[-22:-4])\n",
        "print(Name[::1])\n",
        "print(Name[::2])\n",
        "print(Name[::-1])\n",
        "print(Name[::-3])"
      ]
    },
    {
      "cell_type": "code",
      "execution_count": null,
      "metadata": {
        "colab": {
          "base_uri": "https://localhost:8080/"
        },
        "id": "nCyrLKT0pmw8",
        "outputId": "6809c018-4f82-4552-b895-5958db5ba123"
      },
      "outputs": [
        {
          "name": "stdout",
          "output_type": "stream",
          "text": [
            "multi line comments\n",
            "hi,Good Morning\n",
            "\n"
          ]
        }
      ],
      "source": [
        "Details='''multi line comments\n",
        "hi,Good Morning\n",
        "'''\n",
        "print(Details)"
      ]
    },
    {
      "cell_type": "code",
      "execution_count": null,
      "metadata": {
        "colab": {
          "base_uri": "https://localhost:8080/"
        },
        "id": "6DGfeH_Q4Lzy",
        "outputId": "baf5c46d-1c70-4ff6-c63b-6e389d11ba46"
      },
      "outputs": [
        {
          "name": "stdout",
          "output_type": "stream",
          "text": [
            "[101]\n",
            "<class 'list'>\n",
            "[101, 'Pramila']\n"
          ]
        }
      ],
      "source": [
        "list1=[101]\n",
        "print(list1)\n",
        "print(type(list1))\n",
        "list1.append(\"Pramila\")\n",
        "print(list1)"
      ]
    },
    {
      "cell_type": "code",
      "execution_count": null,
      "metadata": {
        "colab": {
          "base_uri": "https://localhost:8080/"
        },
        "id": "RXPpfFazOS1F",
        "outputId": "a24a2b6f-1f28-42a7-8033-3e011f79a8e4"
      },
      "outputs": [
        {
          "name": "stdout",
          "output_type": "stream",
          "text": [
            "[101]\n",
            "<class 'list'>\n",
            "[101, 85.12]\n",
            "[101, 85.12, True]\n",
            "3\n",
            "True\n",
            "[101, 85.12]\n",
            "Pramila\n",
            "[101, 85.12, 'pramila']\n",
            "[101, 85.12, 'pramila', -99]\n",
            "4\n",
            "pramila\n",
            "-99\n",
            "[101, 85.12, 'pramila', -99, 'BK college chikodi']\n",
            "5\n",
            "[101, 85.12, 'pramila', 99, 'BK college chikodi']\n",
            "pramila99\n",
            "['pramila', 99]\n",
            "[101, 85.12, False, 'pramila', 99, 'BK college chikodi']\n",
            "[101, 85.12, 'pramila', 99, 'BK college chikodi']\n",
            "5\n",
            "BK college chikodi\n",
            "['BK college chikodi', 99, 'pramila', 85.12, 101]\n",
            "1\n",
            "None\n",
            "[]\n",
            "<class 'list'>\n"
          ]
        }
      ],
      "source": [
        "from logging import debug\n",
        "details=[101]\n",
        "print(details)#101\n",
        "print(type(details))#list\n",
        "details.append(85.12)\n",
        "print(details)#101,85.12\n",
        "details.append(True)\n",
        "print(details)#101,85.12,True\n",
        "print(len(details))\n",
        "print(details.pop())\n",
        "print(details)\n",
        "print(\"Pramila\")\n",
        "details.append(\"pramila\")\n",
        "print(details)\n",
        "details.append(-99)\n",
        "print(details)\n",
        "print(len(details))\n",
        "print(details[2])\n",
        "print(details[-1])\n",
        "details.append(\"BK college chikodi\")\n",
        "print(details)\n",
        "print(len(details))\n",
        "details[3]=99\n",
        "print(details)\n",
        "print(\"pramila99\")\n",
        "print(details[2:4])\n",
        "details.insert(2,False)\n",
        "print(details)\n",
        "details.remove(False)\n",
        "print(details)\n",
        "print(len(details))\n",
        "print(details[4])\n",
        "print(details[::-1])\n",
        "print(details.count(101))\n",
        "print(details.clear())\n",
        "print(details)\n",
        "print(type(details))\n"
      ]
    },
    {
      "cell_type": "code",
      "execution_count": null,
      "metadata": {
        "colab": {
          "base_uri": "https://localhost:8080/"
        },
        "id": "pAclYJUvbdz8",
        "outputId": "ac2fcfe6-4587-4e1f-9150-29f876c0e308"
      },
      "outputs": [
        {
          "name": "stdout",
          "output_type": "stream",
          "text": [
            "[110]\n",
            "<class 'list'>\n",
            "[110, 92.45]\n",
            "[110, 92.45, True]\n",
            "3\n",
            "True\n",
            "[110, 92.45]\n",
            "Pramila\n",
            "[110, 92.45, 'Pramila']\n",
            "[110, 92.45, 'Pramila', -97]\n",
            "4\n",
            "-97\n",
            "Pramila\n",
            "[110, 92.45, 'Pramila', -97, 'BK college chikodi']\n",
            "5\n",
            "[110, 92.45, 'Pramila', -97, 97]\n",
            "Pramila97\n",
            "[]\n",
            "[110, 92.45, 'Pramila', False, -97, 97]\n",
            "[110, 92.45, 'Pramila', -97, 97]\n",
            "5\n",
            "-97\n",
            "[97, 'Pramila', 110]\n",
            "1\n",
            "None\n",
            "[]\n",
            "<class 'list'>\n"
          ]
        }
      ],
      "source": [
        "from re import I\n",
        "information=[110]\n",
        "print(information)#110\n",
        "print(type(information))#list\n",
        "information.append(92.45)\n",
        "print(information)#110,92.45\n",
        "information.append(True)\n",
        "print(information)#110,92.45,True\n",
        "print(len(information))\n",
        "print(information.pop())\n",
        "print(information)\n",
        "print(\"Pramila\")\n",
        "information.append(\"Pramila\")\n",
        "print(information)\n",
        "information.append(-97)\n",
        "print(information)\n",
        "print(len(information))\n",
        "print(information[3])\n",
        "print(information[-2])\n",
        "information.append(\"BK college chikodi\")\n",
        "print(information)\n",
        "print(len(information))\n",
        "information[4]=97\n",
        "print(information)\n",
        "print(\"Pramila97\")\n",
        "print(information[3:2])\n",
        "information.insert(3,False)\n",
        "print(information)\n",
        "information.remove(False)\n",
        "print(information)\n",
        "print(len(information))\n",
        "print(information[3])\n",
        "print(information[::-2])\n",
        "print(information.count(110))\n",
        "print(information.clear())\n",
        "print(information)\n",
        "print(type(information))"
      ]
    },
    {
      "cell_type": "code",
      "execution_count": null,
      "metadata": {
        "colab": {
          "base_uri": "https://localhost:8080/"
        },
        "id": "YRXvkKiy57zk",
        "outputId": "b374b882-b69c-4373-f4eb-47e6010c0965"
      },
      "outputs": [
        {
          "name": "stdout",
          "output_type": "stream",
          "text": [
            "6\n"
          ]
        }
      ],
      "source": [
        "# Address = 2010\n",
        "print(3+3)"
      ]
    },
    {
      "cell_type": "code",
      "execution_count": null,
      "metadata": {
        "colab": {
          "base_uri": "https://localhost:8080/"
        },
        "id": "nswXzOo267Gf",
        "outputId": "37c39e38-a4fb-43a8-db41-12b1747fc65e"
      },
      "outputs": [
        {
          "name": "stdout",
          "output_type": "stream",
          "text": [
            "(1, 'Triveni', 3.12, False, 1)\n",
            "5\n",
            "<class 'tuple'>\n",
            "2\n",
            "(1, 'Triveni', 3.12)\n",
            "False\n",
            "1\n"
          ]
        }
      ],
      "source": [
        "Example = (1,\"Triveni\",3.12,False,1)\n",
        "print(Example)\n",
        "print(len(Example))\n",
        "print(type(Example))\n",
        "print(Example.count(1))\n",
        "print(Example[0:3])\n",
        "print(Example[3])\n",
        "print(Example[-1])\n",
        "\n"
      ]
    },
    {
      "cell_type": "code",
      "execution_count": null,
      "metadata": {
        "colab": {
          "base_uri": "https://localhost:8080/"
        },
        "id": "s7PvR1eG_Mq0",
        "outputId": "74375bfc-fe0e-43af-d7a5-bc065fcfb174"
      },
      "outputs": [
        {
          "name": "stdout",
          "output_type": "stream",
          "text": [
            "(2, 4, 7, 9, 3, 9, 3, 2)\n",
            "(2, 4, 7, 9, 3, 9, 3, 2, 2, 4, 5, 7)\n",
            "(2, 4, 5, 7, 2, 4, 5, 7, 2, 4, 5, 7, 2, 4, 5, 7)\n"
          ]
        }
      ],
      "source": [
        "Number = (2,4,7,9,3,9,3,2)\n",
        "print(Number)\n",
        "Add = (2,4,5,7)\n",
        "print(Number + Add)\n",
        "print(Add*4)\n"
      ]
    },
    {
      "cell_type": "code",
      "execution_count": null,
      "metadata": {
        "colab": {
          "base_uri": "https://localhost:8080/"
        },
        "id": "IsiabmupCQmj",
        "outputId": "679d571e-3f0e-46a5-8a8b-43e9d715993a"
      },
      "outputs": [
        {
          "name": "stdout",
          "output_type": "stream",
          "text": [
            "{1, 2, 3, 4, 5}\n",
            "<class 'set'>\n",
            "5\n",
            "{1, 2, 3, 4, 5, 10}\n",
            "{'BKC', 1, 2, 3, 4, 5, 10}\n"
          ]
        }
      ],
      "source": [
        "Example = {1,2,2,3,4,5}\n",
        "print(Example)\n",
        "print(type(Example))\n",
        "print(len(Example))\n",
        "Example.add(10)\n",
        "print(Example)\n",
        "Example.add(\"BKC\")\n",
        "print(Example)\n"
      ]
    },
    {
      "cell_type": "code",
      "execution_count": null,
      "metadata": {
        "colab": {
          "base_uri": "https://localhost:8080/"
        },
        "id": "ZKA3yzY3EMCg",
        "outputId": "43446969-df2b-497b-a131-f0a781f5b104"
      },
      "outputs": [
        {
          "name": "stdout",
          "output_type": "stream",
          "text": [
            "{1, 2, 3, 4, 5, 6, 7}\n",
            "<class 'set'>\n",
            "7\n",
            "{'BKC', 1, 2, 3, 4, 5, 6, 7}\n",
            "{1, 2, 3, 4, 5, 6, 7, 'BKC', 33.14}\n",
            "{1, 2, 3, 4, 5, 6, 7, 'True', 'BKC', 33.14}\n",
            "1\n",
            "{2, 3, 4, 5, 6, 7, 'True', 'BKC', 33.14}\n",
            "{2, 3, 5, 6, 7, 'True', 'BKC', 33.14}\n"
          ]
        }
      ],
      "source": [
        "ex = {1,2,2,3,4,4,5,6,7}\n",
        "print(ex)\n",
        "print(type(ex))\n",
        "print(len(ex))\n",
        "ex.add(\"BKC\")\n",
        "print(ex)\n",
        "ex.add(33.14)\n",
        "print(ex)\n",
        "ex.add(\"True\")\n",
        "print(ex)\n",
        "print(ex.pop())\n",
        "print(ex)\n",
        "ex.remove(4)\n",
        "print(ex)\n",
        "\n",
        "\n"
      ]
    },
    {
      "cell_type": "code",
      "execution_count": null,
      "metadata": {
        "colab": {
          "base_uri": "https://localhost:8080/"
        },
        "id": "4vCQAyAvHXY_",
        "outputId": "ad7e33c4-c3c2-4f30-bf83-72499aa1ee7f"
      },
      "outputs": [
        {
          "name": "stdout",
          "output_type": "stream",
          "text": [
            "{1, 2, 3, 4, 5, 6}\n",
            "{1, 2, 3, 4, 5, 6}\n",
            "{3, 4}\n",
            "{3, 4}\n",
            "{1, 2}\n",
            "{1, 2}\n",
            "{5, 6}\n",
            "{5, 6}\n"
          ]
        }
      ],
      "source": [
        "first = {1,2,3,4,4,2}\n",
        "second = {3,5,4,6}\n",
        "print(first | second)\n",
        "print(first.union(second))\n",
        "print(first&second)\n",
        "print(first.intersection(second))\n",
        "print(first-second)\n",
        "print(first.difference(second))\n",
        "print(second-first)\n",
        "print(second.difference(first))"
      ]
    },
    {
      "cell_type": "code",
      "execution_count": null,
      "metadata": {
        "colab": {
          "base_uri": "https://localhost:8080/"
        },
        "id": "XY_NhjblLg86",
        "outputId": "3551d635-ffeb-4d61-fc39-3a87057a4de1"
      },
      "outputs": [
        {
          "name": "stdout",
          "output_type": "stream",
          "text": [
            "{'Roll_number': 186, 'Name': 'Pramila', 'Address': 'Vadagol', 'CGPA': 7.53, 'Course': 'BCA', 'Year': 2025}\n",
            "6\n",
            "{'Roll_number': 186, 'Name': 'Pramila', 'Address': 'Vadagol', 'CGPA': 7.53, 'Course': 'BCA', 'Year': 2025, 'Gender': 'Female'}\n",
            "{'Roll_number': 186, 'Name': 'Pramila', 'Address': 'Vadagol', 'CGPA': 7.53, 'Course': 'BCA', 'Year': 2025, 'Gender': 'Female', 'College': 'Majalatti'}\n",
            "{'Roll_number': 186, 'Name': 'Pramila', 'Address': 'Vadagol', 'CGPA': 7.53, 'Course': 'BCA', 'Year': 2025, 'Gender': 'Female', 'College': 'Belagavi University'}\n",
            "{'Roll_number': 186, 'Name': 'Pramila', 'Address': 'Vadagol', 'CGPA': 7.53, 'Course': 'BCA', 'Year': 2025, 'College': 'Belagavi University'}\n",
            "{'Roll_number': 186, 'Name': 'Pramila', 'Address': 'Vadagol', 'CGPA': 7.53, 'Course': 'BCA', 'Year': 2025, 'College': 'Belagavi University', 'Gender': 'Female'}\n",
            "Belagavi University\n",
            "19\n",
            "{'Roll_number': 186, 'Name': 'Pramila', 'CGPA': 7.53, 'Course': 'BCA', 'Year': 2025, 'College': 'Belagavi University', 'Gender': 'Female', 'Age': 19}\n",
            "8\n",
            "{'Roll_number': 186, 'Name': 'Pramila', 'CGPA': 7.53, 'Course': 'BCA', 'Year': 2025, 'College': 'Belagavi University', 'Gender': 'Female', 'Age': 19}\n",
            "{'Roll_number': 186, 'Name': 'Pramila', 'CGPA': 7.53, 'Course': 'BCA', 'Year': 2025, 'College': 'Belagavi University', 'Gender': 'Female'}\n",
            "dict_keys(['Roll_number', 'Name', 'CGPA', 'Course', 'Year', 'College', 'Gender'])\n",
            "dict_values([186, 'Pramila', 7.53, 'BCA', 2025, 'Belagavi University', 'Female'])\n",
            "dict_items([('Roll_number', 186), ('Name', 'Pramila'), ('CGPA', 7.53), ('Course', 'BCA'), ('Year', 2025), ('College', 'Belagavi University'), ('Gender', 'Female')])\n",
            "None\n"
          ]
        }
      ],
      "source": [
        "Dict = {\"Roll_number\" :    186,\n",
        "        \"Name\"        :   \"Pramila\",\n",
        "        \"Address\"     :   \"Vadagol\",\n",
        "        \"CGPA\"        :    7.53,\n",
        "        \"Course\"      :    \"BCA\",\n",
        "        \"Year\"        :    2025\n",
        "}\n",
        "print(Dict)\n",
        "print(len(Dict))\n",
        "Dict[\"Gender\"] = \"Female\"\n",
        "print(Dict)\n",
        "Dict[\"College\"] = \"Majalatti\"\n",
        "print(Dict)\n",
        "Dict[\"College\"] = \"Belagavi University\"\n",
        "print(Dict)\n",
        "del Dict[\"Gender\"]\n",
        "print(Dict)\n",
        "Dict[\"Gender\"] = \"Female\"\n",
        "print(Dict)\n",
        "print(Dict[\"College\"])\n",
        "Dict[\"Age\"] = 19\n",
        "print(Dict[\"Age\"])\n",
        "Dict.pop(\"Address\")\n",
        "print(Dict)\n",
        "print(len(Dict))\n",
        "print(Dict)\n",
        "Dict.popitem()\n",
        "print(Dict)\n",
        "print(Dict.keys())\n",
        "print(Dict.values())\n",
        "print(Dict.items())\n",
        "print(Dict.clear())\n"
      ]
    },
    {
      "cell_type": "code",
      "execution_count": null,
      "metadata": {
        "colab": {
          "base_uri": "https://localhost:8080/"
        },
        "id": "zOeFQLqIVoRU",
        "outputId": "5d97e037-0020-4ea4-a28f-a872db7e8149"
      },
      "outputs": [
        {
          "name": "stdout",
          "output_type": "stream",
          "text": [
            "{'Roll_number': 166, 'Name': 'Triveni', 'Address': 'Toranahalli', 'CGPA': 8.64, 'Course': 'BCA', 'Year': 2025}\n",
            "6\n",
            "{'Roll_number': 166, 'Name': 'Triveni', 'Address': 'Toranahalli', 'CGPA': 8.64, 'Course': 'BCA', 'Year': 2025, 'Gender': 'Female'}\n"
          ]
        }
      ],
      "source": [
        "Type = {\"Roll_number\" :   166,\n",
        "        \"Name\"        :   \"Triveni\",\n",
        "        \"Address\"     :   \"Toranahalli\",\n",
        "        \"CGPA\"        :    8.64,\n",
        "        \"Course\"      :    \"BCA\",\n",
        "        \"Year\"        :    2025\n",
        "}\n",
        "print(Type)\n",
        "print(len(Type))\n",
        "Type[\"Gender\"] = \"Female\"\n",
        "print(Type)\n"
      ]
    },
    {
      "cell_type": "code",
      "execution_count": null,
      "metadata": {
        "colab": {
          "base_uri": "https://localhost:8080/"
        },
        "id": "b3xNL0onYSOL",
        "outputId": "15512e80-cee0-40a5-bdd5-f56147b9175a"
      },
      "outputs": [
        {
          "name": "stdout",
          "output_type": "stream",
          "text": [
            "{'Employe_id': 1001, 'Employe_Name': 'Abhi', 'Contact_number': 6372534685, 'Salary': 200000, 'Email_id': 'abhi2005@gmail.com', 'Company': 'Microsoft', 'Employe_habbit': 'Gaming', 'Pin_code': '591244', 'Country': 'India'}\n",
            "{'Employe_id': 1001, 'Employe_Name': 'Abhi', 'Contact_number': 6372534685, 'Salary': 200000, 'Email_id': 'abhi2005@gmail.com', 'Company': 'Microsoft', 'Employe_habbit': 'Gaming', 'Pin_code': '591244', 'Country': 'India'}\n",
            "9\n",
            "200000\n",
            "9\n",
            "('Department', 'Developer')\n",
            "dict_keys(['Employe_id', 'Employe_Name', 'Contact_number', 'Salary', 'Company', 'Employe_habbit', 'Pin_code', 'Country'])\n",
            "dict_values([1001, 'Abhi', 6372534685, 200000, 'Microsoft', 'Gaming', '591244', 'India'])\n"
          ]
        }
      ],
      "source": [
        "Employe = { \"Employe_id\"     :  1001,\n",
        "            \"Employe_Name\"   : \"Abhi\",\n",
        "            \"Contact_number\" :  6372534685,\n",
        "            \"Salary\"         :  200000,\n",
        "            \"Email_id\"       : \"abhi2005@gmail.com\",\n",
        "            \"Company\"        : \"Microsoft\",\n",
        "            \"Employe_habbit\" : \"Gaming\",\n",
        "            \"Pin_code\"       : \"591244\",\n",
        "            \"Country\"        : \"India\"\n",
        "\n",
        "\n",
        "}\n",
        "print(Employe)\n",
        "Employe[\"Country\"] = \"India\"\n",
        "Employe[\"Pin_code\"] = \"591244\"\n",
        "print(Employe)\n",
        "print(len(Employe))\n",
        "print(Employe[\"Salary\"])\n",
        "Employe.pop(\"Email_id\")\n",
        "Employe[\"Department\"] =\"Developer\"\n",
        "print(len(Employe))\n",
        "print(Employe.popitem())\n",
        "print(Employe.keys())\n",
        "print(Employe.values())\n",
        "\n"
      ]
    },
    {
      "cell_type": "code",
      "execution_count": null,
      "metadata": {
        "colab": {
          "base_uri": "https://localhost:8080/"
        },
        "id": "ZiNTZW5QkrL8",
        "outputId": "adfead40-166a-46d1-ac6b-949d40b7b3c5"
      },
      "outputs": [
        {
          "name": "stdout",
          "output_type": "stream",
          "text": [
            "{'Name': 'Pramila', 'name': 'Pramila', 'F_name': 'Pramila', 'L_name': 'Pramila'}\n"
          ]
        }
      ],
      "source": [
        "Name = {\"Name\" : \"Pramila\",\n",
        "        \"name\" : \"Pramila\",\n",
        "        \"F_name\" : \"Pramila\",\n",
        "        \"L_name\" : \"Pramila\"\n",
        "}\n",
        "print(Name)\n"
      ]
    },
    {
      "cell_type": "code",
      "execution_count": null,
      "metadata": {
        "colab": {
          "base_uri": "https://localhost:8080/"
        },
        "id": "_PmmfPRLKh_O",
        "outputId": "4422f6e6-3022-4d9b-acdf-28bd79b19311"
      },
      "outputs": [
        {
          "name": "stdout",
          "output_type": "stream",
          "text": [
            "<class 'int'>\n",
            "<class 'int'>\n",
            "3.3333333333333335\n",
            "<class 'float'>\n"
          ]
        }
      ],
      "source": [
        "a = 10\n",
        "b = 3\n",
        "c = a/b\n",
        "print(type(a))\n",
        "print(type(b))\n",
        "print(a/b)\n",
        "print(type(c))"
      ]
    },
    {
      "cell_type": "code",
      "execution_count": null,
      "metadata": {
        "colab": {
          "base_uri": "https://localhost:8080/"
        },
        "id": "d6HzjOKLL-51",
        "outputId": "36c77257-549c-4e91-85fa-d2f2ada881f4"
      },
      "outputs": [
        {
          "name": "stdout",
          "output_type": "stream",
          "text": [
            "13\n",
            "<class 'int'>\n",
            "<class 'int'>\n",
            "<class 'int'>\n",
            "<class 'float'>\n"
          ]
        }
      ],
      "source": [
        "a = 10\n",
        "b = 3\n",
        "c = a+b\n",
        "print(a+b)\n",
        "print(type(a))\n",
        "print(type(b))\n",
        "print(type(c))\n",
        "print(type(a/b))"
      ]
    },
    {
      "cell_type": "code",
      "execution_count": null,
      "metadata": {
        "colab": {
          "base_uri": "https://localhost:8080/"
        },
        "id": "0rXODO1PNfRF",
        "outputId": "80cbbbfb-9eb7-4f9b-842c-ec7cc223d84b"
      },
      "outputs": [
        {
          "name": "stdout",
          "output_type": "stream",
          "text": [
            "<class 'float'>\n"
          ]
        }
      ],
      "source": [
        "#\n",
        "i=20\n",
        "j=5.5\n",
        "k=i+j\n",
        "print(type(k))"
      ]
    },
    {
      "cell_type": "code",
      "execution_count": null,
      "metadata": {
        "colab": {
          "base_uri": "https://localhost:8080/"
        },
        "id": "x9C_OiDhN1Wz",
        "outputId": "022ea63e-87cd-4495-ba84-db12a01a981d"
      },
      "outputs": [
        {
          "name": "stdout",
          "output_type": "stream",
          "text": [
            "<class 'float'>\n"
          ]
        }
      ],
      "source": [
        "# int -> float\n",
        "i=20\n",
        "j=5.5\n",
        "k=i+j\n",
        "print(type(k))"
      ]
    },
    {
      "cell_type": "code",
      "execution_count": null,
      "metadata": {
        "colab": {
          "base_uri": "https://localhost:8080/"
        },
        "id": "KZVXIe6WOSr8",
        "outputId": "cd016919-3fd8-4d5f-de30-910a55e0831a"
      },
      "outputs": [
        {
          "name": "stdout",
          "output_type": "stream",
          "text": [
            "<class 'float'>\n"
          ]
        }
      ],
      "source": [
        "# int -> float\n",
        "a=49\n",
        "b=7\n",
        "print(type(a/b))"
      ]
    },
    {
      "cell_type": "code",
      "execution_count": null,
      "metadata": {
        "colab": {
          "base_uri": "https://localhost:8080/"
        },
        "id": "08wSOShNOrcj",
        "outputId": "73e423b9-c6c1-4ad3-b349-4be4ef400611"
      },
      "outputs": [
        {
          "name": "stdout",
          "output_type": "stream",
          "text": [
            "<class 'bool'>\n",
            "<class 'int'>\n"
          ]
        }
      ],
      "source": [
        "i=True\n",
        "print(type(i))\n",
        "j=5\n",
        "print(type(i+j))\n"
      ]
    },
    {
      "cell_type": "code",
      "execution_count": null,
      "metadata": {
        "colab": {
          "base_uri": "https://localhost:8080/"
        },
        "id": "kFXUC2oUPaer",
        "outputId": "179d04fb-0611-4d54-8554-37dc9b6e8e0b"
      },
      "outputs": [
        {
          "name": "stdout",
          "output_type": "stream",
          "text": [
            "<class 'float'>\n"
          ]
        }
      ],
      "source": [
        "M=2.9\n",
        "N=False\n",
        "O=M-N\n",
        "print(type(O))"
      ]
    },
    {
      "cell_type": "code",
      "execution_count": null,
      "metadata": {
        "colab": {
          "base_uri": "https://localhost:8080/"
        },
        "id": "9XMM7mLcQBDa",
        "outputId": "611a31bc-13f9-44ae-b154-6d23c1722c24"
      },
      "outputs": [
        {
          "name": "stdout",
          "output_type": "stream",
          "text": [
            "<class 'int'>\n"
          ]
        }
      ],
      "source": [
        "p=True\n",
        "Q=False\n",
        "R=p+Q\n",
        "print(type(R))"
      ]
    },
    {
      "cell_type": "code",
      "execution_count": null,
      "metadata": {
        "colab": {
          "base_uri": "https://localhost:8080/"
        },
        "id": "axzPeygdQYf6",
        "outputId": "2c8190fd-4f8c-4976-f94d-930f464df7e4"
      },
      "outputs": [
        {
          "name": "stdout",
          "output_type": "stream",
          "text": [
            "<class 'float'>\n"
          ]
        }
      ],
      "source": [
        "S=2.6\n",
        "T=False\n",
        "print(type(S*T))"
      ]
    },
    {
      "cell_type": "code",
      "execution_count": null,
      "metadata": {
        "colab": {
          "base_uri": "https://localhost:8080/"
        },
        "id": "NJq9cb-2R6kC",
        "outputId": "a7f57049-1fc9-491a-e66c-107fc8581950"
      },
      "outputs": [
        {
          "name": "stdout",
          "output_type": "stream",
          "text": [
            "<class 'float'>\n",
            "<class 'int'>\n",
            "<class 'float'>\n"
          ]
        }
      ],
      "source": [
        "#Implicit\n",
        "num = 3.12\n",
        "print(type(num))\n",
        "# Explicit\n",
        "add = int(num)\n",
        "print(type(add))\n",
        "mul = float(add)\n",
        "print(type(mul))"
      ]
    },
    {
      "cell_type": "code",
      "execution_count": null,
      "metadata": {
        "colab": {
          "base_uri": "https://localhost:8080/"
        },
        "id": "0_IzdSIKTuWQ",
        "outputId": "661ad0b5-53ed-4b15-adbd-e68a1106a1e6"
      },
      "outputs": [
        {
          "name": "stdout",
          "output_type": "stream",
          "text": [
            "<class 'str'>\n",
            "<class 'int'>\n",
            "<class 'bool'>\n",
            "<class 'int'>\n"
          ]
        }
      ],
      "source": [
        "Num = \"101\"\n",
        "print(type(Num))\n",
        "\n",
        "# Explicit\n",
        "add = int(Num)\n",
        "print(type(add))\n",
        "\n",
        "\n",
        "Men = True\n",
        "print(type(Men))\n",
        "\n",
        "Fem = int(Men)\n",
        "print(type(Fem))\n",
        "\n"
      ]
    },
    {
      "cell_type": "code",
      "execution_count": null,
      "metadata": {
        "colab": {
          "base_uri": "https://localhost:8080/"
        },
        "id": "GvMaHaOwWCm9",
        "outputId": "fba7c5d3-093a-4330-aff8-1028ace058a2"
      },
      "outputs": [
        {
          "name": "stdout",
          "output_type": "stream",
          "text": [
            "<class 'str'>\n"
          ]
        }
      ],
      "source": [
        "print(type(str(100)))"
      ]
    },
    {
      "cell_type": "code",
      "execution_count": null,
      "metadata": {
        "colab": {
          "base_uri": "https://localhost:8080/"
        },
        "id": "r2mvTuQzWOAu",
        "outputId": "3c23e86f-f7b4-4547-e059-43472ace469a"
      },
      "outputs": [
        {
          "name": "stdout",
          "output_type": "stream",
          "text": [
            "<class 'int'>\n",
            "<class 'bool'>\n",
            "<class 'float'>\n",
            "<class 'bool'>\n",
            "<class 'bool'>\n",
            "0.0\n",
            "<class 'float'>\n",
            "<class 'bool'>\n",
            "1.0\n",
            "<class 'float'>\n"
          ]
        }
      ],
      "source": [
        "Demo = 1\n",
        "print(type(Demo))\n",
        "print(type(bool(Demo)))\n",
        "\n",
        "Demo=9.99\n",
        "print(type(Demo))\n",
        "print(type(bool(Demo)))\n",
        "\n",
        "Demo = False\n",
        "print(type(Demo))\n",
        "\n",
        "Ex = float(Demo)\n",
        "print(Ex)\n",
        "print(type(Ex))\n",
        "\n",
        "Demo = True\n",
        "print(type(Demo))\n",
        "\n",
        "Ex = float(Demo)\n",
        "print(Ex)\n",
        "print(type(Ex))\n"
      ]
    },
    {
      "cell_type": "code",
      "execution_count": null,
      "metadata": {
        "colab": {
          "base_uri": "https://localhost:8080/"
        },
        "id": "OWH-VA35cD65",
        "outputId": "e85857f6-b9af-4c9d-879e-9003687229bd"
      },
      "outputs": [
        {
          "name": "stdout",
          "output_type": "stream",
          "text": [
            "<class 'str'>\n",
            "<class 'float'>\n"
          ]
        }
      ],
      "source": [
        "# 1) str -> list\n",
        "Num1  = \"Pramila\"\n",
        "print(type(Num1))\n",
        "\n",
        "Ex1 = list(Num1)\n",
        "print(type(Ex))"
      ]
    },
    {
      "cell_type": "code",
      "execution_count": null,
      "metadata": {
        "colab": {
          "base_uri": "https://localhost:8080/"
        },
        "id": "JYEzlfh3dbJU",
        "outputId": "0ed4c43e-ed47-4c97-c244-a7dad4a30c50"
      },
      "outputs": [
        {
          "name": "stdout",
          "output_type": "stream",
          "text": [
            "<class 'tuple'>\n",
            "<class 'list'>\n"
          ]
        }
      ],
      "source": [
        "# 2) tuple -> list\n",
        "Num2 = (1,2,3,4,5)\n",
        "print(type(Num2))\n",
        "\n",
        "Ex2 = list(Num2)\n",
        "print(type(Ex2))"
      ]
    },
    {
      "cell_type": "code",
      "execution_count": null,
      "metadata": {
        "colab": {
          "base_uri": "https://localhost:8080/"
        },
        "id": "Y346g3zAe9qo",
        "outputId": "e18914b5-2903-496e-e1fd-7215079f0757"
      },
      "outputs": [
        {
          "name": "stdout",
          "output_type": "stream",
          "text": [
            "<class 'set'>\n",
            "<class 'list'>\n"
          ]
        }
      ],
      "source": [
        "# 3) set -> list\n",
        "Num3 = {1,23,4,5}\n",
        "print(type(Num3))\n",
        "\n",
        "Ex3 = list(Num3)\n",
        "print(type(Ex3))\n"
      ]
    },
    {
      "cell_type": "code",
      "execution_count": null,
      "metadata": {
        "colab": {
          "base_uri": "https://localhost:8080/"
        },
        "id": "Sst5Gf2Xf2L3",
        "outputId": "efb9af26-c734-4291-9923-74283833a760"
      },
      "outputs": [
        {
          "name": "stdout",
          "output_type": "stream",
          "text": [
            "<class 'dict'>\n",
            "<class 'dict'>\n"
          ]
        }
      ],
      "source": [
        "# 4) Dict-> list\n",
        "Num4 = {}\n",
        "print(type(Num4))\n",
        "\n",
        "Ex4 = list(Num4)\n",
        "print(type(Num4))"
      ]
    },
    {
      "cell_type": "code",
      "execution_count": null,
      "metadata": {
        "colab": {
          "base_uri": "https://localhost:8080/"
        },
        "id": "sGi0fr6qgyuW",
        "outputId": "641ac757-f8d5-4a64-c74a-757c758703f7"
      },
      "outputs": [
        {
          "name": "stdout",
          "output_type": "stream",
          "text": [
            "<class 'list'>\n",
            "<class 'list'>\n"
          ]
        }
      ],
      "source": [
        "# 5) tuple->list\n",
        "Num5 = [1,2,3,4,5]\n",
        "print(type(Num5))\n",
        "\n",
        "Ex5 = list(Num5)\n",
        "print(type(Ex5))"
      ]
    },
    {
      "cell_type": "code",
      "execution_count": null,
      "metadata": {
        "colab": {
          "base_uri": "https://localhost:8080/"
        },
        "id": "7eEQAe7XinTd",
        "outputId": "f02ffacc-61b7-42a0-f416-6acb5ba0a61b"
      },
      "outputs": [
        {
          "name": "stdout",
          "output_type": "stream",
          "text": [
            "<class 'list'>\n",
            "<class 'dict'>\n",
            "<class 'tuple'>\n",
            "<class 'set'>\n",
            "<class 'set'>\n",
            "<class 'dict'>\n"
          ]
        }
      ],
      "source": [
        "# 1) list -> Dict\n",
        "Num2 = [(\"a\",1),(\"b\",2),(\"c\",3)]\n",
        "print(type(Num2))\n",
        "\n",
        "Ex2 = dict(Num2)\n",
        "print(type(Ex2))\n",
        "\n",
        "# 2) tuple -> dict\n",
        "Num3 = (1,23,4,5)\n",
        "print(type(Num3))\n",
        "\n",
        "Ex3 = set(Num3)\n",
        "print(type(Ex3))\n",
        "\n",
        "# 3) set-> dict\n",
        "Num4 = {(\"Roll_number\",501),(\"Section\",\"C\")}\n",
        "print(type(Num4))\n",
        "\n",
        "Ex4 = dict(Num4)\n",
        "print(type(Ex4))"
      ]
    },
    {
      "cell_type": "code",
      "execution_count": null,
      "metadata": {
        "colab": {
          "base_uri": "https://localhost:8080/"
        },
        "id": "IPpl7KXsiCLv",
        "outputId": "37a1a840-2de7-45dc-b9cd-accf898c7109"
      },
      "outputs": [
        {
          "name": "stdout",
          "output_type": "stream",
          "text": [
            "a=20,b=10\n"
          ]
        }
      ],
      "source": [
        "a=10\n",
        "b=20\n",
        "print(\"a=20,b=10\")"
      ]
    },
    {
      "cell_type": "code",
      "execution_count": null,
      "metadata": {
        "colab": {
          "base_uri": "https://localhost:8080/"
        },
        "id": "IuiW3aO8puV5",
        "outputId": "f06334f8-727b-46c6-c988-4fc7a8782f67"
      },
      "outputs": [
        {
          "name": "stdout",
          "output_type": "stream",
          "text": [
            "Before Swapping\n",
            "A= 10 B= 20\n",
            "After Swapping\n",
            "A= 20 B= 10\n"
          ]
        }
      ],
      "source": [
        "A=10\n",
        "B=20\n",
        "print(\"Before Swapping\")\n",
        "print(\"A=\",A,\"B=\",B)\n",
        "print(\"After Swapping\")\n",
        "temp=A\n",
        "A=B\n",
        "B=temp\n",
        "print(\"A=\",A,\"B=\",B)"
      ]
    },
    {
      "cell_type": "code",
      "execution_count": null,
      "metadata": {
        "colab": {
          "base_uri": "https://localhost:8080/"
        },
        "id": "PjTWmRSkrmFJ",
        "outputId": "8f3f49b0-0258-4491-a427-c267edcd8690"
      },
      "outputs": [
        {
          "name": "stdout",
          "output_type": "stream",
          "text": [
            "Before Swapping\n",
            "X= 10 Y= 20\n",
            "After Swapping\n",
            "X= 20 Y= 10\n"
          ]
        }
      ],
      "source": [
        "\n",
        "X=10\n",
        "Y=20\n",
        "print(\"Before Swapping\")\n",
        "print(\"X=\",X,\"Y=\",Y)\n",
        "print(\"After Swapping\")\n",
        "X = X+Y\n",
        "Y = X-Y\n",
        "X = X-Y\n",
        "print(\"X=\",X,\"Y=\",Y)"
      ]
    },
    {
      "cell_type": "code",
      "execution_count": null,
      "metadata": {
        "colab": {
          "base_uri": "https://localhost:8080/"
        },
        "id": "628tX5lVYB38",
        "outputId": "b33fd882-88c9-4645-ed66-3b4aef10d326"
      },
      "outputs": [
        {
          "name": "stdout",
          "output_type": "stream",
          "text": [
            "<class 'int'>\n",
            "<class 'str'>\n"
          ]
        }
      ],
      "source": [
        "# 1) int to str\n",
        "X = 10\n",
        "print(type(X))\n",
        "print(type(str(X)))"
      ]
    },
    {
      "cell_type": "code",
      "execution_count": null,
      "metadata": {
        "colab": {
          "base_uri": "https://localhost:8080/"
        },
        "id": "z_mAuMXxZD4U",
        "outputId": "3ad13826-61f3-473d-b420-0b3410b508dd"
      },
      "outputs": [
        {
          "name": "stdout",
          "output_type": "stream",
          "text": [
            "['Laptop', 39000, 'Window', 'Lenovo', 'Bengaluru', 'laptop', 39000, 'BCA', 'Lenovo', 'Chikodi']\n",
            "10\n",
            "2\n"
          ]
        }
      ],
      "source": [
        "Example = [\"Laptop\",39000,\"Window\",\"Lenovo\",\"Bengaluru\",\"laptop\",39000,\"BCA\",\"Lenovo\",\"Chikodi\"]\n",
        "print(Example)\n",
        "print(len(Example))\n",
        "print(Example.count(\"Lenovo\"))"
      ]
    },
    {
      "cell_type": "code",
      "execution_count": null,
      "metadata": {
        "colab": {
          "base_uri": "https://localhost:8080/"
        },
        "id": "OtR2Y2yXktL0",
        "outputId": "a9e8c8c3-1fd5-4ae5-91d5-defce3abd233"
      },
      "outputs": [
        {
          "name": "stdout",
          "output_type": "stream",
          "text": [
            "30\n",
            "Enter X value10\n",
            "Enter Y value20\n",
            "30\n"
          ]
        }
      ],
      "source": [
        "# Compile time programe\n",
        "A=10\n",
        "B=20\n",
        "print(A+B)\n",
        "\n",
        "\n",
        "# Run time programe\n",
        "\n",
        "X=int(input(\"Enter X value\"))\n",
        "Y=int(input(\"Enter Y value\"))\n",
        "print(X+Y)"
      ]
    },
    {
      "cell_type": "code",
      "execution_count": null,
      "metadata": {
        "colab": {
          "base_uri": "https://localhost:8080/"
        },
        "id": "KwOnTQr2l_BK",
        "outputId": "629e786b-6921-4084-c91c-6bddaf3a547d"
      },
      "outputs": [
        {
          "name": "stdout",
          "output_type": "stream",
          "text": [
            "enter the value :i10\n",
            "enter the value :j20\n",
            "1020\n"
          ]
        }
      ],
      "source": [
        "i = input(\"enter the value :i\")\n",
        "j = input(\"enter the value :j\")\n",
        "print(i + j)"
      ]
    },
    {
      "cell_type": "code",
      "execution_count": null,
      "metadata": {
        "colab": {
          "base_uri": "https://localhost:8080/"
        },
        "id": "nV9_Z8YwoIWT",
        "outputId": "baa71e38-6c26-43d0-fe72-17b3faf613fd"
      },
      "outputs": [
        {
          "name": "stdout",
          "output_type": "stream",
          "text": [
            "Addition of 100 and 50 value is = 150\n"
          ]
        }
      ],
      "source": [
        "X = 100\n",
        "Y = 50\n",
        "print(f'Addition of {X} and {Y} value is = {X + Y}')"
      ]
    },
    {
      "cell_type": "code",
      "execution_count": null,
      "metadata": {
        "colab": {
          "base_uri": "https://localhost:8080/"
        },
        "id": "d1UBnkIyo6r5",
        "outputId": "f1148615-c3de-46b0-800c-56e197c97644"
      },
      "outputs": [
        {
          "name": "stdout",
          "output_type": "stream",
          "text": [
            "Hi,Good Morning My name is Triveni, i have completed BCA in the year of 2025,currently i'm working in KLE BK BCA College Chikodi 591201\n"
          ]
        }
      ],
      "source": [
        "# Hi,Good Morning My name is Triveni, i have completed PUC (Science) in the year of\n",
        "# 2025, currently i'am working in KLE BK BCA College Chikodi 591201\n",
        "name = \"Triveni\"\n",
        "course = \"BCA\"\n",
        "year = 2025\n",
        "Department = \"BCA\"\n",
        "Pincode = 591201\n",
        "\n",
        "\n",
        "print(f\"Hi,Good Morning My name is {name}, i have completed {course} in the year of {year},currently i'm working in KLE BK {Department} College Chikodi {Pincode}\")"
      ]
    },
    {
      "cell_type": "code",
      "execution_count": null,
      "metadata": {
        "colab": {
          "base_uri": "https://localhost:8080/"
        },
        "id": "39lMlQNaxJbz",
        "outputId": "313b537a-654b-4f7a-8af1-c0ef36200f89"
      },
      "outputs": [
        {
          "name": "stdout",
          "output_type": "stream",
          "text": [
            "Enter Num1 value :5\n",
            "Enter Num2 vaiue :6\n",
            "Addition of two numbers is : 11\n",
            "\n",
            "Substraction of two numbers is : -1\n",
            "\n",
            "Multiplication of two numbers is : 30\n",
            "\n",
            "Division of two numbers is : 0.8333333333333334\n",
            "\n",
            "Floor Division of two numbers is : 0\n",
            "\n",
            "Modulus of two numbers is : 5\n",
            "\n",
            "Exponent value is : 125\n"
          ]
        }
      ],
      "source": [
        "# Arithmetic operators\n",
        "Num1 = int(input(\"Enter Num1 value :\"))\n",
        "Num2 = int(input(\"Enter Num2 vaiue :\"))\n",
        "print(\"Addition of two numbers is :\",Num1 + Num2)\n",
        "print()\n",
        "print(\"Substraction of two numbers is :\",Num1-Num2)\n",
        "print()\n",
        "print(\"Multiplication of two numbers is :\",Num1*Num2)\n",
        "print()\n",
        "print(\"Division of two numbers is :\",Num1/Num2)\n",
        "print()\n",
        "print(\"Floor Division of two numbers is :\",Num1//Num2)\n",
        "print()\n",
        "print(\"Modulus of two numbers is :\",Num1%Num2)\n",
        "print()\n",
        "\n",
        "X = 5\n",
        "Y = 3\n",
        "print(\"Exponent value is :\",X**Y)"
      ]
    },
    {
      "cell_type": "code",
      "execution_count": null,
      "metadata": {
        "colab": {
          "base_uri": "https://localhost:8080/"
        },
        "id": "OqOoED4X1VaU",
        "outputId": "d130fa64-435f-49f5-a0f7-6269da340090"
      },
      "outputs": [
        {
          "name": "stdout",
          "output_type": "stream",
          "text": [
            "False\n",
            "False\n",
            "True\n",
            "True\n",
            "False\n",
            "True\n",
            "True\n",
            "False\n",
            "True\n"
          ]
        }
      ],
      "source": [
        "# Relational Operator\n",
        "Number1 = 35\n",
        "Number2 = 40\n",
        "print(Number1 > Number2)\n",
        "print(Number2 < Number1)\n",
        "print(Number1 == 35)\n",
        "print(Number1 <= Number2)\n",
        "print(Number2 != 40)\n",
        "print(Number2 >= 40)\n",
        "print(10 != 20)\n",
        "print(Number1 == Number2)\n",
        "print(Number2 != Number1)\n"
      ]
    },
    {
      "cell_type": "code",
      "execution_count": null,
      "metadata": {
        "colab": {
          "base_uri": "https://localhost:8080/"
        },
        "id": "tkCDF-Ce8Ifd",
        "outputId": "fa942bfe-b568-435a-b212-1d68c64e7267"
      },
      "outputs": [
        {
          "name": "stdout",
          "output_type": "stream",
          "text": [
            "False\n",
            "False\n",
            "True\n",
            "False\n",
            "True\n",
            "False\n",
            "False\n",
            "True\n",
            "False\n",
            "\n"
          ]
        }
      ],
      "source": [
        "# Logical operator\n",
        "a = 20\n",
        "b = 35\n",
        "c = 13\n",
        "d = 10\n",
        "\n",
        "print( a == b and c < d )\n",
        "\n",
        "print( 13 != c and d < c )\n",
        "\n",
        "print( b > a and d < c)\n",
        "\n",
        "print( 20 != a and c == d)\n",
        "\n",
        "print( a < b or d == c)\n",
        "\n",
        "print((not(a < b )) and 100  < 200)\n",
        "\n",
        "print(not(d == 10))\n",
        "\n",
        "print(35 != d or (not(20 == a)))\n",
        "\n",
        "print(not(c <= b and (not(a <= c))))\n",
        "\n",
        "print()"
      ]
    },
    {
      "cell_type": "code",
      "execution_count": null,
      "metadata": {
        "colab": {
          "base_uri": "https://localhost:8080/"
        },
        "id": "3PQe_W2nDCo4",
        "outputId": "6a7f3338-4e70-428a-b72b-9a90397b2d90"
      },
      "outputs": [
        {
          "name": "stdout",
          "output_type": "stream",
          "text": [
            "10\n",
            "8\n",
            "40\n",
            "13\n",
            "169\n",
            "1\n",
            "10\n",
            "3.3333333333333335\n"
          ]
        }
      ],
      "source": [
        "X = 10\n",
        "print(X)\n",
        "\n",
        "X -= 2\n",
        "print(X)\n",
        "\n",
        "X *= 5\n",
        "print(X)\n",
        "\n",
        "X //= 3\n",
        "print(X)\n",
        "\n",
        "X **= 2\n",
        "print(X)\n",
        "\n",
        "X %= 4\n",
        "print(X)\n",
        "\n",
        "X += 9\n",
        "print(X)\n",
        "\n",
        "X /= 3\n",
        "print(X)\n"
      ]
    },
    {
      "cell_type": "code",
      "execution_count": null,
      "metadata": {
        "colab": {
          "base_uri": "https://localhost:8080/"
        },
        "id": "_UwSCCWNaHeR",
        "outputId": "fc80cb69-f17f-428b-b26e-b7aec7fc8171"
      },
      "outputs": [
        {
          "name": "stdout",
          "output_type": "stream",
          "text": [
            "10 is a greater then 9\n"
          ]
        }
      ],
      "source": [
        "Num = 9\n",
        "if Num  < 10 :\n",
        "  print(\"10 is a greater then 9\")"
      ]
    },
    {
      "cell_type": "code",
      "execution_count": null,
      "metadata": {
        "colab": {
          "base_uri": "https://localhost:8080/"
        },
        "id": "mynY8jw6eptl",
        "outputId": "5df2cdfb-ce06-4113-a627-0071c67fdf69"
      },
      "outputs": [
        {
          "name": "stdout",
          "output_type": "stream",
          "text": [
            "login successfully\n"
          ]
        }
      ],
      "source": [
        "User_id = \"20MCA103\"\n",
        "Password = 1234\n",
        "if User_id == \"20MCA103\" and Password == 1234:\n",
        "  print(\"login successfully\")"
      ]
    },
    {
      "cell_type": "code",
      "execution_count": null,
      "metadata": {
        "id": "jjCFjxt9fiJ-"
      },
      "outputs": [],
      "source": [
        "Ex = 59\n",
        "if Ex == 58:\n",
        "  print(\"Are you understand\")"
      ]
    },
    {
      "cell_type": "code",
      "execution_count": null,
      "metadata": {
        "id": "BWgjex8VgGLz"
      },
      "outputs": [],
      "source": [
        "Name = \"Pramila\"\n",
        "if Name <= \"BK\" :\n",
        "  print(\"My name is Pramila\")"
      ]
    },
    {
      "cell_type": "code",
      "execution_count": null,
      "metadata": {
        "colab": {
          "base_uri": "https://localhost:8080/"
        },
        "id": "k9yp00KNhwdT",
        "outputId": "13f264f5-7e48-4e5a-c67a-b9be5f19cb48"
      },
      "outputs": [
        {
          "name": "stdout",
          "output_type": "stream",
          "text": [
            "Enter a number value:30\n",
            "Positive number\n"
          ]
        }
      ],
      "source": [
        "Num = int(input(\"Enter a number value:\"))\n",
        "if Num > 0 :\n",
        "  print(\"Positive number\")\n",
        "else :\n",
        "    print(\"Negative number\")\n"
      ]
    },
    {
      "cell_type": "code",
      "execution_count": null,
      "metadata": {
        "colab": {
          "base_uri": "https://localhost:8080/"
        },
        "id": "V2aK_kC_lGbQ",
        "outputId": "b22ba3d1-ca81-4734-cbcc-75559eda7b82"
      },
      "outputs": [
        {
          "name": "stdout",
          "output_type": "stream",
          "text": [
            "Enter a number value:69\n",
            "Odd number\n"
          ]
        }
      ],
      "source": [
        "Num = int(input(\"Enter a number value:\"))\n",
        "if Num % 2 == 0:\n",
        "     print(\"Even number\")\n",
        "else :\n",
        "     print(\"Odd number\")"
      ]
    },
    {
      "cell_type": "code",
      "execution_count": null,
      "metadata": {
        "colab": {
          "base_uri": "https://localhost:8080/"
        },
        "id": "q8SQH31UnoAC",
        "outputId": "a8395296-5f10-4341-b218-788f36ca9341"
      },
      "outputs": [
        {
          "name": "stdout",
          "output_type": "stream",
          "text": [
            "Enter a year value :2028\n",
            "leap year\n"
          ]
        }
      ],
      "source": [
        "year = int(input(\"Enter a year value :\"))\n",
        "if year % 4 == 0 :\n",
        "  print(\"leap year\")\n",
        "else :\n",
        "  print(\"Not leap year\")"
      ]
    },
    {
      "cell_type": "code",
      "execution_count": null,
      "metadata": {
        "colab": {
          "base_uri": "https://localhost:8080/"
        },
        "id": "nix-DhGgozpG",
        "outputId": "a3c0f678-f497-4d83-a514-bbd000ba4fca"
      },
      "outputs": [
        {
          "name": "stdout",
          "output_type": "stream",
          "text": [
            "Enter a age value :50\n",
            "they are eligible for voting\n"
          ]
        }
      ],
      "source": [
        " Age = int(input(\"Enter a age value :\"))\n",
        "v if Age >= 18 :\n",
        "     print(\"they are eligible for voting\")\n",
        "else :\n",
        "    print(\"they have to wait\")"
      ]
    },
    {
      "cell_type": "code",
      "execution_count": null,
      "metadata": {
        "colab": {
          "base_uri": "https://localhost:8080/"
        },
        "id": "FMc3ky6lqOOe",
        "outputId": "a843d06b-bbaf-40ed-eee9-03f3512eff84"
      },
      "outputs": [
        {
          "name": "stdout",
          "output_type": "stream",
          "text": [
            "Enter user_id value :College\n",
            "Enter password value :1229\n",
            "Login successfully\n"
          ]
        }
      ],
      "source": [
        "User_id = input(\"Enter user_id value :\")\n",
        "Password =int(input(\"Enter password value :\"))\n",
        "if User_id == \"College\" and Password == 1229:\n",
        "  print(\"Login successfully\")\n",
        "else:\n",
        "  print(\"Invalid details\")"
      ]
    },
    {
      "cell_type": "code",
      "execution_count": null,
      "metadata": {
        "colab": {
          "base_uri": "https://localhost:8080/"
        },
        "id": "DllhC8HNvhGt",
        "outputId": "f98d2fca-8144-4660-abbd-d5e4c9c46018"
      },
      "outputs": [
        {
          "name": "stdout",
          "output_type": "stream",
          "text": [
            "Enter a marks value :67\n",
            "Grade D\n"
          ]
        }
      ],
      "source": [
        "Marks = int(input(\"Enter a marks value :\"))\n",
        "if Marks >= 90 :\n",
        "  print(\"Grade A\")\n",
        "elif Marks >= 80 :\n",
        "  print(\"Grade B\")\n",
        "elif Marks >= 70 :\n",
        "  print(\"Grade C\")\n",
        "elif Marks >= 60 :\n",
        "  print(\"Grade D\")"
      ]
    },
    {
      "cell_type": "code",
      "execution_count": null,
      "metadata": {
        "colab": {
          "base_uri": "https://localhost:8080/"
        },
        "id": "pNw9Pwx_weXS",
        "outputId": "1ccab925-65b5-48f4-fb13-531281845b2b"
      },
      "outputs": [
        {
          "name": "stdout",
          "output_type": "stream",
          "text": [
            "Enter a marks value :50\n",
            "Just pass\n"
          ]
        }
      ],
      "source": [
        "Marks = int(input(\"Enter a marks value :\"))\n",
        "if Marks >= 85 :\n",
        "  print(\"Distiction\")\n",
        "elif Marks >= 70 :\n",
        "  print(\"First class\")\n",
        "elif Marks >= 55 :\n",
        "  print(\"Second class\")\n",
        "elif Marks >= 35 :\n",
        "  print(\"Just pass\")\n",
        "else:\n",
        "  print(\"Fail better luck next chance\")"
      ]
    },
    {
      "cell_type": "code",
      "execution_count": null,
      "metadata": {
        "colab": {
          "base_uri": "https://localhost:8080/"
        },
        "id": "nqgxRxKmySDA",
        "outputId": "1a5465e6-aa41-44f8-8b4f-0080237958db"
      },
      "outputs": [
        {
          "name": "stdout",
          "output_type": "stream",
          "text": [
            "Enter a prize medal :3\n",
            "Bronze medal\n"
          ]
        }
      ],
      "source": [
        "Prize = int(input(\"Enter a prize medal :\"))\n",
        "if Prize == 1 :\n",
        "  print(\"Gold medal\")\n",
        "elif Prize == 2 :\n",
        "  print(\"Silver medal\")\n",
        "elif Prize == 3 :\n",
        "  print(\"Bronze medal\")\n",
        "else :\n",
        "  print(\"Better luck next time\")"
      ]
    },
    {
      "cell_type": "code",
      "execution_count": null,
      "metadata": {
        "colab": {
          "base_uri": "https://localhost:8080/"
        },
        "id": "LIFsq2yx05PQ",
        "outputId": "2924c52f-7b2e-493d-ea28-26681f365db1"
      },
      "outputs": [
        {
          "name": "stdout",
          "output_type": "stream",
          "text": [
            "Enter a troffic colours :Red\n",
            "stop\n"
          ]
        }
      ],
      "source": [
        "Troffic = input(\"Enter a troffic colours :\")\n",
        "if Troffic == \"Red\" :\n",
        "  print(\"stop\")\n",
        "elif Troffic == \"Yellow\" :\n",
        "  print(\"Ready\")\n",
        "elif Troffic == \"Green\" :\n",
        "  print(\"Go\")"
      ]
    },
    {
      "cell_type": "code",
      "execution_count": null,
      "metadata": {
        "colab": {
          "base_uri": "https://localhost:8080/"
        },
        "id": "5l17ROrxDfM1",
        "outputId": "7d7077ea-41a4-4c7e-bba3-4188551a79b6"
      },
      "outputs": [
        {
          "name": "stdout",
          "output_type": "stream",
          "text": [
            "B is largest number\n"
          ]
        }
      ],
      "source": [
        "a, b, c = 25, 35, 15\n",
        "if a > b and a > c :\n",
        "  print(\"A is largest number\")\n",
        "elif b > a and b > c :\n",
        "  print(\"B is largest number\")\n",
        "else :\n",
        "  print(\"C is largest number\")"
      ]
    },
    {
      "cell_type": "code",
      "execution_count": null,
      "metadata": {
        "colab": {
          "base_uri": "https://localhost:8080/"
        },
        "id": "flsDB3qyN8ne",
        "outputId": "7a1d2226-5b37-4dc1-fe7a-2a018720d547"
      },
      "outputs": [
        {
          "name": "stdout",
          "output_type": "stream",
          "text": [
            "Enter a number value :4\n",
            "Positive number\n"
          ]
        }
      ],
      "source": [
        "Num = int(input(\"Enter a number value :\"))\n",
        "if Num < 0 :\n",
        "    print(\"Negative number\")\n",
        "else :\n",
        "  print(\"Positive number\")"
      ]
    },
    {
      "cell_type": "code",
      "execution_count": null,
      "metadata": {
        "colab": {
          "base_uri": "https://localhost:8080/"
        },
        "id": "7AoJpoyGO-gl",
        "outputId": "18852c33-5bc9-487b-db9c-23cbadc23ea8"
      },
      "outputs": [
        {
          "name": "stdout",
          "output_type": "stream",
          "text": [
            "Negative number\n"
          ]
        }
      ],
      "source": [
        "num = -5\n",
        "if num >= 0:\n",
        "  if num == 0:\n",
        "    print(\"Zero value\")\n",
        "  else:\n",
        "    print(\"Positive number\")\n",
        "else:\n",
        "  print(\"Negative number\")"
      ]
    },
    {
      "cell_type": "code",
      "execution_count": null,
      "metadata": {
        "colab": {
          "base_uri": "https://localhost:8080/"
        },
        "id": "R7H1mTMNQVbi",
        "outputId": "65175524-aa64-4856-c80e-e8a03d7d92df"
      },
      "outputs": [
        {
          "name": "stdout",
          "output_type": "stream",
          "text": [
            "Enter number value is :58\n",
            "Positive number\n"
          ]
        }
      ],
      "source": [
        "num = int(input(\"Enter number value is :\"))\n",
        "if num > 0:\n",
        "  if num == 0:\n",
        "    print(\"Zero value\")\n",
        "  else:\n",
        "    print(\"Positive number\")\n",
        "else:\n",
        "  print(\"Negative number\")"
      ]
    },
    {
      "cell_type": "code",
      "execution_count": null,
      "metadata": {
        "colab": {
          "base_uri": "https://localhost:8080/"
        },
        "id": "y3eP8FRhSZRX",
        "outputId": "81bef5f0-ec80-4ae6-a35e-445d2756a118"
      },
      "outputs": [
        {
          "name": "stdout",
          "output_type": "stream",
          "text": [
            "Enter your choice option :%\n",
            "Mod of value 10\n"
          ]
        }
      ],
      "source": [
        "# Write a programe arithmetic operator using switch statement\n",
        "x,y = 10,20\n",
        "option = input(\"Enter your choice option :\")\n",
        "match option :\n",
        "  case '+':\n",
        "    print(\"Sum of value\",x+y)\n",
        "  case '-':\n",
        "    print(\"Sub of value\",x-y)\n",
        "  case '*':\n",
        "    print(\"Mul of value\",x*y)\n",
        "  case '/':\n",
        "    print(\"Div of value\",x/y)\n",
        "  case '%':\n",
        "    print(\"Mod of value\",x%y)\n",
        "  case'_' :\n",
        "    print(\"Invalid operator\")\n",
        "  case'!=':\n",
        "    print(\"Not equal\")"
      ]
    },
    {
      "cell_type": "code",
      "execution_count": null,
      "metadata": {
        "colab": {
          "base_uri": "https://localhost:8080/"
        },
        "id": "ktk6B1n2Xnaf",
        "outputId": "18435ce8-05ee-411f-d236-d8b07a3cf45a"
      },
      "outputs": [
        {
          "name": "stdout",
          "output_type": "stream",
          "text": [
            "Enter your choice day :7\n",
            "Sunday\n"
          ]
        }
      ],
      "source": [
        "day =int (input(\"Enter your choice day :\"))\n",
        "match day :\n",
        "  case 1:\n",
        "    print(\"Monday\")\n",
        "  case 2:\n",
        "    print(\"Tuesday\")\n",
        "  case 3:\n",
        "    print(\"Wednesday\")\n",
        "  case 4:\n",
        "    print(\"Thursday\")\n",
        "  case 5:\n",
        "    print(\"Friday\")\n",
        "  case 6:\n",
        "    print(\"Saturday\")\n",
        "  case 7:\n",
        "    print(\"Sunday\")\n",
        "\n"
      ]
    },
    {
      "cell_type": "code",
      "execution_count": null,
      "metadata": {
        "colab": {
          "base_uri": "https://localhost:8080/"
        },
        "id": "HQBU2RT0dL9H",
        "outputId": "de517499-1b63-4d24-d9f4-a20d491e1434"
      },
      "outputs": [
        {
          "name": "stdout",
          "output_type": "stream",
          "text": [
            "Enter a month number :12\n",
            "Dec\n"
          ]
        }
      ],
      "source": [
        "months = int(input(\"Enter a month number :\"))\n",
        "match months :\n",
        "  case 1:\n",
        "    print(\"Jan\")\n",
        "  case 2:\n",
        "    print(\"Feb\")\n",
        "  case 3:\n",
        "    print(\"Mar\")\n",
        "  case 4:\n",
        "    print(\"Apr\")\n",
        "  case 5:\n",
        "    print(\"May\")\n",
        "  case 6:\n",
        "    print(\"Jun\")\n",
        "  case 7:\n",
        "    print(\"Jul\")\n",
        "  case 8:\n",
        "    print(\"Aug\")\n",
        "  case 9:\n",
        "    print(\"Sep\")\n",
        "  case 10:\n",
        "    print(\"Oct\")\n",
        "  case 11:\n",
        "    print(\"Nov\")\n",
        "  case 12:\n",
        "    print(\"Dec\")"
      ]
    },
    {
      "cell_type": "code",
      "execution_count": null,
      "metadata": {
        "colab": {
          "base_uri": "https://localhost:8080/"
        },
        "id": "Vetk2DAHgSH5",
        "outputId": "15ccefef-ba2d-4ce3-af33-004c50f1f314"
      },
      "outputs": [
        {
          "name": "stdout",
          "output_type": "stream",
          "text": [
            "1 2 3 4 5 6 7 8 9 10 11 12 13 14 15 16 17 18 19 20 21 22 23 24 25 26 27 28 29 30 31 32 33 34 35 36 37 38 39 40 41 42 43 44 45 46 47 48 49 50 51 52 53 54 55 56 57 58 59 60 "
          ]
        }
      ],
      "source": [
        "i = 1\n",
        "while i <= 60 :\n",
        "    print(i,end=\" \")\n",
        "    i += 1"
      ]
    },
    {
      "cell_type": "code",
      "execution_count": null,
      "metadata": {
        "colab": {
          "base_uri": "https://localhost:8080/"
        },
        "id": "5WZ14JsGhRm_",
        "outputId": "c02b0e80-b3b6-436f-d629-e354506600aa"
      },
      "outputs": [
        {
          "name": "stdout",
          "output_type": "stream",
          "text": [
            "Sum of n natural number is : 55\n"
          ]
        }
      ],
      "source": [
        "i = 1\n",
        "add = 0\n",
        "while i <= 10 :\n",
        "  add = add + i\n",
        "  i += 1\n",
        "print(\"Addition of value is :\",add)"
      ]
    },
    {
      "cell_type": "code",
      "execution_count": null,
      "metadata": {
        "colab": {
          "base_uri": "https://localhost:8080/"
        },
        "id": "69wndxXjlY3Z",
        "outputId": "43e723a7-d085-45e3-c272-ea8604dce05f"
      },
      "outputs": [
        {
          "name": "stdout",
          "output_type": "stream",
          "text": [
            "5 * 1 = 5 5 * 2 = 10 5 * 3 = 15 5 * 4 = 20 5 * 5 = 25 5 * 6 = 30 5 * 7 = 35 5 * 8 = 40 5 * 9 = 45 5 * 10 = 50 "
          ]
        }
      ],
      "source": [
        "Num = 5\n",
        "i = 1\n",
        "while i <= 10 :\n",
        "  print(\"5 *\",i,\"=\",Num*i,end=\" \")\n",
        "  i = i + 1\n"
      ]
    },
    {
      "cell_type": "code",
      "execution_count": null,
      "metadata": {
        "colab": {
          "base_uri": "https://localhost:8080/"
        },
        "id": "twUhpsrZo4Cs",
        "outputId": "a16ae5d5-fa98-4cbb-f9be-7c6223882dea"
      },
      "outputs": [
        {
          "name": "stdout",
          "output_type": "stream",
          "text": [
            "Armstrong number\n"
          ]
        }
      ],
      "source": [
        "num = 407\n",
        "rem = 0\n",
        "sum = 0\n",
        "temp = num\n",
        "while num > 0 :\n",
        "  rem = num % 10\n",
        "  sum = sum + rem * rem * rem\n",
        "  num = num // 10\n",
        "if temp == sum :\n",
        "  print(\"Armstrong number\")\n",
        "else :\n",
        "  print(\"Not armstrong number\")"
      ]
    },
    {
      "cell_type": "code",
      "execution_count": null,
      "metadata": {
        "colab": {
          "base_uri": "https://localhost:8080/"
        },
        "id": "YmW9f5l1uNJa",
        "outputId": "83626bd6-06c1-423f-b087-6ccf2eec3bc7"
      },
      "outputs": [
        {
          "name": "stdout",
          "output_type": "stream",
          "text": [
            "Reverse number is : 54321\n"
          ]
        }
      ],
      "source": [
        "num = 12345\n",
        "rem = 0\n",
        "sum = 0\n",
        "temp = num\n",
        "while num > 0 :\n",
        "  rem = num % 10\n",
        "  sum = sum * 10 + rem\n",
        "  num = num // 10\n",
        "print(\"Reverse number is :\",sum )"
      ]
    },
    {
      "cell_type": "code",
      "execution_count": null,
      "metadata": {
        "colab": {
          "base_uri": "https://localhost:8080/"
        },
        "id": "B9Cc4MaGzbjD",
        "outputId": "98f53fe5-7c71-455c-bd48-283553c6002e"
      },
      "outputs": [
        {
          "name": "stdout",
          "output_type": "stream",
          "text": [
            "2 4 6 8 10 12 14 16 18 20 22 24 26 28 30 32 34 36 38 40 42 44 46 48 50 52 54 56 58 60 62 64 66 68 70 72 74 76 78 80 82 84 86 88 90 92 94 96 98 100 "
          ]
        }
      ],
      "source": [
        "# print even number between 1 to 100\n",
        "i = 2\n",
        "while i <= 100:\n",
        "   print(i,end = \" \")\n",
        "   i+=2"
      ]
    },
    {
      "cell_type": "code",
      "execution_count": null,
      "metadata": {
        "colab": {
          "base_uri": "https://localhost:8080/"
        },
        "id": "0UPcLD040akB",
        "outputId": "6e19f00e-c6d4-4f4e-8e5a-fe80f579f402"
      },
      "outputs": [
        {
          "name": "stdout",
          "output_type": "stream",
          "text": [
            "0 1 1 2 3 5 8 13 21 34 55 "
          ]
        }
      ],
      "source": [
        "num,a,b =10,0,1\n",
        "i = 0\n",
        "while i <= num :\n",
        "    print(a, end = \" \")\n",
        "    a,b = b,a+b\n",
        "    i+=1"
      ]
    },
    {
      "cell_type": "code",
      "execution_count": null,
      "metadata": {
        "colab": {
          "base_uri": "https://localhost:8080/"
        },
        "id": "OTAx6MMpNh0N",
        "outputId": "d8f3841e-592d-44d9-af31-04b47e5e72c9"
      },
      "outputs": [
        {
          "name": "stdout",
          "output_type": "stream",
          "text": [
            "<class 'list'>\n",
            "blue\n",
            "red\n",
            "pink\n",
            "black\n"
          ]
        }
      ],
      "source": [
        "colours = ['blue','red','pink','black']\n",
        "print(type(colours))\n",
        "\n",
        "for i in colours :\n",
        "    print(i)"
      ]
    },
    {
      "cell_type": "code",
      "execution_count": null,
      "metadata": {
        "colab": {
          "base_uri": "https://localhost:8080/"
        },
        "id": "IGDVth2MO7Dn",
        "outputId": "8fc7c6ed-3155-45b3-e356-43d2e8fc69f5"
      },
      "outputs": [
        {
          "name": "stdout",
          "output_type": "stream",
          "text": [
            "1\n",
            "2\n",
            "3\n",
            "4\n",
            "5\n",
            "6\n",
            "7\n",
            "8\n",
            "9\n"
          ]
        }
      ],
      "source": [
        "numbers = {1,2,3,4,5,6,7,8,9}\n",
        "for i in numbers :\n",
        "   print(i)"
      ]
    },
    {
      "cell_type": "code",
      "execution_count": null,
      "metadata": {
        "colab": {
          "base_uri": "https://localhost:8080/"
        },
        "id": "OFKT-QDfPmLX",
        "outputId": "21122227-cbcf-4ced-9c87-a6aed2044c47"
      },
      "outputs": [
        {
          "name": "stdout",
          "output_type": "stream",
          "text": [
            "id0kihC ni egelloC ACB KB ELK\n"
          ]
        }
      ],
      "source": [
        "Name = \"KLE BK BCA College in Chik0di\"\n",
        "rev = \"\"\n",
        "for i in Name :\n",
        "  rev = i + rev\n",
        "print(rev)"
      ]
    },
    {
      "cell_type": "code",
      "execution_count": null,
      "metadata": {
        "colab": {
          "base_uri": "https://localhost:8080/"
        },
        "id": "14szmC8iQgh1",
        "outputId": "3ad2feae-82a7-4bd3-c2c0-06852c69c8e3"
      },
      "outputs": [
        {
          "name": "stdout",
          "output_type": "stream",
          "text": [
            "hi,basu sir\n"
          ]
        }
      ],
      "source": [
        "print(\"hi,basu sir\")"
      ]
    },
    {
      "cell_type": "code",
      "execution_count": null,
      "metadata": {
        "colab": {
          "base_uri": "https://localhost:8080/"
        },
        "id": "SZlmc1uPYvoX",
        "outputId": "9146c85c-39a2-4653-c817-68f2ad38d47c"
      },
      "outputs": [
        {
          "name": "stdout",
          "output_type": "stream",
          "text": [
            "0\n",
            "1\n",
            "2\n",
            "3\n",
            "4\n",
            "5\n",
            "6\n",
            "7\n",
            "8\n",
            "9\n"
          ]
        }
      ],
      "source": [
        "for i in range(10):\n",
        "  print(i)"
      ]
    },
    {
      "cell_type": "code",
      "execution_count": null,
      "metadata": {
        "colab": {
          "base_uri": "https://localhost:8080/"
        },
        "id": "SCMkj8mcZ6xm",
        "outputId": "acd67a53-ca6b-4b8f-a521-35dce84da2ff"
      },
      "outputs": [
        {
          "name": "stdout",
          "output_type": "stream",
          "text": [
            "1\n",
            "2\n",
            "3\n",
            "4\n",
            "5\n",
            "6\n",
            "7\n",
            "8\n",
            "9\n",
            "10\n"
          ]
        }
      ],
      "source": [
        "for i in range(1,10+1):\n",
        "  print(i)"
      ]
    },
    {
      "cell_type": "code",
      "execution_count": null,
      "metadata": {
        "colab": {
          "base_uri": "https://localhost:8080/"
        },
        "id": "SlTJeKYBav-8",
        "outputId": "d11d862a-1bc8-4997-bbef-1fd5ecb51a13"
      },
      "outputs": [
        {
          "name": "stdout",
          "output_type": "stream",
          "text": [
            "sum of N Natural number is 55\n"
          ]
        }
      ],
      "source": [
        "Sum = 0\n",
        "for i in range(1,11):\n",
        "  Sum+=i\n",
        "print(\"sum of N Natural number is\",Sum)"
      ]
    },
    {
      "cell_type": "code",
      "execution_count": null,
      "metadata": {
        "colab": {
          "base_uri": "https://localhost:8080/"
        },
        "id": "ZwgM-4grdyXn",
        "outputId": "59afc159-5c7a-4015-b55e-d8a4e01fa69c"
      },
      "outputs": [
        {
          "name": "stdout",
          "output_type": "stream",
          "text": [
            "4* 1 = 4\n",
            "4* 2 = 8\n",
            "4* 3 = 12\n",
            "4* 4 = 16\n",
            "4* 5 = 20\n",
            "4* 6 = 24\n",
            "4* 7 = 28\n",
            "4* 8 = 32\n",
            "4* 9 = 36\n",
            "4* 10 = 40\n"
          ]
        }
      ],
      "source": [
        "num  = 4\n",
        "for i in range(1,11):\n",
        "  print(\"4*\",i,\"=\",num*i)\n",
        "  i=i+1"
      ]
    },
    {
      "cell_type": "code",
      "execution_count": null,
      "metadata": {
        "colab": {
          "base_uri": "https://localhost:8080/"
        },
        "id": "zNRsJTbVfde1",
        "outputId": "d6841e1a-961a-431a-b15b-967f58c6025a"
      },
      "outputs": [
        {
          "name": "stdout",
          "output_type": "stream",
          "text": [
            "2 4 6 8 10 12 14 16 18 20 22 24 26 28 30 32 34 36 38 40 42 44 46 48 50 52 54 56 58 60 62 64 66 68 70 72 74 76 78 80 82 84 86 88 90 92 94 96 98 100 "
          ]
        }
      ],
      "source": [
        "for i in range(2,101,2):\n",
        "     print(i,end=\" \")"
      ]
    },
    {
      "cell_type": "code",
      "execution_count": null,
      "metadata": {
        "colab": {
          "base_uri": "https://localhost:8080/"
        },
        "id": "Mnp3y50dhFwz",
        "outputId": "332e6de8-9278-4c6b-ade7-f6117a63fd45"
      },
      "outputs": [
        {
          "name": "stdout",
          "output_type": "stream",
          "text": [
            "Factorial number is : 120\n"
          ]
        }
      ],
      "source": [
        "fact = 1\n",
        "for i in range(1,6):\n",
        "  fact = fact*i\n",
        "print(\"Factorial number is :\",fact)"
      ]
    },
    {
      "cell_type": "code",
      "execution_count": null,
      "metadata": {
        "colab": {
          "base_uri": "https://localhost:8080/"
        },
        "id": "N-1_z6KZiRHt",
        "outputId": "54c96b3e-0171-4f31-d86f-56b03afd59d5"
      },
      "outputs": [
        {
          "name": "stdout",
          "output_type": "stream",
          "text": [
            "0 1 1 2 3 5 8 13 21 34 55 89 144 "
          ]
        }
      ],
      "source": [
        "# Fibonacci series / number using for loop\n",
        "# 0 1 1 2 3 5 8 13 21 34 55 89 144\n",
        "a,b = 0,1\n",
        "for i in range(1,14):\n",
        "    print(a,end=\" \")\n",
        "    a,b = b,a+b"
      ]
    },
    {
      "cell_type": "code",
      "execution_count": null,
      "metadata": {
        "colab": {
          "base_uri": "https://localhost:8080/"
        },
        "id": "Vho1gp2klPtk",
        "outputId": "e92fce82-ce07-47e9-b12c-3b43b4553dec"
      },
      "outputs": [
        {
          "name": "stdout",
          "output_type": "stream",
          "text": [
            "2\n"
          ]
        }
      ],
      "source": [
        "a=5\n",
        "b=2\n",
        "print(a//b)"
      ]
    },
    {
      "cell_type": "code",
      "execution_count": null,
      "metadata": {
        "colab": {
          "base_uri": "https://localhost:8080/"
        },
        "id": "zfmOnhqYIicx",
        "outputId": "b7c8d435-768d-494f-cd19-1703d3d8fbdb"
      },
      "outputs": [
        {
          "name": "stdout",
          "output_type": "stream",
          "text": [
            "Total vowels is: 8\n"
          ]
        }
      ],
      "source": [
        "sentance = \"Python programming language\"\n",
        "count = 0\n",
        "for ch in sentance :\n",
        "  if ch in \"aeiou\":\n",
        "      count += 1\n",
        "print(\"Total vowels is:\",count)"
      ]
    },
    {
      "cell_type": "code",
      "execution_count": null,
      "metadata": {
        "colab": {
          "base_uri": "https://localhost:8080/"
        },
        "id": "zVpTvMePIhiA",
        "outputId": "e8a276a8-9a4a-46d8-c61f-58c98d7ad4bf"
      },
      "outputs": [
        {
          "name": "stdout",
          "output_type": "stream",
          "text": [
            "Area of triangle is : 10.0\n"
          ]
        }
      ],
      "source": [
        "# Area of triangle\n",
        "base = 4\n",
        "height = 5\n",
        "triangle = 0.5 * base * height\n",
        "print(\"Area of triangle is :\",triangle)\n"
      ]
    },
    {
      "cell_type": "code",
      "execution_count": null,
      "metadata": {
        "colab": {
          "base_uri": "https://localhost:8080/"
        },
        "id": "u32KMli7LAAX",
        "outputId": "1298020a-6fe5-4531-98b6-491f44747946"
      },
      "outputs": [
        {
          "name": "stdout",
          "output_type": "stream",
          "text": [
            "Area of circle is : 50.24\n"
          ]
        }
      ],
      "source": [
        "# Area of circle\n",
        "redius = 4\n",
        "Area =  3.14*redius**2\n",
        "print(\"Area of circle is :\",Area)"
      ]
    },
    {
      "cell_type": "code",
      "execution_count": null,
      "metadata": {
        "colab": {
          "base_uri": "https://localhost:8080/"
        },
        "id": "WO_45wYBL1xQ",
        "outputId": "0a5cd9b8-5041-434b-d731-764d5a171bc1"
      },
      "outputs": [
        {
          "name": "stdout",
          "output_type": "stream",
          "text": [
            "Largest number is : 45\n"
          ]
        }
      ],
      "source": [
        "Example = [5,25,35,28,45,10,15]\n",
        "largest_number = Example[0]\n",
        "for i in Example :\n",
        "  if i > largest_number :\n",
        "    largest_number = i\n",
        "print(\"Largest number is :\",largest_number)"
      ]
    },
    {
      "cell_type": "code",
      "execution_count": null,
      "metadata": {
        "colab": {
          "base_uri": "https://localhost:8080/"
        },
        "id": "MVBi1dkFD5xP",
        "outputId": "5061ec4c-e474-4dfa-b21f-d89258c0161b"
      },
      "outputs": [
        {
          "name": "stdout",
          "output_type": "stream",
          "text": [
            "99 is a largest numbers in this list\n"
          ]
        }
      ],
      "source": [
        "numbers = [10,25,7,99,56]\n",
        "lar = numbers[0]\n",
        "for i in numbers :\n",
        "  if i > lar :\n",
        "      lar = i\n",
        "print(lar,\"is a largest numbers in this list\")"
      ]
    },
    {
      "cell_type": "code",
      "execution_count": null,
      "metadata": {
        "colab": {
          "base_uri": "https://localhost:8080/"
        },
        "id": "waGqU5Y5HDVv",
        "outputId": "6070158d-ea52-4d15-e632-a8e68c819d6b"
      },
      "outputs": [
        {
          "name": "stdout",
          "output_type": "stream",
          "text": [
            "Total consonents is: 36\n"
          ]
        }
      ],
      "source": [
        "# Write a programe count of consonent in string value\n",
        "# \"Bachelor of computer science first semester section c \"\n",
        "sentence = \"Bachelor of computer science first semester section c\"\n",
        "count = 0\n",
        "for ch in sentence :\n",
        "  if ch not in \"aeiou\":\n",
        "      count += 1\n",
        "print(\"Total consonents is:\",count)\n"
      ]
    },
    {
      "cell_type": "code",
      "execution_count": null,
      "metadata": {
        "colab": {
          "base_uri": "https://localhost:8080/"
        },
        "id": "HVjg5LUn8LHB",
        "outputId": "1011b11e-3b97-4f22-d29f-c3f57392f195"
      },
      "outputs": [
        {
          "name": "stdout",
          "output_type": "stream",
          "text": [
            "RX 100\n",
            "Ninja\n",
            "Splender\n",
            "Bajaj\n",
            "NS 200\n",
            "M 80\n"
          ]
        }
      ],
      "source": [
        "bikes = [\"RX 100\",\"GT 650\",\"Ninja\",\"Splender\",\"Bajaj\",\"NS 200\",\"M 80\"]\n",
        "for bike in bikes :\n",
        "  if bike == \"GT 650\" :\n",
        "    continue\n",
        "  print(bike)"
      ]
    },
    {
      "cell_type": "code",
      "execution_count": null,
      "metadata": {
        "colab": {
          "base_uri": "https://localhost:8080/"
        },
        "id": "PNZQIWrj-OkS",
        "outputId": "66990410-e438-4e8f-8309-6e7b4b3631bf"
      },
      "outputs": [
        {
          "name": "stdout",
          "output_type": "stream",
          "text": [
            "blue\n",
            "red\n"
          ]
        }
      ],
      "source": [
        "colours = ['blue','red','pink','black','purple','white','orenge','gray','yellow']\n",
        "for i in colours :\n",
        "  if i == 'pink' :\n",
        "    break\n",
        "  print(i)"
      ]
    },
    {
      "cell_type": "code",
      "execution_count": null,
      "metadata": {
        "colab": {
          "base_uri": "https://localhost:8080/"
        },
        "id": "3NP5eS3R-4vO",
        "outputId": "c26a65bc-52ff-4c99-f02f-8c5b8ec6c4c9"
      },
      "outputs": [
        {
          "name": "stdout",
          "output_type": "stream",
          "text": [
            "Total value is : 15\n",
            "Total value is : 18\n",
            "Total value is : 90\n"
          ]
        }
      ],
      "source": [
        "# 1) Example sum of numbers using *args\n",
        "def add(*args):\n",
        "   total=0\n",
        "   for num in args:\n",
        "     total += num\n",
        "   print(\"Total value is :\",total)\n",
        "\n",
        "add(10,5)\n",
        "add(5,4,9)\n",
        "add(10,46,14,20)"
      ]
    },
    {
      "cell_type": "code",
      "execution_count": null,
      "metadata": {
        "colab": {
          "base_uri": "https://localhost:8080/"
        },
        "id": "81MDQfcyBvJ4",
        "outputId": "8a210149-3cd3-4d29-8734-f7c63f9c1b37"
      },
      "outputs": [
        {
          "name": "stdout",
          "output_type": "stream",
          "text": [
            "name=Pramila\n",
            "age=19\n",
            "city=Belagum\n"
          ]
        }
      ],
      "source": [
        "def print_details(**kwargs):\n",
        "  for key,value in kwargs.items():\n",
        "    print(f\"{key}={value}\")\n",
        "\n",
        "print_details(name='Pramila',age='19',city='Belagum')"
      ]
    },
    {
      "cell_type": "code",
      "source": [
        "def details(**kwargs):\n",
        "   for key,value in kwargs.items():\n",
        "    print(f'My details is {key} and {value}')\n",
        "details(course=\"BCA\",section='c',college=\"BK College\")\n",
        "details(Place=\"Belagum\")\n",
        "details(Roll_no=86,T_Subject=7)\n",
        "details(Laptop=\"Lenovo\",O_S=\"Window\",Year=2025,Version=\"Windows8\")\n",
        ""
      ],
      "metadata": {
        "colab": {
          "base_uri": "https://localhost:8080/"
        },
        "id": "acepsQf1Bt1u",
        "outputId": "59633488-d608-4daf-d39d-f40184eea4b0"
      },
      "execution_count": 21,
      "outputs": [
        {
          "output_type": "stream",
          "name": "stdout",
          "text": [
            "My details is course and BCA\n",
            "My details is section and c\n",
            "My details is college and BK College\n",
            "My details is Place and Belagum\n",
            "My details is Roll_no and 86\n",
            "My details is T_Subject and 7\n",
            "My details is Laptop and Lenovo\n",
            "My details is O_S and Window\n",
            "My details is Year and 2025\n",
            "My details is Version and Windows8\n"
          ]
        }
      ]
    },
    {
      "cell_type": "code",
      "execution_count": 1,
      "metadata": {
        "id": "5PCpGTc4EsWh",
        "colab": {
          "base_uri": "https://localhost:8080/"
        },
        "outputId": "a4c0e9d0-784e-481a-f9e1-d0b76d9a4617"
      },
      "outputs": [
        {
          "output_type": "stream",
          "name": "stdout",
          "text": [
            "Positional Arguments represented in Tuple (1, 2, 3, 4)\n",
            "Key-words Arguments represented in Dict {'name': 'Pramila'}\n",
            "Positional Arguments represented in Tuple (5, 8, 1, 10)\n",
            "Key-words Arguments represented in Dict {'Class': 'BCA C section', 'Gender': 'Female'}\n"
          ]
        }
      ],
      "source": [
        "# Example of *args and **kwargs\n",
        "def Show_values(*args,**kwargs):\n",
        "   print(\"Positional Arguments represented in Tuple\",args)\n",
        "   print(\"Key-words Arguments represented in Dict\",kwargs)\n",
        "Show_values(1,2,3,4,name=\"Pramila\")\n",
        "\n",
        "Show_values(5,8,1,10,Class=\"BCA C section\",Gender=\"Female\")\n",
        ""
      ]
    },
    {
      "cell_type": "code",
      "source": [
        "i = 1\n",
        "fact = 1\n",
        "while i <= 5 :\n",
        "  fact = fact * i\n",
        "  print(fact)\n",
        "  i+=1"
      ],
      "metadata": {
        "colab": {
          "base_uri": "https://localhost:8080/"
        },
        "id": "VJ2PhHBF_4Be",
        "outputId": "74f9b683-687d-414d-e75b-8056ae7d9e55"
      },
      "execution_count": 3,
      "outputs": [
        {
          "output_type": "stream",
          "name": "stdout",
          "text": [
            "1\n",
            "2\n",
            "6\n",
            "24\n",
            "120\n"
          ]
        }
      ]
    },
    {
      "cell_type": "code",
      "source": [
        "\n",
        "fact = 1\n",
        "def fact(num):\n",
        "  if num == 0 or num == 1:\n",
        "    return 1\n",
        "  else :\n",
        "    return num* fact(num-1)\n",
        "print(fact(5))"
      ],
      "metadata": {
        "colab": {
          "base_uri": "https://localhost:8080/"
        },
        "id": "OZTh3rGl_8xn",
        "outputId": "6a35979d-d0b3-45da-f059-916c7a043336"
      },
      "execution_count": 4,
      "outputs": [
        {
          "output_type": "stream",
          "name": "stdout",
          "text": [
            "120\n"
          ]
        }
      ]
    },
    {
      "cell_type": "code",
      "source": [
        "def sum(num):\n",
        "  if num == 0 or num == 1:\n",
        "     return num\n",
        "  else :\n",
        "     return num + sum(num-1)\n",
        "num = 10\n",
        "print(\"sum N natural num is:\",sum(num))\n",
        ""
      ],
      "metadata": {
        "colab": {
          "base_uri": "https://localhost:8080/"
        },
        "id": "xKMcyQ0ZADPV",
        "outputId": "ca46a6d7-429c-4788-c775-35c3ef145409"
      },
      "execution_count": 5,
      "outputs": [
        {
          "output_type": "stream",
          "name": "stdout",
          "text": [
            "sum N natural num is: 55\n"
          ]
        }
      ]
    },
    {
      "cell_type": "code",
      "source": [
        "# Fibonacci series / number using function Recursion\n",
        "def fib(num):\n",
        "  if num <= 1:\n",
        "    return num\n",
        "  else :\n",
        "    return fib(num-1) + fib(num-2)\n",
        "\n",
        "for i in range(11):\n",
        "  print(fib(i),end=\" \")"
      ],
      "metadata": {
        "colab": {
          "base_uri": "https://localhost:8080/"
        },
        "id": "Js1__8YCAQDl",
        "outputId": "6d89352c-b29b-4078-b994-30fdb49c9cde"
      },
      "execution_count": 6,
      "outputs": [
        {
          "output_type": "stream",
          "name": "stdout",
          "text": [
            "0 1 1 2 3 5 8 13 21 34 55 "
          ]
        }
      ]
    },
    {
      "cell_type": "code",
      "source": [
        "Name = \"Tiruu\"\n",
        "print(Name[:5])\n",
        ""
      ],
      "metadata": {
        "colab": {
          "base_uri": "https://localhost:8080/"
        },
        "id": "VGYytNCGAUlc",
        "outputId": "897acf95-7151-4928-ef25-70ef8e17fa16"
      },
      "execution_count": 7,
      "outputs": [
        {
          "output_type": "stream",
          "name": "stdout",
          "text": [
            "Tiruu\n"
          ]
        }
      ]
    },
    {
      "cell_type": "code",
      "source": [
        "class Fruit:\n",
        "    Colour = \"Orange\"\n",
        "    Price = 250\n",
        "    Teste = \"Sweet\"\n",
        "    Shape = \"Circle\"\n",
        "    def juice(self):\n",
        "        print(\"Good\")\n",
        "Orange = Fruit()\n",
        "print(\"Orange Colour is\",Orange.Colour)\n",
        "Orange.juice()\n",
        "print(Orange.Price)"
      ],
      "metadata": {
        "colab": {
          "base_uri": "https://localhost:8080/"
        },
        "id": "eyY2tmyTAZGO",
        "outputId": "1429d6c5-b792-41a1-a12e-d0bf24c2ef79"
      },
      "execution_count": 8,
      "outputs": [
        {
          "output_type": "stream",
          "name": "stdout",
          "text": [
            "Orange Colour is Orange\n",
            "Good\n",
            "250\n"
          ]
        }
      ]
    },
    {
      "cell_type": "code",
      "source": [
        "\n",
        "class Flower:\n",
        "    Smell = \"Nice\"\n",
        "    Petal = 5\n",
        "    Size = \"Medium\"\n",
        "    Gender = \"Male\"\n",
        "    Validity = 1.5\n",
        "    def Decoration(self):\n",
        "        print(\"Hello Good Morning\")\n",
        "    def Gift(self):\n",
        "        print(\"Good Afternoon\")\n",
        "    def Marriage(self):\n",
        "        print(\"Marriage\")\n",
        "    def Death(self):\n",
        "        print(\"This flower using for death time\")\n",
        "Obj = Flower()\n",
        "Obj.Marriage()\n",
        "print(Obj.Gender)\n",
        "Obj.Decoration()\n",
        "Obj.Gift()"
      ],
      "metadata": {
        "colab": {
          "base_uri": "https://localhost:8080/"
        },
        "id": "NvHZ6xccAhEe",
        "outputId": "357622dc-5e29-47de-b62f-3439680540f7"
      },
      "execution_count": 9,
      "outputs": [
        {
          "output_type": "stream",
          "name": "stdout",
          "text": [
            "Marriage\n",
            "Male\n",
            "Hello Good Morning\n",
            "Good Afternoon\n"
          ]
        }
      ]
    },
    {
      "cell_type": "code",
      "source": [
        "class Fan :\n",
        "    colour = \"Black\"\n",
        "    wings = 3\n",
        "    c_name = \"Usha\"\n",
        "    price = 1500\n",
        "    Warrenty =\"2 years\"\n",
        "    def start(self):\n",
        "        print(\"When click on button it'll start\")\n",
        "    def speed(self):\n",
        "        print(\"Based on condition it'll move fast\" )\n",
        "    def stop(self):\n",
        "        print(\"When click on off button it'll stop\")\n",
        "Obj = Fan()\n",
        "print(Obj.c_name+\" \"+Obj.Warrenty)\n",
        "Obj.stop()\n",
        "Obj.start()"
      ],
      "metadata": {
        "colab": {
          "base_uri": "https://localhost:8080/"
        },
        "id": "zfziXQBqAm79",
        "outputId": "6c822f55-f6f8-4eab-ba82-95c001af33c5"
      },
      "execution_count": 10,
      "outputs": [
        {
          "output_type": "stream",
          "name": "stdout",
          "text": [
            "Usha 2 years\n",
            "When click on off button it'll stop\n",
            "When click on button it'll start\n"
          ]
        }
      ]
    },
    {
      "cell_type": "code",
      "source": [
        "def fun(name):\n",
        "    print(\"My name is a\",name)\n",
        "fun(\"Triveni\")\n",
        ""
      ],
      "metadata": {
        "colab": {
          "base_uri": "https://localhost:8080/"
        },
        "id": "1t0yvbvjAsGG",
        "outputId": "c6a2f5df-def9-4247-eeaf-02842b6d5652"
      },
      "execution_count": 11,
      "outputs": [
        {
          "output_type": "stream",
          "name": "stdout",
          "text": [
            "My name is a Triveni\n"
          ]
        }
      ]
    },
    {
      "cell_type": "code",
      "source": [
        "# Banking Example\n",
        "class Bank :\n",
        "    def __init__(self,balance):\n",
        "        self.balance = balance\n",
        "    def Deposit(self,amount):\n",
        "        self.balance += amount\n",
        "    def Withdraw(self,amount):\n",
        "        if amount <= self.balance:\n",
        "           self.balance -= amount\n",
        "           print(\"Transaction successfully\")\n",
        "        else:\n",
        "           print(\"Insufficient balance\")\n",
        "    def re_balance(self):\n",
        "        return self.balance\n",
        "Obj = Bank(1000)\n",
        "print(Obj.balance)\n",
        "Obj.Deposit(500)\n",
        "print(Obj.balance)\n",
        "Obj.Withdraw(700)\n",
        "print(Obj.re_balance())\n",
        "Obj.Deposit(1000)\n",
        "print(\"Current total balance is\",Obj.balance)\n",
        "Obj.Withdraw(2000)\n",
        "print(Obj.balance)\n",
        "print(\"Transaction successfully\")\n",
        "print(\"current total balance is\",Obj.balance)\n",
        "Obj.Withdraw(1500)\n",
        "print(Obj.balance)\n",
        "print(\"Transaction successfully\")\n",
        "print(\"current total balance is\",Obj.balance)"
      ],
      "metadata": {
        "colab": {
          "base_uri": "https://localhost:8080/"
        },
        "id": "js5hKfA3Aw-9",
        "outputId": "ff4c60b7-e9b1-4fe2-c20d-5edecd61fbb1"
      },
      "execution_count": 12,
      "outputs": [
        {
          "output_type": "stream",
          "name": "stdout",
          "text": [
            "1000\n",
            "1500\n",
            "Transaction successfully\n",
            "800\n",
            "Current total balance is 1800\n",
            "Insufficient balance\n",
            "1800\n",
            "Transaction successfully\n",
            "current total balance is 1800\n",
            "Transaction successfully\n",
            "300\n",
            "Transaction successfully\n",
            "current total balance is 300\n"
          ]
        }
      ]
    },
    {
      "cell_type": "code",
      "source": [
        "# Encapsulation Example\n",
        "class Student :\n",
        "    def __init__(self,name,marks,place):\n",
        "        self.__name = name\n",
        "        self.__marks = marks\n",
        "        self.place = place\n",
        "\n",
        "    def set_method(self,name,marks):\n",
        "        self.name = name\n",
        "        self.marks = marks\n",
        "\n",
        "    def get_method(self):\n",
        "        return self.name +\" \"+str(self.marks)\n",
        "\n",
        "Obj = Student(\"Pramila\",85,\"Belagum\")\n",
        "Obj.set_method(\"Triveni\",70)\n",
        "print(Obj.get_method())"
      ],
      "metadata": {
        "colab": {
          "base_uri": "https://localhost:8080/"
        },
        "id": "pggEYn9CA2b9",
        "outputId": "bebcdbe2-f5f5-449c-957c-9ef4e59433d1"
      },
      "execution_count": 13,
      "outputs": [
        {
          "output_type": "stream",
          "name": "stdout",
          "text": [
            "Triveni 70\n"
          ]
        }
      ]
    },
    {
      "cell_type": "code",
      "source": [
        "# 1) Singal Inheritance\n",
        "class Parent :\n",
        "  def Work(self):\n",
        "    print(\"My parents are doing forming\")\n",
        "\n",
        "class Chilren(Parent):\n",
        "  def Study(self):\n",
        "    print(\"I'm studying BCA in BK College\")\n",
        "\n",
        "Ch = Chilren()\n",
        "Ch.Work()\n",
        "Ch.Study()\n"
      ],
      "metadata": {
        "colab": {
          "base_uri": "https://localhost:8080/"
        },
        "id": "YZXUSS-wA61V",
        "outputId": "600fd982-dc1c-4538-e92f-27232263d124"
      },
      "execution_count": 14,
      "outputs": [
        {
          "output_type": "stream",
          "name": "stdout",
          "text": [
            "My parents are doing forming\n",
            "I'm studying BCA in BK College\n"
          ]
        }
      ]
    },
    {
      "cell_type": "code",
      "source": [
        "# Multiple Inheritance\n",
        "class Father :\n",
        "  def Hi(self):\n",
        "    print(\"My father is my first hero\")\n",
        "class Mother :\n",
        "  def Hello(self):\n",
        "    print(\"My Mother is a House wife\")\n",
        "class child(Father,Mother):\n",
        "  def Bye(self):\n",
        "    print(\"I'm working as a Freelancer\")\n",
        "\n",
        "Obj = child()\n",
        "Obj.Hi()\n",
        "Obj.Hello()\n",
        "Obj.Bye()"
      ],
      "metadata": {
        "colab": {
          "base_uri": "https://localhost:8080/"
        },
        "id": "YsRshLZPBFTE",
        "outputId": "dafa73da-a2a8-4794-9b4c-21b5dc8e2152"
      },
      "execution_count": 15,
      "outputs": [
        {
          "output_type": "stream",
          "name": "stdout",
          "text": [
            "My father is my first hero\n",
            "My Mother is a House wife\n",
            "I'm working as a Freelancer\n"
          ]
        }
      ]
    },
    {
      "cell_type": "code",
      "source": [
        "# Multi Level Inheritance\n",
        "class Grand_Parents :\n",
        "  def Formar(self):\n",
        "    print(\"🌸🌸🌸🌸🌸\")\n",
        "class Parents (Grand_Parents) :\n",
        "  def House(self):\n",
        "    print(\" $ $ $ $ $\")\n",
        "class Child(Parents):\n",
        "  def Jolly(self):\n",
        "    print(\"@ @ @ @ @\")\n",
        "\n",
        "Obj = Child()\n",
        "Obj.Formar()\n",
        "Obj.House()\n",
        "Obj.Jolly()\n",
        ""
      ],
      "metadata": {
        "colab": {
          "base_uri": "https://localhost:8080/"
        },
        "id": "9yDZEuXNBLVk",
        "outputId": "a7871b58-fc60-4d39-f4d3-fc2e821ad805"
      },
      "execution_count": 17,
      "outputs": [
        {
          "output_type": "stream",
          "name": "stdout",
          "text": [
            "🌸🌸🌸🌸🌸\n",
            " $ $ $ $ $\n",
            "@ @ @ @ @\n"
          ]
        }
      ]
    },
    {
      "cell_type": "code",
      "source": [
        "# Hirarchy Inheritance\n",
        "class Parents :\n",
        "    def Bussiness(self):\n",
        "        print(\"My parents are doing Bussiness\")\n",
        "\n",
        "class Child1(Parents):\n",
        "  def Study(self):\n",
        "    print(\"I'm studying BCA\")\n",
        "\n",
        "class Child2(Parents):\n",
        "  def Study(self):\n",
        "    print(\"I'm studying PUC\")\n",
        "\n",
        "Obj1 = Child1()\n",
        "Obj2 = Child2()\n",
        "Obj1.Bussiness()\n",
        "Obj1.Study()\n",
        "Obj2.Bussiness()\n",
        "Obj2.Study()"
      ],
      "metadata": {
        "colab": {
          "base_uri": "https://localhost:8080/"
        },
        "id": "32YkRX7_BcRt",
        "outputId": "47123707-0a58-4332-c42e-2f76716d358b"
      },
      "execution_count": 18,
      "outputs": [
        {
          "output_type": "stream",
          "name": "stdout",
          "text": [
            "My parents are doing Bussiness\n",
            "I'm studying BCA\n",
            "My parents are doing Bussiness\n",
            "I'm studying PUC\n"
          ]
        }
      ]
    },
    {
      "cell_type": "code",
      "source": [
        "# Hybrid Inheritence\n",
        "class A:\n",
        "  def Hi(self):\n",
        "    print(\"Hiiiiiiiiiiiiiii\")\n",
        "\n",
        "\n",
        "class B(A):\n",
        "  def Hello(self):\n",
        "    print(\"Helloooooooooooo\")\n",
        "\n",
        "\n",
        "class C(A):\n",
        "  def Bye(self):\n",
        "    print(\"Byeeeeeeeeeeeeee\")\n",
        "\n",
        "\n",
        "class D(B,C):\n",
        "  def Good(self):\n",
        "    print(\"Gooddddddddddddd\")\n",
        "\n",
        "Obj = D()\n",
        "Obj.Hi()\n",
        "Obj.Hello()\n",
        "Obj.Bye()\n",
        "Obj.Good()"
      ],
      "metadata": {
        "colab": {
          "base_uri": "https://localhost:8080/"
        },
        "id": "b6prkTYTBjbs",
        "outputId": "dfca9ae2-e2ad-4b53-fcad-9615b285072d"
      },
      "execution_count": 19,
      "outputs": [
        {
          "output_type": "stream",
          "name": "stdout",
          "text": [
            "Hiiiiiiiiiiiiiii\n",
            "Helloooooooooooo\n",
            "Byeeeeeeeeeeeeee\n",
            "Gooddddddddddddd\n"
          ]
        }
      ]
    },
    {
      "cell_type": "code",
      "source": [
        "# Using default arguments to simulate method overloading\n",
        "class BCA_1St_Semester:\n",
        "    def student(self,a,b=0,c=0,d=0):\n",
        "        return a + b + c + d\n",
        "\n",
        "BCA = BCA_1St_Semester()\n",
        "print(BCA.student(5))\n",
        "print(BCA.student(10,7,8))\n",
        "print(BCA.student(-10,4,9,-5))\n",
        "print(BCA.student(99,0,4,-12))"
      ],
      "metadata": {
        "colab": {
          "base_uri": "https://localhost:8080/"
        },
        "id": "7jRkzbbMawrw",
        "outputId": "e564c17a-bb72-4767-d468-8b682f2a5466"
      },
      "execution_count": 38,
      "outputs": [
        {
          "output_type": "stream",
          "name": "stdout",
          "text": [
            "5\n",
            "25\n",
            "-2\n",
            "91\n"
          ]
        }
      ]
    },
    {
      "cell_type": "code",
      "source": [
        "# Run time / Method overriding\n",
        "class Animal:\n",
        "   def sound(self):\n",
        "     print(\"Animal makes a Sound\")\n",
        "class Dog :\n",
        "   def sound(self):\n",
        "     print(\"Bow Bow Bow Bow\")\n",
        "class Cat :\n",
        "   def sound(self):\n",
        "     print(\"Meow Meow Meow Meow\")\n",
        "class Snake :\n",
        "   def sound(self):\n",
        "     print(\"Busssssssssssssss\")\n",
        "class Cow :\n",
        "   def sound(self):\n",
        "     print(\"Ambbbbbbbbaaaaaaa\")\n",
        "class Goat :\n",
        "   def sound(self):\n",
        "     print(\"Bee Bee Bee Bee\")\n",
        "\n",
        "Obj1 = Animal()\n",
        "Obj2 = Dog()\n",
        "Obj3 = Cat()\n",
        "Obj4 = Snake()\n",
        "Obj5 = Cow()\n",
        "Obj6 = Goat()\n",
        "Obj1.sound()\n",
        "Obj2.sound()\n",
        "Obj3.sound()\n",
        "Obj4.sound()\n",
        "Obj5.sound()\n",
        "Obj6.sound()"
      ],
      "metadata": {
        "colab": {
          "base_uri": "https://localhost:8080/"
        },
        "id": "Pw0UYKbdcm_J",
        "outputId": "303c6779-83a4-465e-81aa-77aeb9daa054"
      },
      "execution_count": 37,
      "outputs": [
        {
          "output_type": "stream",
          "name": "stdout",
          "text": [
            "Animal makes a Sound\n",
            "Bow Bow Bow Bow\n",
            "Meow Meow Meow Meow\n",
            "Busssssssssssssss\n",
            "Ambbbbbbbbaaaaaaa\n",
            "Bee Bee Bee Bee\n"
          ]
        }
      ]
    },
    {
      "cell_type": "code",
      "source": [
        "# Operator Overloading polymorphism\n",
        "class Book :\n",
        "  def __init__(self,page):\n",
        "    self.page = page\n",
        "  def __add__(self,other):\n",
        "    return self.page + other.page\n",
        "\n",
        "Obj1 = Book(200)\n",
        "Obj2 = Book(300)\n",
        "print(\"Total pages is\",Obj1 + Obj2)\n"
      ],
      "metadata": {
        "colab": {
          "base_uri": "https://localhost:8080/"
        },
        "id": "MmZopu3JgEo7",
        "outputId": "3c5f9fcb-036f-4acb-e9ed-da2eba74984f"
      },
      "execution_count": 40,
      "outputs": [
        {
          "output_type": "stream",
          "name": "stdout",
          "text": [
            "Total pages is 500\n"
          ]
        }
      ]
    },
    {
      "cell_type": "code",
      "source": [
        "# Abstraction example\n",
        "from abc import ABC, abstractmethod\n",
        "class Vehicle(ABC):\n",
        "    def sound(self):\n",
        "       pass\n",
        "\n",
        "class Car (Vehicle):\n",
        "    def sound(self):\n",
        "       print(\"I'm driving a car\")\n",
        "\n",
        "Obj = Car()\n",
        "Obj.sound()"
      ],
      "metadata": {
        "colab": {
          "base_uri": "https://localhost:8080/"
        },
        "id": "ffDMLOgqn63w",
        "outputId": "0667cce0-2f92-4cdc-e853-899dc60ae65a"
      },
      "execution_count": 42,
      "outputs": [
        {
          "output_type": "stream",
          "name": "stdout",
          "text": [
            "I'm driving a car\n"
          ]
        }
      ]
    },
    {
      "cell_type": "code",
      "source": [
        "# Abstraction Example\n",
        "from abc import ABC, abstractmethod\n",
        "class Game(ABC):\n",
        "\n",
        "    # Normal function / method\n",
        "    def Free_fire(self):\n",
        "       print(\"Winner Winner Chicken Dinner\")\n",
        "\n",
        "    # Abstract function / method\n",
        "    def BGMI(self):\n",
        "       pass\n",
        "\n",
        "    # Normal function / Method\n",
        "    def Ludo_King(self):\n",
        "       print(\"I'm win the game\")\n",
        "\n",
        "    # BGMI function implemented by sub class\n",
        "    def BGMI(self):\n",
        "        print(\"I got Royal pass Diamond\")\n",
        "\n",
        "    # Normal function\n",
        "    def Chess(self):\n",
        "      print(\"I'm a district player\")\n",
        "\n",
        "\n",
        "Obj = Temple_Run()\n",
        "Obj.BGMI()\n",
        "Obj.Ludo_King()\n",
        "Obj.Chess()"
      ],
      "metadata": {
        "colab": {
          "base_uri": "https://localhost:8080/"
        },
        "id": "AzNKBma4pJMA",
        "outputId": "0b3ea34d-c3db-48a6-9bf1-db3388ff2dbd"
      },
      "execution_count": 53,
      "outputs": [
        {
          "output_type": "stream",
          "name": "stdout",
          "text": [
            "I got Royal pass Diamond\n",
            "I'm win the game\n",
            "I'm a district player\n"
          ]
        }
      ]
    },
    {
      "cell_type": "code",
      "source": [
        "for i in range(1,10,2):\n",
        "    print(i)"
      ],
      "metadata": {
        "colab": {
          "base_uri": "https://localhost:8080/"
        },
        "id": "mWKwG9tAxKaS",
        "outputId": "f22c7f43-8baf-447b-b0a2-f3c0565c678c"
      },
      "execution_count": 54,
      "outputs": [
        {
          "output_type": "stream",
          "name": "stdout",
          "text": [
            "1\n",
            "3\n",
            "5\n",
            "7\n",
            "9\n"
          ]
        }
      ]
    },
    {
      "cell_type": "code",
      "source": [
        "# QUIZ COMPITATION\n",
        "def ask_question(question, options, answer):\n",
        "    print(f\"\\n{question}\")\n",
        "    for key, value in options.items():\n",
        "        print(f\"{key}. {value}\")\n",
        "\n",
        "    user_choice = input(\"Enter your choice (a/b/c/d):\").lower()\n",
        "\n",
        "    match user_choice:\n",
        "        case 'a' | 'b' | 'c' | 'd':\n",
        "            if user_choice == answer:\n",
        "                print(\"✅ Correct answer\")\n",
        "                return 1\n",
        "            else:\n",
        "                print(\"❌ Wrong answer\")\n",
        "                return 0\n",
        "        case _:\n",
        "            print(\"⚠️ Invalid choice\")\n",
        "            return 0\n",
        "\n",
        "print(\"Welcome to Python Quiz Competition\")\n",
        "player_name = input(\"Enter your name: \")\n",
        "score = 0\n",
        "questions = [\n",
        "    {\"q\": \"1)Which of the following is a valid variable name?\",\n",
        "     \"options\": {\"a\": \"lvar\", \"b\": \"varl\", \"c\": \"var-l\", \"d\": \"varl\"}, \"ans\": \"b\"},\n",
        "\n",
        "    {\"q\": \"2) What is the output of: x=5; x+=3; print(x)\",\n",
        "     \"options\": {\"a\": \"8\", \"b\": \"53\", \"c\": \"5\", \"d\": \"Error\"}, \"ans\": \"a\"},\n",
        "\n",
        "    {\"q\": \"3) Which of the following is immutable?\",\n",
        "     \"options\": {\"a\": \"List\", \"b\": \"Set\", \"c\": \"Tuple\", \"d\": \"Dictionary\"}, \"ans\": \"c\"},\n",
        "\n",
        "    {\"q\": \"4) Type of 3.14 in Python?\",\n",
        "     \"options\": {\"a\": \"int\", \"b\": \"float\", \"c\": \"complex\", \"d\": \"double\"}, \"ans\": \"b\"},\n",
        "\n",
        "    {\"q\": \"5) Which of these is a dictionary?\",\n",
        "     \"options\": {\"a\": \"[1,2,3]\", \"b\": \"(1,2,3)\", \"c\": \"{'a':1}\", \"d\": \"{1,2,3}\"}, \"ans\": \"c\"},\n",
        "\n",
        "    {\"q\": \"6) What is output of len({1,2,3,4})?\",\n",
        "     \"options\": {\"a\": \"3\", \"b\": \"4\", \"c\": \"Error\", \"d\": \"0\"}, \"ans\": \"b\"},\n",
        "\n",
        "    {\"q\": \"7) Output of 5**2?\",\n",
        "     \"options\": {\"a\": \"10\", \"b\": \"25\", \"c\": \"7\", \"d\": \"52\"}, \"ans\": \"b\"},\n",
        "\n",
        "    {\"q\": \"8) Which operator is floor division?\",\n",
        "     \"options\": {\"a\": \"/\", \"b\": \"//\", \"c\": \"%\", \"d\": \"**\"}, \"ans\": \"b\"},\n",
        "\n",
        "    {\"q\": \"9) Output of:if 5>3:\\n print('yes')\",\n",
        "     \"options\": {\"a\": \"Yes\", \"b\": \"No\", \"c\": \"Error\", \"d\": \"5>3\"}, \"ans\": \"a\"},\n",
        "\n",
        "    {\"q\": \"10) Which keyword is used for else-if?\",\n",
        "     \"options\": {\"a\": \"elseif\", \"b\": \"elif\", \"c\": \"elifse\", \"d\": \"elifse\"}, \"ans\": \"b\"},\n",
        "\n",
        "    {\"q\": \"11) Which loop is used when number of iterations is known?\",\n",
        "     \"options\": {\"a\": \"for\", \"b\": \"while\", \"c\": \"do-while\", \"d\": \"None\"}, \"ans\": \"a\"},\n",
        "\n",
        "    {\"q\": \"12) How to exit a loop immediately?\",\n",
        "     \"options\": {\"a\": \"stop\", \"b\": \"break\", \"c\": \"exit\", \"d\": \"return\"}, \"ans\": \"b\"},\n",
        "\n",
        "    {\"q\": \"13) Keyword to define a function?\",\n",
        "     \"options\": {\"a\": \"function\", \"b\": \"def\", \"c\": \"fun\", \"d\": \"define\"}, \"ans\": \"b\"},\n",
        "\n",
        "    {\"q\": \"14)Function that returns nothing?\",\n",
        "     \"options\": {\"a\": \"return None\", \"b\": \"void\", \"c\": \"pass\", \"d\": \"All of the above\"}, \"ans\": \"a\"},\n",
        "\n",
        "    {\"q\": \"15) Which method is the constructor in Python class?\",\n",
        "     \"options\": {\"a\": \"__init__\", \"b\": \"__start__\", \"c\": \"__create__\", \"d\": \"constructor\"}, \"ans\": \"a\"},\n",
        "\n",
        "    {\"q\": \"16) Which of these is inheritance example?\",\n",
        "     \"options\": {\"a\": \"class A:\\n pass\\nclass B(A):\\n pass\", \"b\": \"x=5\", \"c\": \"def fun():pass\", \"d\": \"if True:pass\"}, \"ans\": \"a\"},\n",
        "\n",
        "    {\"q\": \"17) What is the type of True?\",\n",
        "     \"options\": {\"a\": \"int\", \"b\": \"bool\", \"c\": \"str\", \"d\": \"float\"}, \"ans\": \"b\"},\n",
        "\n",
        "    {\"q\": \"18) Which collection type allows duplicates?\",\n",
        "     \"options\": {\"a\": \"Set\", \"b\": \"Dictionary\", \"c\": \"List\", \"d\": \"Tuple\"}, \"ans\": \"c\"},\n",
        "\n",
        "    {\"q\": \"19) Output of 10%3?\",\n",
        "     \"options\": {\"a\": \"3\", \"b\": \"1\", \"c\": \"0\", \"d\": \"Error\"}, \"ans\": \"b\"},\n",
        "\n",
        "    {\"q\": \"20)if 5>10:\\n print('Yes')\\nelse:\\n print('No')\",\n",
        "     \"options\": {\"a\": \"Yes\", \"b\": \"No\", \"c\": \"Error\", \"d\": \"5>10\"}, \"ans\": \"b\"},\n",
        "\n",
        "    {\"q\": \"21) Output of:\\nfor i in range(3):\\n print(i)\",\n",
        "     \"options\": {\"a\": \"1 2 3\", \"b\": \"0 1 2\", \"c\": \"0 1 2 3\", \"d\": \"1 2\"}, \"ans\": \"b\"},\n",
        "\n",
        "    {\"q\": \"22) Encapsulation in Python is done by?\",\n",
        "     \"options\": {\"a\": \"Private Variables\", \"b\": \"Inheritance\", \"c\": \"Polymorphism\", \"d\": \"Abstraction\"}, \"ans\": \"a\"},\n",
        "\n",
        "    {\"q\": \"23) Polymorphism means?\",\n",
        "     \"options\": {\"a\": \"Multiple forms\", \"b\": \"Single form\", \"c\": \"Inheritance\", \"d\": \"Encapsulation\"}, \"ans\": \"a\"},\n",
        "\n",
        "    {\"q\": \"24) Dynamic typing means?\",\n",
        "     \"options\": {\"a\": \"Type assigned at runtime\", \"b\": \"Type assigned at compile-time\", \"c\": \"Fixed type\", \"d\": \"Error\"}, \"ans\": \"a\"},\n",
        "\n",
        "    {\"q\": \"25) Type of None?\",\n",
        "     \"options\": {\"a\": \"int\", \"b\": \"str\", \"c\": \"NoneType\", \"d\": \"bool\"}, \"ans\": \"c\"},\n",
        "\n",
        "    {\"q\": \"26) How to access lst element of list l=[10,20]?\",\"options\":\n",
        "     {\"a\":\"l[0]\",\"b\":\"l[l]\",\"c\":\"l[-l]\",\"d\":\"l.first\"},\"ans\":\"a\"},\n",
        "\n",
        "    {\"q\": \"27) Which operator is used for logical AND?\",\n",
        "     \"options\": {\"a\": \"and\", \"b\": \"&\", \"c\": \"&&\", \"d\": \"|\"}, \"ans\": \"a\"},\n",
        "\n",
        "    {\"q\": \"28) Output:x=5;print('yes' if x>0 else 'no')\",\n",
        "     \"options\": {\"a\": \"Yes\", \"b\": \"No\", \"c\": \"Error\", \"d\": \"5\"}, \"ans\": \"a\"},\n",
        "\n",
        "    {\"q\": \"29) Output\\ni=0\\nwhile i<3:\\n print(i)\\n i+=1\",\n",
        "     \"options\": {\"a\": \"0 1 2\", \"b\": \"1 2 3\", \"c\": \"0 1 2 3\", \"d\": \"Error\"}, \"ans\": \"a\"},\n",
        "\n",
        "    {\"q\": \"30) Which returnsa value?\",\n",
        "     \"options\": {\"a\": \"print()\", \"b\": \"return\", \"c\": \"pass\", \"d\": \"input()\"}, \"ans\": \"b\"},\n",
        "\n",
        "    {\"q\": \"31) Abstaction means?\",\n",
        "     \"options\": {\"a\": \"Hiding implimentation\", \"b\": \"Overloadinding\", \"c\": \"Inheritance\", \"d\": \"polymorphism\"}, \"ans\": \"a\"},\n",
        "\n",
        "    {\"q\": \"32) Which is mutable string type?\",\n",
        "     \"options\": {\"a\": \"str\", \"b\": \"list\", \"c\": \"tuple\", \"d\": \"int\"}, \"ans\": \"b\"},\n",
        "\n",
        "    {\"q\": \"33) Which keyboard is used to inherit?\",\n",
        "     \"options\": {\"a\": \"inherits\", \"b\": \"super\", \"c\": \"classB(A)\", \"d\": \"extends\"}, \"ans\": \"c\"},\n",
        "\n",
        "    {\"q\": \"34) Output of bool()\",\n",
        "     \"options\": {\"a\": \"True\", \"b\": \"False\", \"c\": \"None\", \"d\": \"Error\"}, \"ans\": \"b\"},\n",
        "\n",
        "    {\"q\": \"35) What does pass do?\",\n",
        "     \"options\": {\"a\": \"Skip\", \"b\": \"Exit\", \"c\": \"Print\", \"d\": \"Return\"}, \"ans\": \"a\"},\n",
        "\n",
        "    {\"q\": \"36) How to create a tuple with single element?\",\n",
        "     \"options\": {\"a\": \"(l)\", \"b\": \"(l,)\", \"c\": \"[l]\", \"d\": \"{l}\"}, \"ans\": \"b\"},\n",
        "\n",
        "    {\"q\": \"37) Output of 2*3**2?\",\n",
        "     \"options\": {\"a\": \"36\", \"b\": \"18\", \"c\": \"12\", \"d\": \"None\"}, \"ans\": \"b\"},\n",
        "\n",
        "    {\"q\": \"38) Which of these is not keyword?\",\n",
        "     \"options\": {\"a\": \"pass\", \"b\": \"eval\", \"c\": \"assert\", \"d\": \"return\"}, \"ans\": \"b\"},\n",
        "\n",
        "    {\"q\": \"39) Which method converts string to lowercase?\",\n",
        "     \"options\": {\"a\": \"lower()\", \"b\": \"up()\", \"c\": \"capitalize()\", \"d\": \"lowercase()\"}, \"ans\": \"a\"},\n",
        "\n",
        "    {\"q\": \"40) Which collection stores key-value pairs?\",\n",
        "     \"options\": {\"a\": \"List\", \"b\": \"Tuple\", \"c\": \"Dictionary\", \"d\": \"Set\"}, \"ans\": \"c\"}\n",
        "]\n",
        "\n",
        "for q in questions:\n",
        "    score += ask_question(q[\"q\"], q[\"options\"], q[\"ans\"])\n",
        "\n",
        "print(\"\\n----- RESULT -----\")\n",
        "print(f\"Player: {player_name}\")\n",
        "print(f\"Your Score: {score}/{len(questions)}\")\n",
        "\n",
        "if score == len(questions):\n",
        "    print(\"🏆 Excellent! Full Marks\")\n",
        "elif score >= 25:\n",
        "    print(\"👍 Good Job, Keep Practicing!\")\n",
        "else:\n",
        "    print(\"✍️ Needs Improvement!\")"
      ],
      "metadata": {
        "colab": {
          "base_uri": "https://localhost:8080/"
        },
        "id": "KNZGd0DWz5rG",
        "outputId": "c7210804-c841-4693-b2d6-b4dce7f5b037"
      },
      "execution_count": 6,
      "outputs": [
        {
          "output_type": "stream",
          "name": "stdout",
          "text": [
            "Welcome to Python Quiz Competition\n",
            "Enter your name: Pramila\n",
            "\n",
            "1)Which of the following is a valid variable name?\n",
            "a. lvar\n",
            "b. varl\n",
            "c. var-l\n",
            "d. varl\n",
            "Enter your choice (a/b/c/d):b\n",
            "✅ Correct answer\n",
            "\n",
            "2) What is the output of: x=5; x+=3; print(x)\n",
            "a. 8\n",
            "b. 53\n",
            "c. 5\n",
            "d. Error\n",
            "Enter your choice (a/b/c/d):a\n",
            "✅ Correct answer\n",
            "\n",
            "3) Which of the following is immutable?\n",
            "a. List\n",
            "b. Set\n",
            "c. Tuple\n",
            "d. Dictionary\n",
            "Enter your choice (a/b/c/d):c\n",
            "✅ Correct answer\n",
            "\n",
            "4) Type of 3.14 in Python?\n",
            "a. int\n",
            "b. float\n",
            "c. complex\n",
            "d. double\n",
            "Enter your choice (a/b/c/d):b\n",
            "✅ Correct answer\n",
            "\n",
            "5) Which of these is a dictionary?\n",
            "a. [1,2,3]\n",
            "b. (1,2,3)\n",
            "c. {'a':1}\n",
            "d. {1,2,3}\n",
            "Enter your choice (a/b/c/d):c\n",
            "✅ Correct answer\n",
            "\n",
            "6) What is output of len({1,2,3,4})?\n",
            "a. 3\n",
            "b. 4\n",
            "c. Error\n",
            "d. 0\n",
            "Enter your choice (a/b/c/d):b\n",
            "✅ Correct answer\n",
            "\n",
            "7) Output of 5**2?\n",
            "a. 10\n",
            "b. 25\n",
            "c. 7\n",
            "d. 52\n",
            "Enter your choice (a/b/c/d):b\n",
            "✅ Correct answer\n",
            "\n",
            "8) Which operator is floor division?\n",
            "a. /\n",
            "b. //\n",
            "c. %\n",
            "d. **\n",
            "Enter your choice (a/b/c/d):b\n",
            "✅ Correct answer\n",
            "\n",
            "9) Output of:if 5>3:\n",
            " print('yes')\n",
            "a. Yes\n",
            "b. No\n",
            "c. Error\n",
            "d. 5>3\n",
            "Enter your choice (a/b/c/d):b\n",
            "❌ Wrong answer\n",
            "\n",
            "10) Which keyword is used for else-if?\n",
            "a. elseif\n",
            "b. elif\n",
            "c. elifse\n",
            "d. elifse\n",
            "Enter your choice (a/b/c/d):b\n",
            "✅ Correct answer\n",
            "\n",
            "11) Which loop is used when number of iterations is known?\n",
            "a. for\n",
            "b. while\n",
            "c. do-while\n",
            "d. None\n",
            "Enter your choice (a/b/c/d):a\n",
            "✅ Correct answer\n",
            "\n",
            "12) How to exit a loop immediately?\n",
            "a. stop\n",
            "b. break\n",
            "c. exit\n",
            "d. return\n",
            "Enter your choice (a/b/c/d):b\n",
            "✅ Correct answer\n",
            "\n",
            "13) Keyword to define a function?\n",
            "a. function\n",
            "b. def\n",
            "c. fun\n",
            "d. define\n",
            "Enter your choice (a/b/c/d):b\n",
            "✅ Correct answer\n",
            "\n",
            "14)Function that returns nothing?\n",
            "a. return None\n",
            "b. void\n",
            "c. pass\n",
            "d. All of the above\n",
            "Enter your choice (a/b/c/d):a\n",
            "✅ Correct answer\n",
            "\n",
            "15) Which method is the constructor in Python class?\n",
            "a. __init__\n",
            "b. __start__\n",
            "c. __create__\n",
            "d. constructor\n",
            "Enter your choice (a/b/c/d):a\n",
            "✅ Correct answer\n",
            "\n",
            "16) Which of these is inheritance example?\n",
            "a. class A:\n",
            " pass\n",
            "class B(A):\n",
            " pass\n",
            "b. x=5\n",
            "c. def fun():pass\n",
            "d. if True:pass\n",
            "Enter your choice (a/b/c/d):a\n",
            "✅ Correct answer\n",
            "\n",
            "17) What is the type of True?\n",
            "a. int\n",
            "b. bool\n",
            "c. str\n",
            "d. float\n",
            "Enter your choice (a/b/c/d):b\n",
            "✅ Correct answer\n",
            "\n",
            "18) Which collection type allows duplicates?\n",
            "a. Set\n",
            "b. Dictionary\n",
            "c. List\n",
            "d. Tuple\n",
            "Enter your choice (a/b/c/d):c\n",
            "✅ Correct answer\n",
            "\n",
            "19) Output of 10%3?\n",
            "a. 3\n",
            "b. 1\n",
            "c. 0\n",
            "d. Error\n",
            "Enter your choice (a/b/c/d):b\n",
            "✅ Correct answer\n",
            "\n",
            "20)if 5>10:\n",
            " print('Yes')\n",
            "else:\n",
            " print('No')\n",
            "a. Yes\n",
            "b. No\n",
            "c. Error\n",
            "d. 5>10\n",
            "Enter your choice (a/b/c/d):b\n",
            "✅ Correct answer\n",
            "\n",
            "21) Output of:\n",
            "for i in range(3):\n",
            " print(i)\n",
            "a. 1 2 3\n",
            "b. 0 1 2\n",
            "c. 0 1 2 3\n",
            "d. 1 2\n",
            "Enter your choice (a/b/c/d):b\n",
            "✅ Correct answer\n",
            "\n",
            "22) Encapsulation in Python is done by?\n",
            "a. Private Variables\n",
            "b. Inheritance\n",
            "c. Polymorphism\n",
            "d. Abstraction\n",
            "Enter your choice (a/b/c/d):b\n",
            "❌ Wrong answer\n",
            "\n",
            "23) Polymorphism means?\n",
            "a. Multiple forms\n",
            "b. Single form\n",
            "c. Inheritance\n",
            "d. Encapsulation\n",
            "Enter your choice (a/b/c/d):a\n",
            "✅ Correct answer\n",
            "\n",
            "24) Dynamic typing means?\n",
            "a. Type assigned at runtime\n",
            "b. Type assigned at compile-time\n",
            "c. Fixed type\n",
            "d. Error\n",
            "Enter your choice (a/b/c/d):a\n",
            "✅ Correct answer\n",
            "\n",
            "25) Type of None?\n",
            "a. int\n",
            "b. str\n",
            "c. NoneType\n",
            "d. bool\n",
            "Enter your choice (a/b/c/d):c\n",
            "✅ Correct answer\n",
            "\n",
            "26) How to access lst element of list l=[10,20]?\n",
            "a. l[0]\n",
            "b. l[l]\n",
            "c. l[-l]\n",
            "d. l.first\n",
            "Enter your choice (a/b/c/d):a\n",
            "✅ Correct answer\n",
            "\n",
            "27) Which operator is used for logical AND?\n",
            "a. and\n",
            "b. &\n",
            "c. &&\n",
            "d. |\n",
            "Enter your choice (a/b/c/d):a\n",
            "✅ Correct answer\n",
            "\n",
            "28) Output:x=5;print('yes' if x>0 else 'no')\n",
            "a. Yes\n",
            "b. No\n",
            "c. Error\n",
            "d. 5\n",
            "Enter your choice (a/b/c/d):a\n",
            "✅ Correct answer\n",
            "\n",
            "29) Output\n",
            "i=0\n",
            "while i<3:\n",
            " print(i)\n",
            " i+=1\n",
            "a. 0 1 2\n",
            "b. 1 2 3\n",
            "c. 0 1 2 3\n",
            "d. Error\n",
            "Enter your choice (a/b/c/d):a\n",
            "✅ Correct answer\n",
            "\n",
            "30) Which returnsa value?\n",
            "a. print()\n",
            "b. return\n",
            "c. pass\n",
            "d. input()\n",
            "Enter your choice (a/b/c/d):b\n",
            "✅ Correct answer\n",
            "\n",
            "31) Abstaction means?\n",
            "a. Hiding implimentation\n",
            "b. Overloadinding\n",
            "c. Inheritance\n",
            "d. polymorphism\n",
            "Enter your choice (a/b/c/d):a\n",
            "✅ Correct answer\n",
            "\n",
            "32) Which is mutable string type?\n",
            "a. str\n",
            "b. list\n",
            "c. tuple\n",
            "d. int\n",
            "Enter your choice (a/b/c/d):b\n",
            "✅ Correct answer\n",
            "\n",
            "33) Which keyboard is used to inherit?\n",
            "a. inherits\n",
            "b. super\n",
            "c. classB(A)\n",
            "d. extends\n",
            "Enter your choice (a/b/c/d):c\n",
            "✅ Correct answer\n",
            "\n",
            "34) Output of bool()\n",
            "a. True\n",
            "b. False\n",
            "c. None\n",
            "d. Error\n",
            "Enter your choice (a/b/c/d):b\n",
            "✅ Correct answer\n",
            "\n",
            "35) What does pass do?\n",
            "a. Skip\n",
            "b. Exit\n",
            "c. Print\n",
            "d. Return\n",
            "Enter your choice (a/b/c/d):a\n",
            "✅ Correct answer\n",
            "\n",
            "36) How to create a tuple with single element?\n",
            "a. (l)\n",
            "b. (l,)\n",
            "c. [l]\n",
            "d. {l}\n",
            "Enter your choice (a/b/c/d):b\n",
            "✅ Correct answer\n",
            "\n",
            "37) Output of 2*3**2?\n",
            "a. 36\n",
            "b. 18\n",
            "c. 12\n",
            "d. None\n",
            "Enter your choice (a/b/c/d):b\n",
            "✅ Correct answer\n",
            "\n",
            "38) Which of these is not keyword?\n",
            "a. pass\n",
            "b. eval\n",
            "c. assert\n",
            "d. return\n",
            "Enter your choice (a/b/c/d):a\n",
            "❌ Wrong answer\n",
            "\n",
            "39) Which method converts string to lowercase?\n",
            "a. lower()\n",
            "b. up()\n",
            "c. capitalize()\n",
            "d. lowercase()\n",
            "Enter your choice (a/b/c/d):a\n",
            "✅ Correct answer\n",
            "\n",
            "40) Which collection stores key-value pairs?\n",
            "a. List\n",
            "b. Tuple\n",
            "c. Dictionary\n",
            "d. Set\n",
            "Enter your choice (a/b/c/d):c\n",
            "✅ Correct answer\n",
            "\n",
            "----- RESULT -----\n",
            "Player: Pramila\n",
            "Your Score: 37/40\n",
            "👍 Good Job, Keep Practicing!\n"
          ]
        }
      ]
    }
  ],
  "metadata": {
    "colab": {
      "provenance": []
    },
    "kernelspec": {
      "display_name": "Python 3",
      "name": "python3"
    },
    "language_info": {
      "name": "python"
    }
  },
  "nbformat": 4,
  "nbformat_minor": 0
}